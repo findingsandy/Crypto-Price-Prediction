{
 "cells": [
  {
   "cell_type": "markdown",
   "metadata": {
    "id": "adyW5wnSPokQ"
   },
   "source": [
    "<h2> <b>Student ID: </b> 20009075\n",
    "<h2> <b>Name: </b> Venkata Sandilya Bagavathula"
   ]
  },
  {
   "cell_type": "markdown",
   "metadata": {
    "id": "UprSljsBzdKA"
   },
   "source": [
    "**<h1><center> Crypto Coins Price Prediction using Machine Learning Model </center></h1>** "
   ]
  },
  {
   "cell_type": "markdown",
   "metadata": {
    "id": "0wIhfZsEPmOB"
   },
   "source": [
    "<h3> <b>Import Required Libraries</b></h3>"
   ]
  },
  {
   "cell_type": "code",
   "execution_count": 1,
   "metadata": {
    "id": "BzGLPNwBQzrN"
   },
   "outputs": [],
   "source": [
    "import os\n",
    "import pandas as pd\n",
    "import numpy as np\n",
    "import math\n",
    "import datetime as dt\n",
    "import matplotlib.pyplot as plt\n",
    "\n",
    "from sklearn.metrics import mean_squared_error, mean_absolute_error, explained_variance_score, r2_score \n",
    "from sklearn.metrics import mean_poisson_deviance, mean_gamma_deviance, accuracy_score\n",
    "from sklearn.preprocessing import MinMaxScaler\n",
    "\n",
    "import tensorflow as tf\n",
    "from tensorflow.keras.models import Sequential\n",
    "from tensorflow.keras.layers import Dense, Dropout\n",
    "from tensorflow.keras.layers import LSTM\n",
    "\n",
    "import matplotlib.pyplot as plt\n",
    "from itertools import cycle\n",
    "import plotly.graph_objects as go\n",
    "import plotly.express as px\n",
    "from plotly.subplots import make_subplots"
   ]
  },
  {
   "cell_type": "markdown",
   "metadata": {
    "id": "DFTSSurpTr6b"
   },
   "source": [
    "<h3> <b>Loading Dataset </b></h3>\n",
    "\n",
    "*   We will be using the dataset from Yahoo Finance to obtain data for crypto coins.\n",
    "*   For our easy reference, here we're going with below Bitcoin prediction:\n",
    "   https://finance.yahoo.com/quote/BTC-USD/history?p=BTC-USD\n",
    "*   I've kept the dataset in the same directory.*italicized text*\n"
   ]
  },
  {
   "cell_type": "code",
   "execution_count": 3,
   "metadata": {
    "id": "ms0UlcI_UXig"
   },
   "outputs": [],
   "source": [
    "maindf = pd.read_csv('/content/BTC-USD-2.csv')"
   ]
  },
  {
   "cell_type": "markdown",
   "metadata": {
    "id": "j5o55SGiWqSv"
   },
   "source": [
    "<h3><b> Viewing the Dataset </b></h3>"
   ]
  },
  {
   "cell_type": "code",
   "execution_count": 4,
   "metadata": {
    "colab": {
     "base_uri": "https://localhost:8080/"
    },
    "id": "EaoMLS4yWz6u",
    "outputId": "0c5d0e22-db2a-416c-967b-c9ab27bce726"
   },
   "outputs": [
    {
     "name": "stdout",
     "output_type": "stream",
     "text": [
      "Number of Days:  365\n",
      "Number of fields:  7\n"
     ]
    }
   ],
   "source": [
    "print('Number of Days: ',maindf.shape[0])\n",
    "print('Number of fields: ',maindf.shape[1])"
   ]
  },
  {
   "cell_type": "code",
   "execution_count": 5,
   "metadata": {
    "colab": {
     "base_uri": "https://localhost:8080/",
     "height": 206
    },
    "id": "mBUQABuMXnaY",
    "outputId": "0f961d74-17a5-4173-c981-ff88f337e189"
   },
   "outputs": [
    {
     "data": {
      "text/html": [
       "\n",
       "  <div id=\"df-f67b58b5-6a00-4ef2-bd70-35d3e285146a\">\n",
       "    <div class=\"colab-df-container\">\n",
       "      <div>\n",
       "<style scoped>\n",
       "    .dataframe tbody tr th:only-of-type {\n",
       "        vertical-align: middle;\n",
       "    }\n",
       "\n",
       "    .dataframe tbody tr th {\n",
       "        vertical-align: top;\n",
       "    }\n",
       "\n",
       "    .dataframe thead th {\n",
       "        text-align: right;\n",
       "    }\n",
       "</style>\n",
       "<table border=\"1\" class=\"dataframe\">\n",
       "  <thead>\n",
       "    <tr style=\"text-align: right;\">\n",
       "      <th></th>\n",
       "      <th>Date</th>\n",
       "      <th>Open</th>\n",
       "      <th>High</th>\n",
       "      <th>Low</th>\n",
       "      <th>Close</th>\n",
       "      <th>Adj Close</th>\n",
       "      <th>Volume</th>\n",
       "    </tr>\n",
       "  </thead>\n",
       "  <tbody>\n",
       "    <tr>\n",
       "      <th>0</th>\n",
       "      <td>2021-12-17</td>\n",
       "      <td>47653.730469</td>\n",
       "      <td>48004.894531</td>\n",
       "      <td>45618.214844</td>\n",
       "      <td>46202.144531</td>\n",
       "      <td>46202.144531</td>\n",
       "      <td>32902725329</td>\n",
       "    </tr>\n",
       "    <tr>\n",
       "      <th>1</th>\n",
       "      <td>2021-12-18</td>\n",
       "      <td>46219.253906</td>\n",
       "      <td>47313.828125</td>\n",
       "      <td>45598.441406</td>\n",
       "      <td>46848.777344</td>\n",
       "      <td>46848.777344</td>\n",
       "      <td>26098292690</td>\n",
       "    </tr>\n",
       "    <tr>\n",
       "      <th>2</th>\n",
       "      <td>2021-12-19</td>\n",
       "      <td>46853.867188</td>\n",
       "      <td>48089.664063</td>\n",
       "      <td>46502.953125</td>\n",
       "      <td>46707.015625</td>\n",
       "      <td>46707.015625</td>\n",
       "      <td>25154053861</td>\n",
       "    </tr>\n",
       "    <tr>\n",
       "      <th>3</th>\n",
       "      <td>2021-12-20</td>\n",
       "      <td>46707.062500</td>\n",
       "      <td>47401.718750</td>\n",
       "      <td>45579.808594</td>\n",
       "      <td>46880.277344</td>\n",
       "      <td>46880.277344</td>\n",
       "      <td>30961902129</td>\n",
       "    </tr>\n",
       "    <tr>\n",
       "      <th>4</th>\n",
       "      <td>2021-12-21</td>\n",
       "      <td>46886.078125</td>\n",
       "      <td>49300.917969</td>\n",
       "      <td>46698.773438</td>\n",
       "      <td>48936.613281</td>\n",
       "      <td>48936.613281</td>\n",
       "      <td>27055803928</td>\n",
       "    </tr>\n",
       "  </tbody>\n",
       "</table>\n",
       "</div>\n",
       "      <button class=\"colab-df-convert\" onclick=\"convertToInteractive('df-f67b58b5-6a00-4ef2-bd70-35d3e285146a')\"\n",
       "              title=\"Convert this dataframe to an interactive table.\"\n",
       "              style=\"display:none;\">\n",
       "        \n",
       "  <svg xmlns=\"http://www.w3.org/2000/svg\" height=\"24px\"viewBox=\"0 0 24 24\"\n",
       "       width=\"24px\">\n",
       "    <path d=\"M0 0h24v24H0V0z\" fill=\"none\"/>\n",
       "    <path d=\"M18.56 5.44l.94 2.06.94-2.06 2.06-.94-2.06-.94-.94-2.06-.94 2.06-2.06.94zm-11 1L8.5 8.5l.94-2.06 2.06-.94-2.06-.94L8.5 2.5l-.94 2.06-2.06.94zm10 10l.94 2.06.94-2.06 2.06-.94-2.06-.94-.94-2.06-.94 2.06-2.06.94z\"/><path d=\"M17.41 7.96l-1.37-1.37c-.4-.4-.92-.59-1.43-.59-.52 0-1.04.2-1.43.59L10.3 9.45l-7.72 7.72c-.78.78-.78 2.05 0 2.83L4 21.41c.39.39.9.59 1.41.59.51 0 1.02-.2 1.41-.59l7.78-7.78 2.81-2.81c.8-.78.8-2.07 0-2.86zM5.41 20L4 18.59l7.72-7.72 1.47 1.35L5.41 20z\"/>\n",
       "  </svg>\n",
       "      </button>\n",
       "      \n",
       "  <style>\n",
       "    .colab-df-container {\n",
       "      display:flex;\n",
       "      flex-wrap:wrap;\n",
       "      gap: 12px;\n",
       "    }\n",
       "\n",
       "    .colab-df-convert {\n",
       "      background-color: #E8F0FE;\n",
       "      border: none;\n",
       "      border-radius: 50%;\n",
       "      cursor: pointer;\n",
       "      display: none;\n",
       "      fill: #1967D2;\n",
       "      height: 32px;\n",
       "      padding: 0 0 0 0;\n",
       "      width: 32px;\n",
       "    }\n",
       "\n",
       "    .colab-df-convert:hover {\n",
       "      background-color: #E2EBFA;\n",
       "      box-shadow: 0px 1px 2px rgba(60, 64, 67, 0.3), 0px 1px 3px 1px rgba(60, 64, 67, 0.15);\n",
       "      fill: #174EA6;\n",
       "    }\n",
       "\n",
       "    [theme=dark] .colab-df-convert {\n",
       "      background-color: #3B4455;\n",
       "      fill: #D2E3FC;\n",
       "    }\n",
       "\n",
       "    [theme=dark] .colab-df-convert:hover {\n",
       "      background-color: #434B5C;\n",
       "      box-shadow: 0px 1px 3px 1px rgba(0, 0, 0, 0.15);\n",
       "      filter: drop-shadow(0px 1px 2px rgba(0, 0, 0, 0.3));\n",
       "      fill: #FFFFFF;\n",
       "    }\n",
       "  </style>\n",
       "\n",
       "      <script>\n",
       "        const buttonEl =\n",
       "          document.querySelector('#df-f67b58b5-6a00-4ef2-bd70-35d3e285146a button.colab-df-convert');\n",
       "        buttonEl.style.display =\n",
       "          google.colab.kernel.accessAllowed ? 'block' : 'none';\n",
       "\n",
       "        async function convertToInteractive(key) {\n",
       "          const element = document.querySelector('#df-f67b58b5-6a00-4ef2-bd70-35d3e285146a');\n",
       "          const dataTable =\n",
       "            await google.colab.kernel.invokeFunction('convertToInteractive',\n",
       "                                                     [key], {});\n",
       "          if (!dataTable) return;\n",
       "\n",
       "          const docLinkHtml = 'Like what you see? Visit the ' +\n",
       "            '<a target=\"_blank\" href=https://colab.research.google.com/notebooks/data_table.ipynb>data table notebook</a>'\n",
       "            + ' to learn more about interactive tables.';\n",
       "          element.innerHTML = '';\n",
       "          dataTable['output_type'] = 'display_data';\n",
       "          await google.colab.output.renderOutput(dataTable, element);\n",
       "          const docLink = document.createElement('div');\n",
       "          docLink.innerHTML = docLinkHtml;\n",
       "          element.appendChild(docLink);\n",
       "        }\n",
       "      </script>\n",
       "    </div>\n",
       "  </div>\n",
       "  "
      ],
      "text/plain": [
       "         Date          Open          High           Low         Close  \\\n",
       "0  2021-12-17  47653.730469  48004.894531  45618.214844  46202.144531   \n",
       "1  2021-12-18  46219.253906  47313.828125  45598.441406  46848.777344   \n",
       "2  2021-12-19  46853.867188  48089.664063  46502.953125  46707.015625   \n",
       "3  2021-12-20  46707.062500  47401.718750  45579.808594  46880.277344   \n",
       "4  2021-12-21  46886.078125  49300.917969  46698.773438  48936.613281   \n",
       "\n",
       "      Adj Close       Volume  \n",
       "0  46202.144531  32902725329  \n",
       "1  46848.777344  26098292690  \n",
       "2  46707.015625  25154053861  \n",
       "3  46880.277344  30961902129  \n",
       "4  48936.613281  27055803928  "
      ]
     },
     "execution_count": 5,
     "metadata": {},
     "output_type": "execute_result"
    }
   ],
   "source": [
    "# Starting data from the dataset\n",
    "maindf.head()"
   ]
  },
  {
   "cell_type": "code",
   "execution_count": 6,
   "metadata": {
    "colab": {
     "base_uri": "https://localhost:8080/",
     "height": 206
    },
    "id": "Tvv-60U7XuwB",
    "outputId": "5bfc24d9-1bbb-4a60-ab8c-f3de3a51d8af"
   },
   "outputs": [
    {
     "data": {
      "text/html": [
       "\n",
       "  <div id=\"df-221189a1-5697-46a4-8c31-070c7e53ac8b\">\n",
       "    <div class=\"colab-df-container\">\n",
       "      <div>\n",
       "<style scoped>\n",
       "    .dataframe tbody tr th:only-of-type {\n",
       "        vertical-align: middle;\n",
       "    }\n",
       "\n",
       "    .dataframe tbody tr th {\n",
       "        vertical-align: top;\n",
       "    }\n",
       "\n",
       "    .dataframe thead th {\n",
       "        text-align: right;\n",
       "    }\n",
       "</style>\n",
       "<table border=\"1\" class=\"dataframe\">\n",
       "  <thead>\n",
       "    <tr style=\"text-align: right;\">\n",
       "      <th></th>\n",
       "      <th>Date</th>\n",
       "      <th>Open</th>\n",
       "      <th>High</th>\n",
       "      <th>Low</th>\n",
       "      <th>Close</th>\n",
       "      <th>Adj Close</th>\n",
       "      <th>Volume</th>\n",
       "    </tr>\n",
       "  </thead>\n",
       "  <tbody>\n",
       "    <tr>\n",
       "      <th>360</th>\n",
       "      <td>2022-12-12</td>\n",
       "      <td>17102.500000</td>\n",
       "      <td>17212.564453</td>\n",
       "      <td>16899.394531</td>\n",
       "      <td>17206.437500</td>\n",
       "      <td>17206.437500</td>\n",
       "      <td>19617581341</td>\n",
       "    </tr>\n",
       "    <tr>\n",
       "      <th>361</th>\n",
       "      <td>2022-12-13</td>\n",
       "      <td>17206.441406</td>\n",
       "      <td>17930.085938</td>\n",
       "      <td>17111.763672</td>\n",
       "      <td>17781.318359</td>\n",
       "      <td>17781.318359</td>\n",
       "      <td>26634741631</td>\n",
       "    </tr>\n",
       "    <tr>\n",
       "      <th>362</th>\n",
       "      <td>2022-12-14</td>\n",
       "      <td>17782.066406</td>\n",
       "      <td>18318.531250</td>\n",
       "      <td>17739.513672</td>\n",
       "      <td>17815.650391</td>\n",
       "      <td>17815.650391</td>\n",
       "      <td>25534481470</td>\n",
       "    </tr>\n",
       "    <tr>\n",
       "      <th>363</th>\n",
       "      <td>2022-12-15</td>\n",
       "      <td>17813.644531</td>\n",
       "      <td>17846.744141</td>\n",
       "      <td>17322.589844</td>\n",
       "      <td>17364.865234</td>\n",
       "      <td>17364.865234</td>\n",
       "      <td>20964448341</td>\n",
       "    </tr>\n",
       "    <tr>\n",
       "      <th>364</th>\n",
       "      <td>2022-12-16</td>\n",
       "      <td>17367.843750</td>\n",
       "      <td>17505.146484</td>\n",
       "      <td>16811.851563</td>\n",
       "      <td>16887.666016</td>\n",
       "      <td>16887.666016</td>\n",
       "      <td>22201923584</td>\n",
       "    </tr>\n",
       "  </tbody>\n",
       "</table>\n",
       "</div>\n",
       "      <button class=\"colab-df-convert\" onclick=\"convertToInteractive('df-221189a1-5697-46a4-8c31-070c7e53ac8b')\"\n",
       "              title=\"Convert this dataframe to an interactive table.\"\n",
       "              style=\"display:none;\">\n",
       "        \n",
       "  <svg xmlns=\"http://www.w3.org/2000/svg\" height=\"24px\"viewBox=\"0 0 24 24\"\n",
       "       width=\"24px\">\n",
       "    <path d=\"M0 0h24v24H0V0z\" fill=\"none\"/>\n",
       "    <path d=\"M18.56 5.44l.94 2.06.94-2.06 2.06-.94-2.06-.94-.94-2.06-.94 2.06-2.06.94zm-11 1L8.5 8.5l.94-2.06 2.06-.94-2.06-.94L8.5 2.5l-.94 2.06-2.06.94zm10 10l.94 2.06.94-2.06 2.06-.94-2.06-.94-.94-2.06-.94 2.06-2.06.94z\"/><path d=\"M17.41 7.96l-1.37-1.37c-.4-.4-.92-.59-1.43-.59-.52 0-1.04.2-1.43.59L10.3 9.45l-7.72 7.72c-.78.78-.78 2.05 0 2.83L4 21.41c.39.39.9.59 1.41.59.51 0 1.02-.2 1.41-.59l7.78-7.78 2.81-2.81c.8-.78.8-2.07 0-2.86zM5.41 20L4 18.59l7.72-7.72 1.47 1.35L5.41 20z\"/>\n",
       "  </svg>\n",
       "      </button>\n",
       "      \n",
       "  <style>\n",
       "    .colab-df-container {\n",
       "      display:flex;\n",
       "      flex-wrap:wrap;\n",
       "      gap: 12px;\n",
       "    }\n",
       "\n",
       "    .colab-df-convert {\n",
       "      background-color: #E8F0FE;\n",
       "      border: none;\n",
       "      border-radius: 50%;\n",
       "      cursor: pointer;\n",
       "      display: none;\n",
       "      fill: #1967D2;\n",
       "      height: 32px;\n",
       "      padding: 0 0 0 0;\n",
       "      width: 32px;\n",
       "    }\n",
       "\n",
       "    .colab-df-convert:hover {\n",
       "      background-color: #E2EBFA;\n",
       "      box-shadow: 0px 1px 2px rgba(60, 64, 67, 0.3), 0px 1px 3px 1px rgba(60, 64, 67, 0.15);\n",
       "      fill: #174EA6;\n",
       "    }\n",
       "\n",
       "    [theme=dark] .colab-df-convert {\n",
       "      background-color: #3B4455;\n",
       "      fill: #D2E3FC;\n",
       "    }\n",
       "\n",
       "    [theme=dark] .colab-df-convert:hover {\n",
       "      background-color: #434B5C;\n",
       "      box-shadow: 0px 1px 3px 1px rgba(0, 0, 0, 0.15);\n",
       "      filter: drop-shadow(0px 1px 2px rgba(0, 0, 0, 0.3));\n",
       "      fill: #FFFFFF;\n",
       "    }\n",
       "  </style>\n",
       "\n",
       "      <script>\n",
       "        const buttonEl =\n",
       "          document.querySelector('#df-221189a1-5697-46a4-8c31-070c7e53ac8b button.colab-df-convert');\n",
       "        buttonEl.style.display =\n",
       "          google.colab.kernel.accessAllowed ? 'block' : 'none';\n",
       "\n",
       "        async function convertToInteractive(key) {\n",
       "          const element = document.querySelector('#df-221189a1-5697-46a4-8c31-070c7e53ac8b');\n",
       "          const dataTable =\n",
       "            await google.colab.kernel.invokeFunction('convertToInteractive',\n",
       "                                                     [key], {});\n",
       "          if (!dataTable) return;\n",
       "\n",
       "          const docLinkHtml = 'Like what you see? Visit the ' +\n",
       "            '<a target=\"_blank\" href=https://colab.research.google.com/notebooks/data_table.ipynb>data table notebook</a>'\n",
       "            + ' to learn more about interactive tables.';\n",
       "          element.innerHTML = '';\n",
       "          dataTable['output_type'] = 'display_data';\n",
       "          await google.colab.output.renderOutput(dataTable, element);\n",
       "          const docLink = document.createElement('div');\n",
       "          docLink.innerHTML = docLinkHtml;\n",
       "          element.appendChild(docLink);\n",
       "        }\n",
       "      </script>\n",
       "    </div>\n",
       "  </div>\n",
       "  "
      ],
      "text/plain": [
       "           Date          Open          High           Low         Close  \\\n",
       "360  2022-12-12  17102.500000  17212.564453  16899.394531  17206.437500   \n",
       "361  2022-12-13  17206.441406  17930.085938  17111.763672  17781.318359   \n",
       "362  2022-12-14  17782.066406  18318.531250  17739.513672  17815.650391   \n",
       "363  2022-12-15  17813.644531  17846.744141  17322.589844  17364.865234   \n",
       "364  2022-12-16  17367.843750  17505.146484  16811.851563  16887.666016   \n",
       "\n",
       "        Adj Close       Volume  \n",
       "360  17206.437500  19617581341  \n",
       "361  17781.318359  26634741631  \n",
       "362  17815.650391  25534481470  \n",
       "363  17364.865234  20964448341  \n",
       "364  16887.666016  22201923584  "
      ]
     },
     "execution_count": 6,
     "metadata": {},
     "output_type": "execute_result"
    }
   ],
   "source": [
    "# Ending data from the dataset\n",
    "maindf.tail()"
   ]
  },
  {
   "cell_type": "code",
   "execution_count": 7,
   "metadata": {
    "colab": {
     "base_uri": "https://localhost:8080/"
    },
    "id": "RyfosQpxYAIz",
    "outputId": "4ead668f-6734-40a5-a02f-4d9f092d45ca"
   },
   "outputs": [
    {
     "name": "stdout",
     "output_type": "stream",
     "text": [
      "Shape of Dataset: (365, 7)\n",
      "Data Description:                Open          High           Low         Close     Adj Close  \\\n",
      "count    365.000000    365.000000    365.000000    365.000000    365.000000   \n",
      "mean   29581.777922  30159.889838  28888.048443  29497.569403  29497.569403   \n",
      "std    10687.227334  10903.240133  10452.939457  10664.971633  10664.971633   \n",
      "min    15782.300781  16253.047852  15599.046875  15787.284180  15787.284180   \n",
      "25%    19988.789063  20348.412109  19616.814453  19986.712891  19986.712891   \n",
      "50%    24126.136719  24822.628906  23733.500000  23957.529297  23957.529297   \n",
      "75%    40026.023438  40777.757813  39022.347656  39935.515625  39935.515625   \n",
      "max    50854.917969  51956.328125  50514.496094  50822.195313  50822.195313   \n",
      "\n",
      "             Volume  \n",
      "count  3.650000e+02  \n",
      "mean   3.053155e+10  \n",
      "std    1.223760e+10  \n",
      "min    1.270678e+10  \n",
      "25%    2.335997e+10  \n",
      "50%    2.857479e+10  \n",
      "75%    3.448336e+10  \n",
      "max    1.189925e+11  \n"
     ]
    }
   ],
   "source": [
    "print('Shape of Dataset: {}' .format(maindf.shape))\n",
    "\n",
    "\n",
    "print('Data Description: {}' .format(maindf.describe()))"
   ]
  },
  {
   "cell_type": "markdown",
   "metadata": {
    "id": "REUZaeCUlIU6"
   },
   "source": [
    "<h3><b> Data Preprocessing </b></h3>"
   ]
  },
  {
   "cell_type": "code",
   "execution_count": 8,
   "metadata": {
    "colab": {
     "base_uri": "https://localhost:8080/"
    },
    "id": "H_QyHoVAlUUJ",
    "outputId": "378f95f5-93c7-44bf-b96c-9f019dd2fe5f"
   },
   "outputs": [
    {
     "name": "stdout",
     "output_type": "stream",
     "text": [
      "NA values: False\n",
      "Null Values: 0\n",
      "Shape of Dataset: (365, 7)\n"
     ]
    }
   ],
   "source": [
    "# Check for NA values\n",
    "print('NA values:',maindf.isnull().values.any())\n",
    "\n",
    "# Check for Null values\n",
    "print('Null Values:',maindf.isnull().values.sum())\n",
    "\n",
    "print('Shape of Dataset:', maindf.shape)"
   ]
  },
  {
   "cell_type": "markdown",
   "metadata": {
    "id": "sADPBKsMvlPe"
   },
   "source": [
    "<h3><b>Model Building </b></h3>\n",
    "\n",
    "\n",
    "*   Preparing data for training and testing.\n",
    "*   We'll consider 1 year of data for training.\n",
    "*   To predict the closing price, we'll consider only the close price and date.\n",
    "\n"
   ]
  },
  {
   "cell_type": "markdown",
   "metadata": {
    "id": "Q-uc-drlxD-f"
   },
   "source": [
    "<h3> <b>Displaying Bitcoin Price from 2014 - 2022 </b><h3>"
   ]
  },
  {
   "cell_type": "code",
   "execution_count": 9,
   "metadata": {
    "colab": {
     "base_uri": "https://localhost:8080/",
     "height": 560
    },
    "id": "3BfRd84vwPzv",
    "outputId": "42bd4475-1f5d-4879-a1f6-14fb754ac7d1"
   },
   "outputs": [
    {
     "name": "stdout",
     "output_type": "stream",
     "text": [
      "Shape of close dataframe: (365, 2)\n"
     ]
    },
    {
     "data": {
      "text/html": [
       "<html>\n",
       "<head><meta charset=\"utf-8\" /></head>\n",
       "<body>\n",
       "    <div>            <script src=\"https://cdnjs.cloudflare.com/ajax/libs/mathjax/2.7.5/MathJax.js?config=TeX-AMS-MML_SVG\"></script><script type=\"text/javascript\">if (window.MathJax) {MathJax.Hub.Config({SVG: {font: \"STIX-Web\"}});}</script>                <script type=\"text/javascript\">window.PlotlyConfig = {MathJaxConfig: 'local'};</script>\n",
       "        <script src=\"https://cdn.plot.ly/plotly-2.8.3.min.js\"></script>                <div id=\"d9dc443f-a830-46ca-a2a2-7ae73c652a42\" class=\"plotly-graph-div\" style=\"height:525px; width:100%;\"></div>            <script type=\"text/javascript\">                                    window.PLOTLYENV=window.PLOTLYENV || {};                                    if (document.getElementById(\"d9dc443f-a830-46ca-a2a2-7ae73c652a42\")) {                    Plotly.newPlot(                        \"d9dc443f-a830-46ca-a2a2-7ae73c652a42\",                        [{\"hovertemplate\":\"Date=%{x}<br>Close=%{y}<extra></extra>\",\"legendgroup\":\"\",\"line\":{\"color\":\"#636efa\",\"dash\":\"solid\"},\"marker\":{\"symbol\":\"circle\",\"line\":{\"color\":\"red\",\"width\":2}},\"mode\":\"lines\",\"name\":\"\",\"orientation\":\"v\",\"showlegend\":false,\"x\":[\"2021-12-17\",\"2021-12-18\",\"2021-12-19\",\"2021-12-20\",\"2021-12-21\",\"2021-12-22\",\"2021-12-23\",\"2021-12-24\",\"2021-12-25\",\"2021-12-26\",\"2021-12-27\",\"2021-12-28\",\"2021-12-29\",\"2021-12-30\",\"2021-12-31\",\"2022-01-01\",\"2022-01-02\",\"2022-01-03\",\"2022-01-04\",\"2022-01-05\",\"2022-01-06\",\"2022-01-07\",\"2022-01-08\",\"2022-01-09\",\"2022-01-10\",\"2022-01-11\",\"2022-01-12\",\"2022-01-13\",\"2022-01-14\",\"2022-01-15\",\"2022-01-16\",\"2022-01-17\",\"2022-01-18\",\"2022-01-19\",\"2022-01-20\",\"2022-01-21\",\"2022-01-22\",\"2022-01-23\",\"2022-01-24\",\"2022-01-25\",\"2022-01-26\",\"2022-01-27\",\"2022-01-28\",\"2022-01-29\",\"2022-01-30\",\"2022-01-31\",\"2022-02-01\",\"2022-02-02\",\"2022-02-03\",\"2022-02-04\",\"2022-02-05\",\"2022-02-06\",\"2022-02-07\",\"2022-02-08\",\"2022-02-09\",\"2022-02-10\",\"2022-02-11\",\"2022-02-12\",\"2022-02-13\",\"2022-02-14\",\"2022-02-15\",\"2022-02-16\",\"2022-02-17\",\"2022-02-18\",\"2022-02-19\",\"2022-02-20\",\"2022-02-21\",\"2022-02-22\",\"2022-02-23\",\"2022-02-24\",\"2022-02-25\",\"2022-02-26\",\"2022-02-27\",\"2022-02-28\",\"2022-03-01\",\"2022-03-02\",\"2022-03-03\",\"2022-03-04\",\"2022-03-05\",\"2022-03-06\",\"2022-03-07\",\"2022-03-08\",\"2022-03-09\",\"2022-03-10\",\"2022-03-11\",\"2022-03-12\",\"2022-03-13\",\"2022-03-14\",\"2022-03-15\",\"2022-03-16\",\"2022-03-17\",\"2022-03-18\",\"2022-03-19\",\"2022-03-20\",\"2022-03-21\",\"2022-03-22\",\"2022-03-23\",\"2022-03-24\",\"2022-03-25\",\"2022-03-26\",\"2022-03-27\",\"2022-03-28\",\"2022-03-29\",\"2022-03-30\",\"2022-03-31\",\"2022-04-01\",\"2022-04-02\",\"2022-04-03\",\"2022-04-04\",\"2022-04-05\",\"2022-04-06\",\"2022-04-07\",\"2022-04-08\",\"2022-04-09\",\"2022-04-10\",\"2022-04-11\",\"2022-04-12\",\"2022-04-13\",\"2022-04-14\",\"2022-04-15\",\"2022-04-16\",\"2022-04-17\",\"2022-04-18\",\"2022-04-19\",\"2022-04-20\",\"2022-04-21\",\"2022-04-22\",\"2022-04-23\",\"2022-04-24\",\"2022-04-25\",\"2022-04-26\",\"2022-04-27\",\"2022-04-28\",\"2022-04-29\",\"2022-04-30\",\"2022-05-01\",\"2022-05-02\",\"2022-05-03\",\"2022-05-04\",\"2022-05-05\",\"2022-05-06\",\"2022-05-07\",\"2022-05-08\",\"2022-05-09\",\"2022-05-10\",\"2022-05-11\",\"2022-05-12\",\"2022-05-13\",\"2022-05-14\",\"2022-05-15\",\"2022-05-16\",\"2022-05-17\",\"2022-05-18\",\"2022-05-19\",\"2022-05-20\",\"2022-05-21\",\"2022-05-22\",\"2022-05-23\",\"2022-05-24\",\"2022-05-25\",\"2022-05-26\",\"2022-05-27\",\"2022-05-28\",\"2022-05-29\",\"2022-05-30\",\"2022-05-31\",\"2022-06-01\",\"2022-06-02\",\"2022-06-03\",\"2022-06-04\",\"2022-06-05\",\"2022-06-06\",\"2022-06-07\",\"2022-06-08\",\"2022-06-09\",\"2022-06-10\",\"2022-06-11\",\"2022-06-12\",\"2022-06-13\",\"2022-06-14\",\"2022-06-15\",\"2022-06-16\",\"2022-06-17\",\"2022-06-18\",\"2022-06-19\",\"2022-06-20\",\"2022-06-21\",\"2022-06-22\",\"2022-06-23\",\"2022-06-24\",\"2022-06-25\",\"2022-06-26\",\"2022-06-27\",\"2022-06-28\",\"2022-06-29\",\"2022-06-30\",\"2022-07-01\",\"2022-07-02\",\"2022-07-03\",\"2022-07-04\",\"2022-07-05\",\"2022-07-06\",\"2022-07-07\",\"2022-07-08\",\"2022-07-09\",\"2022-07-10\",\"2022-07-11\",\"2022-07-12\",\"2022-07-13\",\"2022-07-14\",\"2022-07-15\",\"2022-07-16\",\"2022-07-17\",\"2022-07-18\",\"2022-07-19\",\"2022-07-20\",\"2022-07-21\",\"2022-07-22\",\"2022-07-23\",\"2022-07-24\",\"2022-07-25\",\"2022-07-26\",\"2022-07-27\",\"2022-07-28\",\"2022-07-29\",\"2022-07-30\",\"2022-07-31\",\"2022-08-01\",\"2022-08-02\",\"2022-08-03\",\"2022-08-04\",\"2022-08-05\",\"2022-08-06\",\"2022-08-07\",\"2022-08-08\",\"2022-08-09\",\"2022-08-10\",\"2022-08-11\",\"2022-08-12\",\"2022-08-13\",\"2022-08-14\",\"2022-08-15\",\"2022-08-16\",\"2022-08-17\",\"2022-08-18\",\"2022-08-19\",\"2022-08-20\",\"2022-08-21\",\"2022-08-22\",\"2022-08-23\",\"2022-08-24\",\"2022-08-25\",\"2022-08-26\",\"2022-08-27\",\"2022-08-28\",\"2022-08-29\",\"2022-08-30\",\"2022-08-31\",\"2022-09-01\",\"2022-09-02\",\"2022-09-03\",\"2022-09-04\",\"2022-09-05\",\"2022-09-06\",\"2022-09-07\",\"2022-09-08\",\"2022-09-09\",\"2022-09-10\",\"2022-09-11\",\"2022-09-12\",\"2022-09-13\",\"2022-09-14\",\"2022-09-15\",\"2022-09-16\",\"2022-09-17\",\"2022-09-18\",\"2022-09-19\",\"2022-09-20\",\"2022-09-21\",\"2022-09-22\",\"2022-09-23\",\"2022-09-24\",\"2022-09-25\",\"2022-09-26\",\"2022-09-27\",\"2022-09-28\",\"2022-09-29\",\"2022-09-30\",\"2022-10-01\",\"2022-10-02\",\"2022-10-03\",\"2022-10-04\",\"2022-10-05\",\"2022-10-06\",\"2022-10-07\",\"2022-10-08\",\"2022-10-09\",\"2022-10-10\",\"2022-10-11\",\"2022-10-12\",\"2022-10-13\",\"2022-10-14\",\"2022-10-15\",\"2022-10-16\",\"2022-10-17\",\"2022-10-18\",\"2022-10-19\",\"2022-10-20\",\"2022-10-21\",\"2022-10-22\",\"2022-10-23\",\"2022-10-24\",\"2022-10-25\",\"2022-10-26\",\"2022-10-27\",\"2022-10-28\",\"2022-10-29\",\"2022-10-30\",\"2022-10-31\",\"2022-11-01\",\"2022-11-02\",\"2022-11-03\",\"2022-11-04\",\"2022-11-05\",\"2022-11-06\",\"2022-11-07\",\"2022-11-08\",\"2022-11-09\",\"2022-11-10\",\"2022-11-11\",\"2022-11-12\",\"2022-11-13\",\"2022-11-14\",\"2022-11-15\",\"2022-11-16\",\"2022-11-17\",\"2022-11-18\",\"2022-11-19\",\"2022-11-20\",\"2022-11-21\",\"2022-11-22\",\"2022-11-23\",\"2022-11-24\",\"2022-11-25\",\"2022-11-26\",\"2022-11-27\",\"2022-11-28\",\"2022-11-29\",\"2022-11-30\",\"2022-12-01\",\"2022-12-02\",\"2022-12-03\",\"2022-12-04\",\"2022-12-05\",\"2022-12-06\",\"2022-12-07\",\"2022-12-08\",\"2022-12-09\",\"2022-12-10\",\"2022-12-11\",\"2022-12-12\",\"2022-12-13\",\"2022-12-14\",\"2022-12-15\",\"2022-12-16\"],\"xaxis\":\"x\",\"y\":[46202.144531,46848.777344,46707.015625,46880.277344,48936.613281,48628.511719,50784.539063,50822.195313,50429.859375,50809.515625,50640.417969,47588.855469,46444.710938,47178.125,46306.445313,47686.8125,47345.21875,46458.117188,45897.574219,43569.003906,43160.929688,41557.902344,41733.941406,41911.601563,41821.261719,42735.855469,43949.101563,42591.570313,43099.699219,43177.398438,43113.878906,42250.550781,42375.632813,41744.328125,40680.417969,36457.316406,35030.25,36276.804688,36654.328125,36954.003906,36852.121094,37138.234375,37784.332031,38138.179688,37917.601563,38483.125,38743.273438,36952.984375,37154.601563,41500.875,41441.164063,42412.433594,43840.285156,44118.445313,44338.796875,43565.113281,42407.9375,42244.46875,42197.515625,42586.917969,44575.203125,43961.859375,40538.011719,40030.976563,40122.15625,38431.378906,37075.28125,38286.027344,37296.570313,38332.609375,39214.21875,39105.148438,37709.785156,43193.234375,44354.636719,43924.117188,42451.789063,39137.605469,39400.585938,38419.984375,38062.039063,38737.269531,41982.925781,39437.460938,38794.972656,38904.011719,37849.664063,39666.753906,39338.785156,41143.929688,40951.378906,41801.15625,42190.652344,41247.824219,41077.996094,42358.808594,42892.957031,43960.933594,44348.730469,44500.828125,46820.492188,47128.003906,47465.730469,47062.664063,45538.675781,46281.644531,45868.949219,46453.566406,46622.675781,45555.992188,43206.738281,43503.847656,42287.664063,42782.136719,42207.671875,39521.902344,40127.183594,41166.730469,39935.515625,40553.464844,40424.484375,39716.953125,40826.214844,41502.75,41374.378906,40527.363281,39740.320313,39486.730469,39469.292969,40458.308594,38117.460938,39241.121094,39773.828125,38609.824219,37714.875,38469.09375,38529.328125,37750.453125,39698.371094,36575.140625,36040.921875,35501.953125,34059.265625,30296.953125,31022.90625,28936.355469,29047.751953,29283.103516,30101.265625,31305.113281,29862.917969,30425.857422,28720.271484,30314.333984,29200.740234,29432.226563,30323.722656,29098.910156,29655.585938,29562.361328,29267.224609,28627.574219,28814.900391,29445.957031,31726.390625,31792.310547,29799.080078,30467.488281,29704.390625,29832.914063,29906.662109,31370.671875,31155.478516,30214.355469,30111.998047,29083.804688,28360.810547,26762.648438,22487.388672,22206.792969,22572.839844,20381.650391,20471.482422,19017.642578,20553.271484,20599.537109,20710.597656,19987.029297,21085.876953,21231.65625,21502.337891,21027.294922,20735.478516,20280.634766,20104.023438,19784.726563,19269.367188,19242.255859,19297.076172,20231.261719,20190.115234,20548.246094,21637.587891,21731.117188,21592.207031,20860.449219,19970.556641,19323.914063,20212.074219,20569.919922,20836.328125,21190.316406,20779.34375,22485.689453,23389.433594,23231.732422,23164.628906,22714.978516,22465.478516,22609.164063,21361.701172,21239.753906,22930.548828,23843.886719,23804.632813,23656.207031,23336.896484,23314.199219,22978.117188,22846.507813,22630.957031,23289.314453,22961.279297,23175.890625,23809.486328,23164.318359,23947.642578,23957.529297,24402.818359,24424.068359,24319.333984,24136.972656,23883.291016,23335.998047,23212.738281,20877.552734,21166.060547,21534.121094,21398.908203,21528.087891,21395.019531,21600.904297,20260.019531,20041.738281,19616.814453,20297.994141,19796.808594,20049.763672,20127.140625,19969.771484,19832.087891,19986.712891,19812.371094,18837.667969,19290.324219,19329.833984,21381.152344,21680.539063,21769.255859,22370.449219,20296.707031,20241.089844,19701.210938,19772.583984,20127.576172,19419.505859,19544.128906,18890.789063,18547.400391,19413.550781,19297.638672,18937.011719,18802.097656,19222.671875,19110.546875,19426.720703,19573.050781,19431.789063,19312.095703,19044.107422,19623.580078,20336.84375,20160.716797,19955.443359,19546.849609,19416.568359,19446.425781,19141.484375,19051.417969,19157.445313,19382.904297,19185.65625,19067.634766,19268.09375,19550.757813,19334.416016,19139.535156,19053.740234,19172.46875,19208.189453,19567.007813,19345.572266,20095.857422,20770.441406,20285.835938,20595.351563,20818.476563,20635.603516,20495.773438,20485.273438,20159.503906,20209.988281,21147.230469,21282.691406,20926.486328,20602.816406,18541.271484,15880.780273,17586.771484,17034.292969,16799.185547,16353.365234,16618.199219,16884.613281,16669.439453,16687.517578,16697.777344,16711.546875,16291.832031,15787.28418,16189.769531,16610.707031,16604.464844,16521.841797,16464.28125,16444.626953,16217.322266,16444.982422,17168.566406,16967.132813,17088.660156,16908.236328,17130.486328,16974.826172,17089.503906,16848.126953,17233.474609,17133.152344,17128.724609,17104.193359,17206.4375,17781.318359,17815.650391,17364.865234,16887.666016],\"yaxis\":\"y\",\"type\":\"scatter\",\"opacity\":0.8}],                        {\"template\":{\"data\":{\"bar\":[{\"error_x\":{\"color\":\"#2a3f5f\"},\"error_y\":{\"color\":\"#2a3f5f\"},\"marker\":{\"line\":{\"color\":\"#E5ECF6\",\"width\":0.5},\"pattern\":{\"fillmode\":\"overlay\",\"size\":10,\"solidity\":0.2}},\"type\":\"bar\"}],\"barpolar\":[{\"marker\":{\"line\":{\"color\":\"#E5ECF6\",\"width\":0.5},\"pattern\":{\"fillmode\":\"overlay\",\"size\":10,\"solidity\":0.2}},\"type\":\"barpolar\"}],\"carpet\":[{\"aaxis\":{\"endlinecolor\":\"#2a3f5f\",\"gridcolor\":\"white\",\"linecolor\":\"white\",\"minorgridcolor\":\"white\",\"startlinecolor\":\"#2a3f5f\"},\"baxis\":{\"endlinecolor\":\"#2a3f5f\",\"gridcolor\":\"white\",\"linecolor\":\"white\",\"minorgridcolor\":\"white\",\"startlinecolor\":\"#2a3f5f\"},\"type\":\"carpet\"}],\"choropleth\":[{\"colorbar\":{\"outlinewidth\":0,\"ticks\":\"\"},\"type\":\"choropleth\"}],\"contour\":[{\"colorbar\":{\"outlinewidth\":0,\"ticks\":\"\"},\"colorscale\":[[0.0,\"#0d0887\"],[0.1111111111111111,\"#46039f\"],[0.2222222222222222,\"#7201a8\"],[0.3333333333333333,\"#9c179e\"],[0.4444444444444444,\"#bd3786\"],[0.5555555555555556,\"#d8576b\"],[0.6666666666666666,\"#ed7953\"],[0.7777777777777778,\"#fb9f3a\"],[0.8888888888888888,\"#fdca26\"],[1.0,\"#f0f921\"]],\"type\":\"contour\"}],\"contourcarpet\":[{\"colorbar\":{\"outlinewidth\":0,\"ticks\":\"\"},\"type\":\"contourcarpet\"}],\"heatmap\":[{\"colorbar\":{\"outlinewidth\":0,\"ticks\":\"\"},\"colorscale\":[[0.0,\"#0d0887\"],[0.1111111111111111,\"#46039f\"],[0.2222222222222222,\"#7201a8\"],[0.3333333333333333,\"#9c179e\"],[0.4444444444444444,\"#bd3786\"],[0.5555555555555556,\"#d8576b\"],[0.6666666666666666,\"#ed7953\"],[0.7777777777777778,\"#fb9f3a\"],[0.8888888888888888,\"#fdca26\"],[1.0,\"#f0f921\"]],\"type\":\"heatmap\"}],\"heatmapgl\":[{\"colorbar\":{\"outlinewidth\":0,\"ticks\":\"\"},\"colorscale\":[[0.0,\"#0d0887\"],[0.1111111111111111,\"#46039f\"],[0.2222222222222222,\"#7201a8\"],[0.3333333333333333,\"#9c179e\"],[0.4444444444444444,\"#bd3786\"],[0.5555555555555556,\"#d8576b\"],[0.6666666666666666,\"#ed7953\"],[0.7777777777777778,\"#fb9f3a\"],[0.8888888888888888,\"#fdca26\"],[1.0,\"#f0f921\"]],\"type\":\"heatmapgl\"}],\"histogram\":[{\"marker\":{\"pattern\":{\"fillmode\":\"overlay\",\"size\":10,\"solidity\":0.2}},\"type\":\"histogram\"}],\"histogram2d\":[{\"colorbar\":{\"outlinewidth\":0,\"ticks\":\"\"},\"colorscale\":[[0.0,\"#0d0887\"],[0.1111111111111111,\"#46039f\"],[0.2222222222222222,\"#7201a8\"],[0.3333333333333333,\"#9c179e\"],[0.4444444444444444,\"#bd3786\"],[0.5555555555555556,\"#d8576b\"],[0.6666666666666666,\"#ed7953\"],[0.7777777777777778,\"#fb9f3a\"],[0.8888888888888888,\"#fdca26\"],[1.0,\"#f0f921\"]],\"type\":\"histogram2d\"}],\"histogram2dcontour\":[{\"colorbar\":{\"outlinewidth\":0,\"ticks\":\"\"},\"colorscale\":[[0.0,\"#0d0887\"],[0.1111111111111111,\"#46039f\"],[0.2222222222222222,\"#7201a8\"],[0.3333333333333333,\"#9c179e\"],[0.4444444444444444,\"#bd3786\"],[0.5555555555555556,\"#d8576b\"],[0.6666666666666666,\"#ed7953\"],[0.7777777777777778,\"#fb9f3a\"],[0.8888888888888888,\"#fdca26\"],[1.0,\"#f0f921\"]],\"type\":\"histogram2dcontour\"}],\"mesh3d\":[{\"colorbar\":{\"outlinewidth\":0,\"ticks\":\"\"},\"type\":\"mesh3d\"}],\"parcoords\":[{\"line\":{\"colorbar\":{\"outlinewidth\":0,\"ticks\":\"\"}},\"type\":\"parcoords\"}],\"pie\":[{\"automargin\":true,\"type\":\"pie\"}],\"scatter\":[{\"marker\":{\"colorbar\":{\"outlinewidth\":0,\"ticks\":\"\"}},\"type\":\"scatter\"}],\"scatter3d\":[{\"line\":{\"colorbar\":{\"outlinewidth\":0,\"ticks\":\"\"}},\"marker\":{\"colorbar\":{\"outlinewidth\":0,\"ticks\":\"\"}},\"type\":\"scatter3d\"}],\"scattercarpet\":[{\"marker\":{\"colorbar\":{\"outlinewidth\":0,\"ticks\":\"\"}},\"type\":\"scattercarpet\"}],\"scattergeo\":[{\"marker\":{\"colorbar\":{\"outlinewidth\":0,\"ticks\":\"\"}},\"type\":\"scattergeo\"}],\"scattergl\":[{\"marker\":{\"colorbar\":{\"outlinewidth\":0,\"ticks\":\"\"}},\"type\":\"scattergl\"}],\"scattermapbox\":[{\"marker\":{\"colorbar\":{\"outlinewidth\":0,\"ticks\":\"\"}},\"type\":\"scattermapbox\"}],\"scatterpolar\":[{\"marker\":{\"colorbar\":{\"outlinewidth\":0,\"ticks\":\"\"}},\"type\":\"scatterpolar\"}],\"scatterpolargl\":[{\"marker\":{\"colorbar\":{\"outlinewidth\":0,\"ticks\":\"\"}},\"type\":\"scatterpolargl\"}],\"scatterternary\":[{\"marker\":{\"colorbar\":{\"outlinewidth\":0,\"ticks\":\"\"}},\"type\":\"scatterternary\"}],\"surface\":[{\"colorbar\":{\"outlinewidth\":0,\"ticks\":\"\"},\"colorscale\":[[0.0,\"#0d0887\"],[0.1111111111111111,\"#46039f\"],[0.2222222222222222,\"#7201a8\"],[0.3333333333333333,\"#9c179e\"],[0.4444444444444444,\"#bd3786\"],[0.5555555555555556,\"#d8576b\"],[0.6666666666666666,\"#ed7953\"],[0.7777777777777778,\"#fb9f3a\"],[0.8888888888888888,\"#fdca26\"],[1.0,\"#f0f921\"]],\"type\":\"surface\"}],\"table\":[{\"cells\":{\"fill\":{\"color\":\"#EBF0F8\"},\"line\":{\"color\":\"white\"}},\"header\":{\"fill\":{\"color\":\"#C8D4E3\"},\"line\":{\"color\":\"white\"}},\"type\":\"table\"}]},\"layout\":{\"annotationdefaults\":{\"arrowcolor\":\"#2a3f5f\",\"arrowhead\":0,\"arrowwidth\":1},\"autotypenumbers\":\"strict\",\"coloraxis\":{\"colorbar\":{\"outlinewidth\":0,\"ticks\":\"\"}},\"colorscale\":{\"diverging\":[[0,\"#8e0152\"],[0.1,\"#c51b7d\"],[0.2,\"#de77ae\"],[0.3,\"#f1b6da\"],[0.4,\"#fde0ef\"],[0.5,\"#f7f7f7\"],[0.6,\"#e6f5d0\"],[0.7,\"#b8e186\"],[0.8,\"#7fbc41\"],[0.9,\"#4d9221\"],[1,\"#276419\"]],\"sequential\":[[0.0,\"#0d0887\"],[0.1111111111111111,\"#46039f\"],[0.2222222222222222,\"#7201a8\"],[0.3333333333333333,\"#9c179e\"],[0.4444444444444444,\"#bd3786\"],[0.5555555555555556,\"#d8576b\"],[0.6666666666666666,\"#ed7953\"],[0.7777777777777778,\"#fb9f3a\"],[0.8888888888888888,\"#fdca26\"],[1.0,\"#f0f921\"]],\"sequentialminus\":[[0.0,\"#0d0887\"],[0.1111111111111111,\"#46039f\"],[0.2222222222222222,\"#7201a8\"],[0.3333333333333333,\"#9c179e\"],[0.4444444444444444,\"#bd3786\"],[0.5555555555555556,\"#d8576b\"],[0.6666666666666666,\"#ed7953\"],[0.7777777777777778,\"#fb9f3a\"],[0.8888888888888888,\"#fdca26\"],[1.0,\"#f0f921\"]]},\"colorway\":[\"#636efa\",\"#EF553B\",\"#00cc96\",\"#ab63fa\",\"#FFA15A\",\"#19d3f3\",\"#FF6692\",\"#B6E880\",\"#FF97FF\",\"#FECB52\"],\"font\":{\"color\":\"#2a3f5f\"},\"geo\":{\"bgcolor\":\"white\",\"lakecolor\":\"white\",\"landcolor\":\"#E5ECF6\",\"showlakes\":true,\"showland\":true,\"subunitcolor\":\"white\"},\"hoverlabel\":{\"align\":\"left\"},\"hovermode\":\"closest\",\"mapbox\":{\"style\":\"light\"},\"paper_bgcolor\":\"white\",\"plot_bgcolor\":\"#E5ECF6\",\"polar\":{\"angularaxis\":{\"gridcolor\":\"white\",\"linecolor\":\"white\",\"ticks\":\"\"},\"bgcolor\":\"#E5ECF6\",\"radialaxis\":{\"gridcolor\":\"white\",\"linecolor\":\"white\",\"ticks\":\"\"}},\"scene\":{\"xaxis\":{\"backgroundcolor\":\"#E5ECF6\",\"gridcolor\":\"white\",\"gridwidth\":2,\"linecolor\":\"white\",\"showbackground\":true,\"ticks\":\"\",\"zerolinecolor\":\"white\"},\"yaxis\":{\"backgroundcolor\":\"#E5ECF6\",\"gridcolor\":\"white\",\"gridwidth\":2,\"linecolor\":\"white\",\"showbackground\":true,\"ticks\":\"\",\"zerolinecolor\":\"white\"},\"zaxis\":{\"backgroundcolor\":\"#E5ECF6\",\"gridcolor\":\"white\",\"gridwidth\":2,\"linecolor\":\"white\",\"showbackground\":true,\"ticks\":\"\",\"zerolinecolor\":\"white\"}},\"shapedefaults\":{\"line\":{\"color\":\"#2a3f5f\"}},\"ternary\":{\"aaxis\":{\"gridcolor\":\"white\",\"linecolor\":\"white\",\"ticks\":\"\"},\"baxis\":{\"gridcolor\":\"white\",\"linecolor\":\"white\",\"ticks\":\"\"},\"bgcolor\":\"#E5ECF6\",\"caxis\":{\"gridcolor\":\"white\",\"linecolor\":\"white\",\"ticks\":\"\"}},\"title\":{\"x\":0.05},\"xaxis\":{\"automargin\":true,\"gridcolor\":\"white\",\"linecolor\":\"white\",\"ticks\":\"\",\"title\":{\"standoff\":15},\"zerolinecolor\":\"white\",\"zerolinewidth\":2},\"yaxis\":{\"automargin\":true,\"gridcolor\":\"white\",\"linecolor\":\"white\",\"ticks\":\"\",\"title\":{\"standoff\":15},\"zerolinecolor\":\"white\",\"zerolinewidth\":2}}},\"xaxis\":{\"anchor\":\"y\",\"domain\":[0.0,1.0],\"title\":{\"text\":\"Date\"},\"showgrid\":false},\"yaxis\":{\"anchor\":\"x\",\"domain\":[0.0,1.0],\"title\":{\"text\":\"Close\"},\"showgrid\":false},\"legend\":{\"tracegroupgap\":0},\"margin\":{\"t\":60},\"title\":{\"text\":\"Bitcoin close price from 2014-2022\"},\"font\":{\"size\":15,\"color\":\"blue\"},\"plot_bgcolor\":\"white\"},                        {\"responsive\": true}                    ).then(function(){\n",
       "                            \n",
       "var gd = document.getElementById('d9dc443f-a830-46ca-a2a2-7ae73c652a42');\n",
       "var x = new MutationObserver(function (mutations, observer) {{\n",
       "        var display = window.getComputedStyle(gd).display;\n",
       "        if (!display || display === 'none') {{\n",
       "            console.log([gd, 'removed!']);\n",
       "            Plotly.purge(gd);\n",
       "            observer.disconnect();\n",
       "        }}\n",
       "}});\n",
       "\n",
       "// Listen for the removal of the full notebook cells\n",
       "var notebookContainer = gd.closest('#notebook-container');\n",
       "if (notebookContainer) {{\n",
       "    x.observe(notebookContainer, {childList: true});\n",
       "}}\n",
       "\n",
       "// Listen for the clearing of the current output cell\n",
       "var outputEl = gd.closest('.output');\n",
       "if (outputEl) {{\n",
       "    x.observe(outputEl, {childList: true});\n",
       "}}\n",
       "\n",
       "                        })                };                            </script>        </div>\n",
       "</body>\n",
       "</html>"
      ]
     },
     "metadata": {},
     "output_type": "display_data"
    }
   ],
   "source": [
    "# Getting all the closing prices from last one year\n",
    "closedf = maindf[['Date','Close']]\n",
    "print(\"Shape of close dataframe:\", closedf.shape)\n",
    "\n",
    "fig = px.line(closedf, x=closedf.Date, y=closedf.Close,labels={'date':'Date','close':'Close Stock'})\n",
    "fig.update_traces(marker_line_width=2, opacity=0.8, marker_line_color='red')\n",
    "fig.update_layout(title_text='Bitcoin close price from 2014-2022', plot_bgcolor='white', font_size=15, font_color='blue')\n",
    "fig.update_xaxes(showgrid=False)\n",
    "fig.update_yaxes(showgrid=False)\n",
    "fig.show()"
   ]
  },
  {
   "cell_type": "code",
   "execution_count": 10,
   "metadata": {
    "colab": {
     "base_uri": "https://localhost:8080/"
    },
    "id": "4G9mHDtexqds",
    "outputId": "e732092f-6226-41d4-af26-e50113f8221a"
   },
   "outputs": [
    {
     "name": "stdout",
     "output_type": "stream",
     "text": [
      "Total data for prediction:  365\n"
     ]
    }
   ],
   "source": [
    "# Getting all the closing price of bitcoin from last one year\n",
    "\n",
    "closedf = closedf[closedf['Date'] > '2021-07-29']\n",
    "close_stock = closedf.copy()\n",
    "print(\"Total data for prediction: \",closedf.shape[0])"
   ]
  },
  {
   "cell_type": "code",
   "execution_count": null,
   "metadata": {
    "colab": {
     "base_uri": "https://localhost:8080/",
     "height": 424
    },
    "id": "eOZMrMkGw6GO",
    "outputId": "8c2c9d4b-7b5f-4a21-a4db-71bd18442a51"
   },
   "outputs": [
    {
     "data": {
      "text/html": [
       "\n",
       "  <div id=\"df-c9eb327c-bc5b-49f7-8757-28810a95ae02\">\n",
       "    <div class=\"colab-df-container\">\n",
       "      <div>\n",
       "<style scoped>\n",
       "    .dataframe tbody tr th:only-of-type {\n",
       "        vertical-align: middle;\n",
       "    }\n",
       "\n",
       "    .dataframe tbody tr th {\n",
       "        vertical-align: top;\n",
       "    }\n",
       "\n",
       "    .dataframe thead th {\n",
       "        text-align: right;\n",
       "    }\n",
       "</style>\n",
       "<table border=\"1\" class=\"dataframe\">\n",
       "  <thead>\n",
       "    <tr style=\"text-align: right;\">\n",
       "      <th></th>\n",
       "      <th>Date</th>\n",
       "      <th>Close</th>\n",
       "    </tr>\n",
       "  </thead>\n",
       "  <tbody>\n",
       "    <tr>\n",
       "      <th>2508</th>\n",
       "      <td>2021-07-30</td>\n",
       "      <td>42235.546875</td>\n",
       "    </tr>\n",
       "    <tr>\n",
       "      <th>2509</th>\n",
       "      <td>2021-07-31</td>\n",
       "      <td>41626.195313</td>\n",
       "    </tr>\n",
       "    <tr>\n",
       "      <th>2510</th>\n",
       "      <td>2021-08-01</td>\n",
       "      <td>39974.894531</td>\n",
       "    </tr>\n",
       "    <tr>\n",
       "      <th>2511</th>\n",
       "      <td>2021-08-02</td>\n",
       "      <td>39201.945313</td>\n",
       "    </tr>\n",
       "    <tr>\n",
       "      <th>2512</th>\n",
       "      <td>2021-08-03</td>\n",
       "      <td>38152.980469</td>\n",
       "    </tr>\n",
       "    <tr>\n",
       "      <th>...</th>\n",
       "      <td>...</td>\n",
       "      <td>...</td>\n",
       "    </tr>\n",
       "    <tr>\n",
       "      <th>2868</th>\n",
       "      <td>2022-07-25</td>\n",
       "      <td>21361.701172</td>\n",
       "    </tr>\n",
       "    <tr>\n",
       "      <th>2869</th>\n",
       "      <td>2022-07-26</td>\n",
       "      <td>21239.753906</td>\n",
       "    </tr>\n",
       "    <tr>\n",
       "      <th>2870</th>\n",
       "      <td>2022-07-27</td>\n",
       "      <td>22930.548828</td>\n",
       "    </tr>\n",
       "    <tr>\n",
       "      <th>2871</th>\n",
       "      <td>2022-07-28</td>\n",
       "      <td>23843.886719</td>\n",
       "    </tr>\n",
       "    <tr>\n",
       "      <th>2872</th>\n",
       "      <td>2022-07-29</td>\n",
       "      <td>24125.035156</td>\n",
       "    </tr>\n",
       "  </tbody>\n",
       "</table>\n",
       "<p>365 rows × 2 columns</p>\n",
       "</div>\n",
       "      <button class=\"colab-df-convert\" onclick=\"convertToInteractive('df-c9eb327c-bc5b-49f7-8757-28810a95ae02')\"\n",
       "              title=\"Convert this dataframe to an interactive table.\"\n",
       "              style=\"display:none;\">\n",
       "        \n",
       "  <svg xmlns=\"http://www.w3.org/2000/svg\" height=\"24px\"viewBox=\"0 0 24 24\"\n",
       "       width=\"24px\">\n",
       "    <path d=\"M0 0h24v24H0V0z\" fill=\"none\"/>\n",
       "    <path d=\"M18.56 5.44l.94 2.06.94-2.06 2.06-.94-2.06-.94-.94-2.06-.94 2.06-2.06.94zm-11 1L8.5 8.5l.94-2.06 2.06-.94-2.06-.94L8.5 2.5l-.94 2.06-2.06.94zm10 10l.94 2.06.94-2.06 2.06-.94-2.06-.94-.94-2.06-.94 2.06-2.06.94z\"/><path d=\"M17.41 7.96l-1.37-1.37c-.4-.4-.92-.59-1.43-.59-.52 0-1.04.2-1.43.59L10.3 9.45l-7.72 7.72c-.78.78-.78 2.05 0 2.83L4 21.41c.39.39.9.59 1.41.59.51 0 1.02-.2 1.41-.59l7.78-7.78 2.81-2.81c.8-.78.8-2.07 0-2.86zM5.41 20L4 18.59l7.72-7.72 1.47 1.35L5.41 20z\"/>\n",
       "  </svg>\n",
       "      </button>\n",
       "      \n",
       "  <style>\n",
       "    .colab-df-container {\n",
       "      display:flex;\n",
       "      flex-wrap:wrap;\n",
       "      gap: 12px;\n",
       "    }\n",
       "\n",
       "    .colab-df-convert {\n",
       "      background-color: #E8F0FE;\n",
       "      border: none;\n",
       "      border-radius: 50%;\n",
       "      cursor: pointer;\n",
       "      display: none;\n",
       "      fill: #1967D2;\n",
       "      height: 32px;\n",
       "      padding: 0 0 0 0;\n",
       "      width: 32px;\n",
       "    }\n",
       "\n",
       "    .colab-df-convert:hover {\n",
       "      background-color: #E2EBFA;\n",
       "      box-shadow: 0px 1px 2px rgba(60, 64, 67, 0.3), 0px 1px 3px 1px rgba(60, 64, 67, 0.15);\n",
       "      fill: #174EA6;\n",
       "    }\n",
       "\n",
       "    [theme=dark] .colab-df-convert {\n",
       "      background-color: #3B4455;\n",
       "      fill: #D2E3FC;\n",
       "    }\n",
       "\n",
       "    [theme=dark] .colab-df-convert:hover {\n",
       "      background-color: #434B5C;\n",
       "      box-shadow: 0px 1px 3px 1px rgba(0, 0, 0, 0.15);\n",
       "      filter: drop-shadow(0px 1px 2px rgba(0, 0, 0, 0.3));\n",
       "      fill: #FFFFFF;\n",
       "    }\n",
       "  </style>\n",
       "\n",
       "      <script>\n",
       "        const buttonEl =\n",
       "          document.querySelector('#df-c9eb327c-bc5b-49f7-8757-28810a95ae02 button.colab-df-convert');\n",
       "        buttonEl.style.display =\n",
       "          google.colab.kernel.accessAllowed ? 'block' : 'none';\n",
       "\n",
       "        async function convertToInteractive(key) {\n",
       "          const element = document.querySelector('#df-c9eb327c-bc5b-49f7-8757-28810a95ae02');\n",
       "          const dataTable =\n",
       "            await google.colab.kernel.invokeFunction('convertToInteractive',\n",
       "                                                     [key], {});\n",
       "          if (!dataTable) return;\n",
       "\n",
       "          const docLinkHtml = 'Like what you see? Visit the ' +\n",
       "            '<a target=\"_blank\" href=https://colab.research.google.com/notebooks/data_table.ipynb>data table notebook</a>'\n",
       "            + ' to learn more about interactive tables.';\n",
       "          element.innerHTML = '';\n",
       "          dataTable['output_type'] = 'display_data';\n",
       "          await google.colab.output.renderOutput(dataTable, element);\n",
       "          const docLink = document.createElement('div');\n",
       "          docLink.innerHTML = docLinkHtml;\n",
       "          element.appendChild(docLink);\n",
       "        }\n",
       "      </script>\n",
       "    </div>\n",
       "  </div>\n",
       "  "
      ],
      "text/plain": [
       "            Date         Close\n",
       "2508  2021-07-30  42235.546875\n",
       "2509  2021-07-31  41626.195313\n",
       "2510  2021-08-01  39974.894531\n",
       "2511  2021-08-02  39201.945313\n",
       "2512  2021-08-03  38152.980469\n",
       "...          ...           ...\n",
       "2868  2022-07-25  21361.701172\n",
       "2869  2022-07-26  21239.753906\n",
       "2870  2022-07-27  22930.548828\n",
       "2871  2022-07-28  23843.886719\n",
       "2872  2022-07-29  24125.035156\n",
       "\n",
       "[365 rows x 2 columns]"
      ]
     },
     "execution_count": 37,
     "metadata": {},
     "output_type": "execute_result"
    }
   ],
   "source": [
    "closedf"
   ]
  },
  {
   "cell_type": "markdown",
   "metadata": {
    "id": "F193NcX9xLvI"
   },
   "source": [
    "<h3> <b>Displaying Bitcoin Price of Last 1 Year <b></h3>"
   ]
  },
  {
   "cell_type": "code",
   "execution_count": 11,
   "metadata": {
    "colab": {
     "base_uri": "https://localhost:8080/",
     "height": 542
    },
    "id": "G78P9PMVxRRR",
    "outputId": "f045e49c-5025-4505-8ae2-02b1a1579f6e"
   },
   "outputs": [
    {
     "data": {
      "text/html": [
       "<html>\n",
       "<head><meta charset=\"utf-8\" /></head>\n",
       "<body>\n",
       "    <div>            <script src=\"https://cdnjs.cloudflare.com/ajax/libs/mathjax/2.7.5/MathJax.js?config=TeX-AMS-MML_SVG\"></script><script type=\"text/javascript\">if (window.MathJax) {MathJax.Hub.Config({SVG: {font: \"STIX-Web\"}});}</script>                <script type=\"text/javascript\">window.PlotlyConfig = {MathJaxConfig: 'local'};</script>\n",
       "        <script src=\"https://cdn.plot.ly/plotly-2.8.3.min.js\"></script>                <div id=\"533571a2-173d-4587-8b25-937620a91253\" class=\"plotly-graph-div\" style=\"height:525px; width:100%;\"></div>            <script type=\"text/javascript\">                                    window.PLOTLYENV=window.PLOTLYENV || {};                                    if (document.getElementById(\"533571a2-173d-4587-8b25-937620a91253\")) {                    Plotly.newPlot(                        \"533571a2-173d-4587-8b25-937620a91253\",                        [{\"hovertemplate\":\"Date=%{x}<br>Close=%{y}<extra></extra>\",\"legendgroup\":\"\",\"line\":{\"color\":\"#636efa\",\"dash\":\"solid\"},\"marker\":{\"symbol\":\"circle\",\"line\":{\"color\":\"red\",\"width\":2}},\"mode\":\"lines\",\"name\":\"\",\"orientation\":\"v\",\"showlegend\":false,\"x\":[\"2021-12-17\",\"2021-12-18\",\"2021-12-19\",\"2021-12-20\",\"2021-12-21\",\"2021-12-22\",\"2021-12-23\",\"2021-12-24\",\"2021-12-25\",\"2021-12-26\",\"2021-12-27\",\"2021-12-28\",\"2021-12-29\",\"2021-12-30\",\"2021-12-31\",\"2022-01-01\",\"2022-01-02\",\"2022-01-03\",\"2022-01-04\",\"2022-01-05\",\"2022-01-06\",\"2022-01-07\",\"2022-01-08\",\"2022-01-09\",\"2022-01-10\",\"2022-01-11\",\"2022-01-12\",\"2022-01-13\",\"2022-01-14\",\"2022-01-15\",\"2022-01-16\",\"2022-01-17\",\"2022-01-18\",\"2022-01-19\",\"2022-01-20\",\"2022-01-21\",\"2022-01-22\",\"2022-01-23\",\"2022-01-24\",\"2022-01-25\",\"2022-01-26\",\"2022-01-27\",\"2022-01-28\",\"2022-01-29\",\"2022-01-30\",\"2022-01-31\",\"2022-02-01\",\"2022-02-02\",\"2022-02-03\",\"2022-02-04\",\"2022-02-05\",\"2022-02-06\",\"2022-02-07\",\"2022-02-08\",\"2022-02-09\",\"2022-02-10\",\"2022-02-11\",\"2022-02-12\",\"2022-02-13\",\"2022-02-14\",\"2022-02-15\",\"2022-02-16\",\"2022-02-17\",\"2022-02-18\",\"2022-02-19\",\"2022-02-20\",\"2022-02-21\",\"2022-02-22\",\"2022-02-23\",\"2022-02-24\",\"2022-02-25\",\"2022-02-26\",\"2022-02-27\",\"2022-02-28\",\"2022-03-01\",\"2022-03-02\",\"2022-03-03\",\"2022-03-04\",\"2022-03-05\",\"2022-03-06\",\"2022-03-07\",\"2022-03-08\",\"2022-03-09\",\"2022-03-10\",\"2022-03-11\",\"2022-03-12\",\"2022-03-13\",\"2022-03-14\",\"2022-03-15\",\"2022-03-16\",\"2022-03-17\",\"2022-03-18\",\"2022-03-19\",\"2022-03-20\",\"2022-03-21\",\"2022-03-22\",\"2022-03-23\",\"2022-03-24\",\"2022-03-25\",\"2022-03-26\",\"2022-03-27\",\"2022-03-28\",\"2022-03-29\",\"2022-03-30\",\"2022-03-31\",\"2022-04-01\",\"2022-04-02\",\"2022-04-03\",\"2022-04-04\",\"2022-04-05\",\"2022-04-06\",\"2022-04-07\",\"2022-04-08\",\"2022-04-09\",\"2022-04-10\",\"2022-04-11\",\"2022-04-12\",\"2022-04-13\",\"2022-04-14\",\"2022-04-15\",\"2022-04-16\",\"2022-04-17\",\"2022-04-18\",\"2022-04-19\",\"2022-04-20\",\"2022-04-21\",\"2022-04-22\",\"2022-04-23\",\"2022-04-24\",\"2022-04-25\",\"2022-04-26\",\"2022-04-27\",\"2022-04-28\",\"2022-04-29\",\"2022-04-30\",\"2022-05-01\",\"2022-05-02\",\"2022-05-03\",\"2022-05-04\",\"2022-05-05\",\"2022-05-06\",\"2022-05-07\",\"2022-05-08\",\"2022-05-09\",\"2022-05-10\",\"2022-05-11\",\"2022-05-12\",\"2022-05-13\",\"2022-05-14\",\"2022-05-15\",\"2022-05-16\",\"2022-05-17\",\"2022-05-18\",\"2022-05-19\",\"2022-05-20\",\"2022-05-21\",\"2022-05-22\",\"2022-05-23\",\"2022-05-24\",\"2022-05-25\",\"2022-05-26\",\"2022-05-27\",\"2022-05-28\",\"2022-05-29\",\"2022-05-30\",\"2022-05-31\",\"2022-06-01\",\"2022-06-02\",\"2022-06-03\",\"2022-06-04\",\"2022-06-05\",\"2022-06-06\",\"2022-06-07\",\"2022-06-08\",\"2022-06-09\",\"2022-06-10\",\"2022-06-11\",\"2022-06-12\",\"2022-06-13\",\"2022-06-14\",\"2022-06-15\",\"2022-06-16\",\"2022-06-17\",\"2022-06-18\",\"2022-06-19\",\"2022-06-20\",\"2022-06-21\",\"2022-06-22\",\"2022-06-23\",\"2022-06-24\",\"2022-06-25\",\"2022-06-26\",\"2022-06-27\",\"2022-06-28\",\"2022-06-29\",\"2022-06-30\",\"2022-07-01\",\"2022-07-02\",\"2022-07-03\",\"2022-07-04\",\"2022-07-05\",\"2022-07-06\",\"2022-07-07\",\"2022-07-08\",\"2022-07-09\",\"2022-07-10\",\"2022-07-11\",\"2022-07-12\",\"2022-07-13\",\"2022-07-14\",\"2022-07-15\",\"2022-07-16\",\"2022-07-17\",\"2022-07-18\",\"2022-07-19\",\"2022-07-20\",\"2022-07-21\",\"2022-07-22\",\"2022-07-23\",\"2022-07-24\",\"2022-07-25\",\"2022-07-26\",\"2022-07-27\",\"2022-07-28\",\"2022-07-29\",\"2022-07-30\",\"2022-07-31\",\"2022-08-01\",\"2022-08-02\",\"2022-08-03\",\"2022-08-04\",\"2022-08-05\",\"2022-08-06\",\"2022-08-07\",\"2022-08-08\",\"2022-08-09\",\"2022-08-10\",\"2022-08-11\",\"2022-08-12\",\"2022-08-13\",\"2022-08-14\",\"2022-08-15\",\"2022-08-16\",\"2022-08-17\",\"2022-08-18\",\"2022-08-19\",\"2022-08-20\",\"2022-08-21\",\"2022-08-22\",\"2022-08-23\",\"2022-08-24\",\"2022-08-25\",\"2022-08-26\",\"2022-08-27\",\"2022-08-28\",\"2022-08-29\",\"2022-08-30\",\"2022-08-31\",\"2022-09-01\",\"2022-09-02\",\"2022-09-03\",\"2022-09-04\",\"2022-09-05\",\"2022-09-06\",\"2022-09-07\",\"2022-09-08\",\"2022-09-09\",\"2022-09-10\",\"2022-09-11\",\"2022-09-12\",\"2022-09-13\",\"2022-09-14\",\"2022-09-15\",\"2022-09-16\",\"2022-09-17\",\"2022-09-18\",\"2022-09-19\",\"2022-09-20\",\"2022-09-21\",\"2022-09-22\",\"2022-09-23\",\"2022-09-24\",\"2022-09-25\",\"2022-09-26\",\"2022-09-27\",\"2022-09-28\",\"2022-09-29\",\"2022-09-30\",\"2022-10-01\",\"2022-10-02\",\"2022-10-03\",\"2022-10-04\",\"2022-10-05\",\"2022-10-06\",\"2022-10-07\",\"2022-10-08\",\"2022-10-09\",\"2022-10-10\",\"2022-10-11\",\"2022-10-12\",\"2022-10-13\",\"2022-10-14\",\"2022-10-15\",\"2022-10-16\",\"2022-10-17\",\"2022-10-18\",\"2022-10-19\",\"2022-10-20\",\"2022-10-21\",\"2022-10-22\",\"2022-10-23\",\"2022-10-24\",\"2022-10-25\",\"2022-10-26\",\"2022-10-27\",\"2022-10-28\",\"2022-10-29\",\"2022-10-30\",\"2022-10-31\",\"2022-11-01\",\"2022-11-02\",\"2022-11-03\",\"2022-11-04\",\"2022-11-05\",\"2022-11-06\",\"2022-11-07\",\"2022-11-08\",\"2022-11-09\",\"2022-11-10\",\"2022-11-11\",\"2022-11-12\",\"2022-11-13\",\"2022-11-14\",\"2022-11-15\",\"2022-11-16\",\"2022-11-17\",\"2022-11-18\",\"2022-11-19\",\"2022-11-20\",\"2022-11-21\",\"2022-11-22\",\"2022-11-23\",\"2022-11-24\",\"2022-11-25\",\"2022-11-26\",\"2022-11-27\",\"2022-11-28\",\"2022-11-29\",\"2022-11-30\",\"2022-12-01\",\"2022-12-02\",\"2022-12-03\",\"2022-12-04\",\"2022-12-05\",\"2022-12-06\",\"2022-12-07\",\"2022-12-08\",\"2022-12-09\",\"2022-12-10\",\"2022-12-11\",\"2022-12-12\",\"2022-12-13\",\"2022-12-14\",\"2022-12-15\",\"2022-12-16\"],\"xaxis\":\"x\",\"y\":[46202.144531,46848.777344,46707.015625,46880.277344,48936.613281,48628.511719,50784.539063,50822.195313,50429.859375,50809.515625,50640.417969,47588.855469,46444.710938,47178.125,46306.445313,47686.8125,47345.21875,46458.117188,45897.574219,43569.003906,43160.929688,41557.902344,41733.941406,41911.601563,41821.261719,42735.855469,43949.101563,42591.570313,43099.699219,43177.398438,43113.878906,42250.550781,42375.632813,41744.328125,40680.417969,36457.316406,35030.25,36276.804688,36654.328125,36954.003906,36852.121094,37138.234375,37784.332031,38138.179688,37917.601563,38483.125,38743.273438,36952.984375,37154.601563,41500.875,41441.164063,42412.433594,43840.285156,44118.445313,44338.796875,43565.113281,42407.9375,42244.46875,42197.515625,42586.917969,44575.203125,43961.859375,40538.011719,40030.976563,40122.15625,38431.378906,37075.28125,38286.027344,37296.570313,38332.609375,39214.21875,39105.148438,37709.785156,43193.234375,44354.636719,43924.117188,42451.789063,39137.605469,39400.585938,38419.984375,38062.039063,38737.269531,41982.925781,39437.460938,38794.972656,38904.011719,37849.664063,39666.753906,39338.785156,41143.929688,40951.378906,41801.15625,42190.652344,41247.824219,41077.996094,42358.808594,42892.957031,43960.933594,44348.730469,44500.828125,46820.492188,47128.003906,47465.730469,47062.664063,45538.675781,46281.644531,45868.949219,46453.566406,46622.675781,45555.992188,43206.738281,43503.847656,42287.664063,42782.136719,42207.671875,39521.902344,40127.183594,41166.730469,39935.515625,40553.464844,40424.484375,39716.953125,40826.214844,41502.75,41374.378906,40527.363281,39740.320313,39486.730469,39469.292969,40458.308594,38117.460938,39241.121094,39773.828125,38609.824219,37714.875,38469.09375,38529.328125,37750.453125,39698.371094,36575.140625,36040.921875,35501.953125,34059.265625,30296.953125,31022.90625,28936.355469,29047.751953,29283.103516,30101.265625,31305.113281,29862.917969,30425.857422,28720.271484,30314.333984,29200.740234,29432.226563,30323.722656,29098.910156,29655.585938,29562.361328,29267.224609,28627.574219,28814.900391,29445.957031,31726.390625,31792.310547,29799.080078,30467.488281,29704.390625,29832.914063,29906.662109,31370.671875,31155.478516,30214.355469,30111.998047,29083.804688,28360.810547,26762.648438,22487.388672,22206.792969,22572.839844,20381.650391,20471.482422,19017.642578,20553.271484,20599.537109,20710.597656,19987.029297,21085.876953,21231.65625,21502.337891,21027.294922,20735.478516,20280.634766,20104.023438,19784.726563,19269.367188,19242.255859,19297.076172,20231.261719,20190.115234,20548.246094,21637.587891,21731.117188,21592.207031,20860.449219,19970.556641,19323.914063,20212.074219,20569.919922,20836.328125,21190.316406,20779.34375,22485.689453,23389.433594,23231.732422,23164.628906,22714.978516,22465.478516,22609.164063,21361.701172,21239.753906,22930.548828,23843.886719,23804.632813,23656.207031,23336.896484,23314.199219,22978.117188,22846.507813,22630.957031,23289.314453,22961.279297,23175.890625,23809.486328,23164.318359,23947.642578,23957.529297,24402.818359,24424.068359,24319.333984,24136.972656,23883.291016,23335.998047,23212.738281,20877.552734,21166.060547,21534.121094,21398.908203,21528.087891,21395.019531,21600.904297,20260.019531,20041.738281,19616.814453,20297.994141,19796.808594,20049.763672,20127.140625,19969.771484,19832.087891,19986.712891,19812.371094,18837.667969,19290.324219,19329.833984,21381.152344,21680.539063,21769.255859,22370.449219,20296.707031,20241.089844,19701.210938,19772.583984,20127.576172,19419.505859,19544.128906,18890.789063,18547.400391,19413.550781,19297.638672,18937.011719,18802.097656,19222.671875,19110.546875,19426.720703,19573.050781,19431.789063,19312.095703,19044.107422,19623.580078,20336.84375,20160.716797,19955.443359,19546.849609,19416.568359,19446.425781,19141.484375,19051.417969,19157.445313,19382.904297,19185.65625,19067.634766,19268.09375,19550.757813,19334.416016,19139.535156,19053.740234,19172.46875,19208.189453,19567.007813,19345.572266,20095.857422,20770.441406,20285.835938,20595.351563,20818.476563,20635.603516,20495.773438,20485.273438,20159.503906,20209.988281,21147.230469,21282.691406,20926.486328,20602.816406,18541.271484,15880.780273,17586.771484,17034.292969,16799.185547,16353.365234,16618.199219,16884.613281,16669.439453,16687.517578,16697.777344,16711.546875,16291.832031,15787.28418,16189.769531,16610.707031,16604.464844,16521.841797,16464.28125,16444.626953,16217.322266,16444.982422,17168.566406,16967.132813,17088.660156,16908.236328,17130.486328,16974.826172,17089.503906,16848.126953,17233.474609,17133.152344,17128.724609,17104.193359,17206.4375,17781.318359,17815.650391,17364.865234,16887.666016],\"yaxis\":\"y\",\"type\":\"scatter\",\"opacity\":0.8}],                        {\"template\":{\"data\":{\"bar\":[{\"error_x\":{\"color\":\"#2a3f5f\"},\"error_y\":{\"color\":\"#2a3f5f\"},\"marker\":{\"line\":{\"color\":\"#E5ECF6\",\"width\":0.5},\"pattern\":{\"fillmode\":\"overlay\",\"size\":10,\"solidity\":0.2}},\"type\":\"bar\"}],\"barpolar\":[{\"marker\":{\"line\":{\"color\":\"#E5ECF6\",\"width\":0.5},\"pattern\":{\"fillmode\":\"overlay\",\"size\":10,\"solidity\":0.2}},\"type\":\"barpolar\"}],\"carpet\":[{\"aaxis\":{\"endlinecolor\":\"#2a3f5f\",\"gridcolor\":\"white\",\"linecolor\":\"white\",\"minorgridcolor\":\"white\",\"startlinecolor\":\"#2a3f5f\"},\"baxis\":{\"endlinecolor\":\"#2a3f5f\",\"gridcolor\":\"white\",\"linecolor\":\"white\",\"minorgridcolor\":\"white\",\"startlinecolor\":\"#2a3f5f\"},\"type\":\"carpet\"}],\"choropleth\":[{\"colorbar\":{\"outlinewidth\":0,\"ticks\":\"\"},\"type\":\"choropleth\"}],\"contour\":[{\"colorbar\":{\"outlinewidth\":0,\"ticks\":\"\"},\"colorscale\":[[0.0,\"#0d0887\"],[0.1111111111111111,\"#46039f\"],[0.2222222222222222,\"#7201a8\"],[0.3333333333333333,\"#9c179e\"],[0.4444444444444444,\"#bd3786\"],[0.5555555555555556,\"#d8576b\"],[0.6666666666666666,\"#ed7953\"],[0.7777777777777778,\"#fb9f3a\"],[0.8888888888888888,\"#fdca26\"],[1.0,\"#f0f921\"]],\"type\":\"contour\"}],\"contourcarpet\":[{\"colorbar\":{\"outlinewidth\":0,\"ticks\":\"\"},\"type\":\"contourcarpet\"}],\"heatmap\":[{\"colorbar\":{\"outlinewidth\":0,\"ticks\":\"\"},\"colorscale\":[[0.0,\"#0d0887\"],[0.1111111111111111,\"#46039f\"],[0.2222222222222222,\"#7201a8\"],[0.3333333333333333,\"#9c179e\"],[0.4444444444444444,\"#bd3786\"],[0.5555555555555556,\"#d8576b\"],[0.6666666666666666,\"#ed7953\"],[0.7777777777777778,\"#fb9f3a\"],[0.8888888888888888,\"#fdca26\"],[1.0,\"#f0f921\"]],\"type\":\"heatmap\"}],\"heatmapgl\":[{\"colorbar\":{\"outlinewidth\":0,\"ticks\":\"\"},\"colorscale\":[[0.0,\"#0d0887\"],[0.1111111111111111,\"#46039f\"],[0.2222222222222222,\"#7201a8\"],[0.3333333333333333,\"#9c179e\"],[0.4444444444444444,\"#bd3786\"],[0.5555555555555556,\"#d8576b\"],[0.6666666666666666,\"#ed7953\"],[0.7777777777777778,\"#fb9f3a\"],[0.8888888888888888,\"#fdca26\"],[1.0,\"#f0f921\"]],\"type\":\"heatmapgl\"}],\"histogram\":[{\"marker\":{\"pattern\":{\"fillmode\":\"overlay\",\"size\":10,\"solidity\":0.2}},\"type\":\"histogram\"}],\"histogram2d\":[{\"colorbar\":{\"outlinewidth\":0,\"ticks\":\"\"},\"colorscale\":[[0.0,\"#0d0887\"],[0.1111111111111111,\"#46039f\"],[0.2222222222222222,\"#7201a8\"],[0.3333333333333333,\"#9c179e\"],[0.4444444444444444,\"#bd3786\"],[0.5555555555555556,\"#d8576b\"],[0.6666666666666666,\"#ed7953\"],[0.7777777777777778,\"#fb9f3a\"],[0.8888888888888888,\"#fdca26\"],[1.0,\"#f0f921\"]],\"type\":\"histogram2d\"}],\"histogram2dcontour\":[{\"colorbar\":{\"outlinewidth\":0,\"ticks\":\"\"},\"colorscale\":[[0.0,\"#0d0887\"],[0.1111111111111111,\"#46039f\"],[0.2222222222222222,\"#7201a8\"],[0.3333333333333333,\"#9c179e\"],[0.4444444444444444,\"#bd3786\"],[0.5555555555555556,\"#d8576b\"],[0.6666666666666666,\"#ed7953\"],[0.7777777777777778,\"#fb9f3a\"],[0.8888888888888888,\"#fdca26\"],[1.0,\"#f0f921\"]],\"type\":\"histogram2dcontour\"}],\"mesh3d\":[{\"colorbar\":{\"outlinewidth\":0,\"ticks\":\"\"},\"type\":\"mesh3d\"}],\"parcoords\":[{\"line\":{\"colorbar\":{\"outlinewidth\":0,\"ticks\":\"\"}},\"type\":\"parcoords\"}],\"pie\":[{\"automargin\":true,\"type\":\"pie\"}],\"scatter\":[{\"marker\":{\"colorbar\":{\"outlinewidth\":0,\"ticks\":\"\"}},\"type\":\"scatter\"}],\"scatter3d\":[{\"line\":{\"colorbar\":{\"outlinewidth\":0,\"ticks\":\"\"}},\"marker\":{\"colorbar\":{\"outlinewidth\":0,\"ticks\":\"\"}},\"type\":\"scatter3d\"}],\"scattercarpet\":[{\"marker\":{\"colorbar\":{\"outlinewidth\":0,\"ticks\":\"\"}},\"type\":\"scattercarpet\"}],\"scattergeo\":[{\"marker\":{\"colorbar\":{\"outlinewidth\":0,\"ticks\":\"\"}},\"type\":\"scattergeo\"}],\"scattergl\":[{\"marker\":{\"colorbar\":{\"outlinewidth\":0,\"ticks\":\"\"}},\"type\":\"scattergl\"}],\"scattermapbox\":[{\"marker\":{\"colorbar\":{\"outlinewidth\":0,\"ticks\":\"\"}},\"type\":\"scattermapbox\"}],\"scatterpolar\":[{\"marker\":{\"colorbar\":{\"outlinewidth\":0,\"ticks\":\"\"}},\"type\":\"scatterpolar\"}],\"scatterpolargl\":[{\"marker\":{\"colorbar\":{\"outlinewidth\":0,\"ticks\":\"\"}},\"type\":\"scatterpolargl\"}],\"scatterternary\":[{\"marker\":{\"colorbar\":{\"outlinewidth\":0,\"ticks\":\"\"}},\"type\":\"scatterternary\"}],\"surface\":[{\"colorbar\":{\"outlinewidth\":0,\"ticks\":\"\"},\"colorscale\":[[0.0,\"#0d0887\"],[0.1111111111111111,\"#46039f\"],[0.2222222222222222,\"#7201a8\"],[0.3333333333333333,\"#9c179e\"],[0.4444444444444444,\"#bd3786\"],[0.5555555555555556,\"#d8576b\"],[0.6666666666666666,\"#ed7953\"],[0.7777777777777778,\"#fb9f3a\"],[0.8888888888888888,\"#fdca26\"],[1.0,\"#f0f921\"]],\"type\":\"surface\"}],\"table\":[{\"cells\":{\"fill\":{\"color\":\"#EBF0F8\"},\"line\":{\"color\":\"white\"}},\"header\":{\"fill\":{\"color\":\"#C8D4E3\"},\"line\":{\"color\":\"white\"}},\"type\":\"table\"}]},\"layout\":{\"annotationdefaults\":{\"arrowcolor\":\"#2a3f5f\",\"arrowhead\":0,\"arrowwidth\":1},\"autotypenumbers\":\"strict\",\"coloraxis\":{\"colorbar\":{\"outlinewidth\":0,\"ticks\":\"\"}},\"colorscale\":{\"diverging\":[[0,\"#8e0152\"],[0.1,\"#c51b7d\"],[0.2,\"#de77ae\"],[0.3,\"#f1b6da\"],[0.4,\"#fde0ef\"],[0.5,\"#f7f7f7\"],[0.6,\"#e6f5d0\"],[0.7,\"#b8e186\"],[0.8,\"#7fbc41\"],[0.9,\"#4d9221\"],[1,\"#276419\"]],\"sequential\":[[0.0,\"#0d0887\"],[0.1111111111111111,\"#46039f\"],[0.2222222222222222,\"#7201a8\"],[0.3333333333333333,\"#9c179e\"],[0.4444444444444444,\"#bd3786\"],[0.5555555555555556,\"#d8576b\"],[0.6666666666666666,\"#ed7953\"],[0.7777777777777778,\"#fb9f3a\"],[0.8888888888888888,\"#fdca26\"],[1.0,\"#f0f921\"]],\"sequentialminus\":[[0.0,\"#0d0887\"],[0.1111111111111111,\"#46039f\"],[0.2222222222222222,\"#7201a8\"],[0.3333333333333333,\"#9c179e\"],[0.4444444444444444,\"#bd3786\"],[0.5555555555555556,\"#d8576b\"],[0.6666666666666666,\"#ed7953\"],[0.7777777777777778,\"#fb9f3a\"],[0.8888888888888888,\"#fdca26\"],[1.0,\"#f0f921\"]]},\"colorway\":[\"#636efa\",\"#EF553B\",\"#00cc96\",\"#ab63fa\",\"#FFA15A\",\"#19d3f3\",\"#FF6692\",\"#B6E880\",\"#FF97FF\",\"#FECB52\"],\"font\":{\"color\":\"#2a3f5f\"},\"geo\":{\"bgcolor\":\"white\",\"lakecolor\":\"white\",\"landcolor\":\"#E5ECF6\",\"showlakes\":true,\"showland\":true,\"subunitcolor\":\"white\"},\"hoverlabel\":{\"align\":\"left\"},\"hovermode\":\"closest\",\"mapbox\":{\"style\":\"light\"},\"paper_bgcolor\":\"white\",\"plot_bgcolor\":\"#E5ECF6\",\"polar\":{\"angularaxis\":{\"gridcolor\":\"white\",\"linecolor\":\"white\",\"ticks\":\"\"},\"bgcolor\":\"#E5ECF6\",\"radialaxis\":{\"gridcolor\":\"white\",\"linecolor\":\"white\",\"ticks\":\"\"}},\"scene\":{\"xaxis\":{\"backgroundcolor\":\"#E5ECF6\",\"gridcolor\":\"white\",\"gridwidth\":2,\"linecolor\":\"white\",\"showbackground\":true,\"ticks\":\"\",\"zerolinecolor\":\"white\"},\"yaxis\":{\"backgroundcolor\":\"#E5ECF6\",\"gridcolor\":\"white\",\"gridwidth\":2,\"linecolor\":\"white\",\"showbackground\":true,\"ticks\":\"\",\"zerolinecolor\":\"white\"},\"zaxis\":{\"backgroundcolor\":\"#E5ECF6\",\"gridcolor\":\"white\",\"gridwidth\":2,\"linecolor\":\"white\",\"showbackground\":true,\"ticks\":\"\",\"zerolinecolor\":\"white\"}},\"shapedefaults\":{\"line\":{\"color\":\"#2a3f5f\"}},\"ternary\":{\"aaxis\":{\"gridcolor\":\"white\",\"linecolor\":\"white\",\"ticks\":\"\"},\"baxis\":{\"gridcolor\":\"white\",\"linecolor\":\"white\",\"ticks\":\"\"},\"bgcolor\":\"#E5ECF6\",\"caxis\":{\"gridcolor\":\"white\",\"linecolor\":\"white\",\"ticks\":\"\"}},\"title\":{\"x\":0.05},\"xaxis\":{\"automargin\":true,\"gridcolor\":\"white\",\"linecolor\":\"white\",\"ticks\":\"\",\"title\":{\"standoff\":15},\"zerolinecolor\":\"white\",\"zerolinewidth\":2},\"yaxis\":{\"automargin\":true,\"gridcolor\":\"white\",\"linecolor\":\"white\",\"ticks\":\"\",\"title\":{\"standoff\":15},\"zerolinecolor\":\"white\",\"zerolinewidth\":2}}},\"xaxis\":{\"anchor\":\"y\",\"domain\":[0.0,1.0],\"title\":{\"text\":\"Date\"},\"showgrid\":false},\"yaxis\":{\"anchor\":\"x\",\"domain\":[0.0,1.0],\"title\":{\"text\":\"Close\"},\"showgrid\":false},\"legend\":{\"tracegroupgap\":0},\"margin\":{\"t\":60},\"title\":{\"text\":\"Bitcoin close price from last 1 Year\"},\"font\":{\"size\":15,\"color\":\"blue\"},\"plot_bgcolor\":\"white\"},                        {\"responsive\": true}                    ).then(function(){\n",
       "                            \n",
       "var gd = document.getElementById('533571a2-173d-4587-8b25-937620a91253');\n",
       "var x = new MutationObserver(function (mutations, observer) {{\n",
       "        var display = window.getComputedStyle(gd).display;\n",
       "        if (!display || display === 'none') {{\n",
       "            console.log([gd, 'removed!']);\n",
       "            Plotly.purge(gd);\n",
       "            observer.disconnect();\n",
       "        }}\n",
       "}});\n",
       "\n",
       "// Listen for the removal of the full notebook cells\n",
       "var notebookContainer = gd.closest('#notebook-container');\n",
       "if (notebookContainer) {{\n",
       "    x.observe(notebookContainer, {childList: true});\n",
       "}}\n",
       "\n",
       "// Listen for the clearing of the current output cell\n",
       "var outputEl = gd.closest('.output');\n",
       "if (outputEl) {{\n",
       "    x.observe(outputEl, {childList: true});\n",
       "}}\n",
       "\n",
       "                        })                };                            </script>        </div>\n",
       "</body>\n",
       "</html>"
      ]
     },
     "metadata": {},
     "output_type": "display_data"
    }
   ],
   "source": [
    "fig = px.line(closedf, x=closedf.Date, y=closedf.Close,labels={'date':'Date','close':'Close Stock'})\n",
    "fig.update_traces(marker_line_width=2, opacity=0.8, marker_line_color='red')\n",
    "fig.update_layout(title_text='Bitcoin close price from last 1 Year', plot_bgcolor='white', font_size=15, font_color='blue')\n",
    "fig.update_xaxes(showgrid=False)\n",
    "fig.update_yaxes(showgrid=False)\n",
    "fig.show()"
   ]
  },
  {
   "cell_type": "markdown",
   "metadata": {
    "id": "PEQ04bm701OA"
   },
   "source": [
    "<h3> <b> Normalising Data </b></h3>"
   ]
  },
  {
   "cell_type": "code",
   "execution_count": 12,
   "metadata": {
    "colab": {
     "base_uri": "https://localhost:8080/"
    },
    "id": "o652wurR0tiT",
    "outputId": "a8e14734-8b00-494f-ad80-4d46e590068b"
   },
   "outputs": [
    {
     "name": "stdout",
     "output_type": "stream",
     "text": [
      "(365, 1)\n"
     ]
    }
   ],
   "source": [
    "del closedf['Date']\n",
    "scaler = MinMaxScaler(feature_range=(0,1))\n",
    "closedf = scaler.fit_transform(np.array(closedf).reshape(-1,1))\n",
    "print(closedf.shape)"
   ]
  },
  {
   "cell_type": "markdown",
   "metadata": {
    "id": "lewsDpMX2GsG"
   },
   "source": [
    "<h3> <b>Slicing Data into Training and Test Data </b></h3>\n",
    "\n",
    "\n",
    "*   We keep the training Data as 60%\n",
    "*   We keep the test Data as 40%\n",
    "\n"
   ]
  },
  {
   "cell_type": "code",
   "execution_count": 13,
   "metadata": {
    "colab": {
     "base_uri": "https://localhost:8080/"
    },
    "id": "Q1Ita-xk2A86",
    "outputId": "2909f08c-11bf-4984-da3f-c0450b4f9579"
   },
   "outputs": [
    {
     "name": "stdout",
     "output_type": "stream",
     "text": [
      "train_data:  (219, 1)\n",
      "test_data:  (146, 1)\n"
     ]
    }
   ],
   "source": [
    "training_size = int(len(closedf)*0.60)\n",
    "test_size = len(closedf) - training_size\n",
    "train_data, test_data = closedf[0:training_size,:], closedf[training_size:len(closedf),:1]\n",
    "print(\"train_data: \", train_data.shape)\n",
    "print(\"test_data: \", test_data.shape)"
   ]
  },
  {
   "cell_type": "markdown",
   "metadata": {
    "id": "06DE9a2MWcx8"
   },
   "source": [
    "<h3>Transform the closed price based on time series analysis forecasting <h3>"
   ]
  },
  {
   "cell_type": "code",
   "execution_count": 14,
   "metadata": {
    "id": "sXdqid2sWs3Y"
   },
   "outputs": [],
   "source": [
    "# Converting an array of values into a dataset matrix\n",
    "\n",
    "def create_dataset(dataset, time_step=1):\n",
    "    dataX, dataY = [], []\n",
    "    for i in range(len(dataset)-time_step-1):\n",
    "        a = dataset[i:(i+time_step), 0]   ###i=0, 0,1,2,3-----99   100 \n",
    "        dataX.append(a)\n",
    "        dataY.append(dataset[i + time_step, 0])\n",
    "    return np.array(dataX), np.array(dataY)"
   ]
  },
  {
   "cell_type": "code",
   "execution_count": 15,
   "metadata": {
    "colab": {
     "base_uri": "https://localhost:8080/"
    },
    "id": "G0rZ5BF_W54t",
    "outputId": "72f4e7b7-1d61-448b-c9b6-f3f7fc924bdd"
   },
   "outputs": [
    {
     "name": "stdout",
     "output_type": "stream",
     "text": [
      "X_train:  (203, 15)\n",
      "y_train:  (203,)\n",
      "X_test:  (130, 15)\n",
      "y_test (130,)\n"
     ]
    }
   ],
   "source": [
    "time_step = 15\n",
    "X_train, y_train = create_dataset(train_data, time_step)\n",
    "X_test, y_test = create_dataset(test_data, time_step)\n",
    "\n",
    "print(\"X_train: \", X_train.shape)\n",
    "print(\"y_train: \", y_train.shape)\n",
    "print(\"X_test: \", X_test.shape)\n",
    "print(\"y_test\", y_test.shape)"
   ]
  },
  {
   "cell_type": "code",
   "execution_count": 16,
   "metadata": {
    "colab": {
     "base_uri": "https://localhost:8080/"
    },
    "id": "bifRmN_MW-eu",
    "outputId": "92931853-35d4-430a-ba73-af8fa1904dc0"
   },
   "outputs": [
    {
     "name": "stdout",
     "output_type": "stream",
     "text": [
      "X_train:  (203, 15, 1)\n",
      "X_test:  (130, 15, 1)\n"
     ]
    }
   ],
   "source": [
    "# reshape input to be of the format [samples, time steps, features] which is required for LSTM\n",
    "\n",
    "X_train =X_train.reshape(X_train.shape[0],X_train.shape[1] , 1)\n",
    "X_test = X_test.reshape(X_test.shape[0],X_test.shape[1] , 1)\n",
    "\n",
    "print(\"X_train: \", X_train.shape)\n",
    "print(\"X_test: \", X_test.shape)"
   ]
  },
  {
   "cell_type": "markdown",
   "metadata": {
    "id": "93pDnR7gXOfu"
   },
   "source": [
    "<h3><b> Model Building </b></h3>"
   ]
  },
  {
   "cell_type": "code",
   "execution_count": 17,
   "metadata": {
    "id": "1CdNt9RDXNrX"
   },
   "outputs": [],
   "source": [
    "model=Sequential()\n",
    "\n",
    "model.add(LSTM(10,input_shape=(None,1),activation=\"relu\"))\n",
    "\n",
    "model.add(Dense(1))\n",
    "\n",
    "model.compile(loss=\"mean_squared_error\",optimizer=\"adam\")"
   ]
  },
  {
   "cell_type": "code",
   "execution_count": 18,
   "metadata": {
    "colab": {
     "base_uri": "https://localhost:8080/"
    },
    "id": "4YkEbhtlYQPC",
    "outputId": "b1c9bcbb-7634-41bb-c8a3-c382160889db"
   },
   "outputs": [
    {
     "name": "stdout",
     "output_type": "stream",
     "text": [
      "Epoch 1/200\n",
      "7/7 [==============================] - 2s 58ms/step - loss: 0.5197 - val_loss: 0.0166\n",
      "Epoch 2/200\n",
      "7/7 [==============================] - 0s 12ms/step - loss: 0.4794 - val_loss: 0.0134\n",
      "Epoch 3/200\n",
      "7/7 [==============================] - 0s 17ms/step - loss: 0.4440 - val_loss: 0.0113\n",
      "Epoch 4/200\n",
      "7/7 [==============================] - 0s 15ms/step - loss: 0.4144 - val_loss: 0.0096\n",
      "Epoch 5/200\n",
      "7/7 [==============================] - 0s 17ms/step - loss: 0.3888 - val_loss: 0.0083\n",
      "Epoch 6/200\n",
      "7/7 [==============================] - 0s 15ms/step - loss: 0.3694 - val_loss: 0.0069\n",
      "Epoch 7/200\n",
      "7/7 [==============================] - 0s 17ms/step - loss: 0.3534 - val_loss: 0.0057\n",
      "Epoch 8/200\n",
      "7/7 [==============================] - 0s 17ms/step - loss: 0.3379 - val_loss: 0.0045\n",
      "Epoch 9/200\n",
      "7/7 [==============================] - 0s 17ms/step - loss: 0.3227 - val_loss: 0.0038\n",
      "Epoch 10/200\n",
      "7/7 [==============================] - 0s 13ms/step - loss: 0.3056 - val_loss: 0.0035\n",
      "Epoch 11/200\n",
      "7/7 [==============================] - 0s 13ms/step - loss: 0.2816 - val_loss: 0.0040\n",
      "Epoch 12/200\n",
      "7/7 [==============================] - 0s 15ms/step - loss: 0.2516 - val_loss: 0.0055\n",
      "Epoch 13/200\n",
      "7/7 [==============================] - 0s 14ms/step - loss: 0.2166 - val_loss: 0.0074\n",
      "Epoch 14/200\n",
      "7/7 [==============================] - 0s 14ms/step - loss: 0.1783 - val_loss: 0.0101\n",
      "Epoch 15/200\n",
      "7/7 [==============================] - 0s 13ms/step - loss: 0.1326 - val_loss: 0.0191\n",
      "Epoch 16/200\n",
      "7/7 [==============================] - 0s 14ms/step - loss: 0.0832 - val_loss: 0.0415\n",
      "Epoch 17/200\n",
      "7/7 [==============================] - 0s 13ms/step - loss: 0.0362 - val_loss: 0.0794\n",
      "Epoch 18/200\n",
      "7/7 [==============================] - 0s 12ms/step - loss: 0.0251 - val_loss: 0.0747\n",
      "Epoch 19/200\n",
      "7/7 [==============================] - 0s 14ms/step - loss: 0.0174 - val_loss: 0.0298\n",
      "Epoch 20/200\n",
      "7/7 [==============================] - 0s 13ms/step - loss: 0.0141 - val_loss: 0.0153\n",
      "Epoch 21/200\n",
      "7/7 [==============================] - 0s 12ms/step - loss: 0.0096 - val_loss: 0.0134\n",
      "Epoch 22/200\n",
      "7/7 [==============================] - 0s 14ms/step - loss: 0.0070 - val_loss: 0.0014\n",
      "Epoch 23/200\n",
      "7/7 [==============================] - 0s 17ms/step - loss: 0.0051 - val_loss: 0.0012\n",
      "Epoch 24/200\n",
      "7/7 [==============================] - 0s 16ms/step - loss: 0.0045 - val_loss: 9.3501e-04\n",
      "Epoch 25/200\n",
      "7/7 [==============================] - 0s 13ms/step - loss: 0.0047 - val_loss: 0.0016\n",
      "Epoch 26/200\n",
      "7/7 [==============================] - 0s 14ms/step - loss: 0.0047 - val_loss: 9.6199e-04\n",
      "Epoch 27/200\n",
      "7/7 [==============================] - 0s 13ms/step - loss: 0.0045 - val_loss: 8.4611e-04\n",
      "Epoch 28/200\n",
      "7/7 [==============================] - 0s 13ms/step - loss: 0.0043 - val_loss: 8.7152e-04\n",
      "Epoch 29/200\n",
      "7/7 [==============================] - 0s 13ms/step - loss: 0.0043 - val_loss: 8.0868e-04\n",
      "Epoch 30/200\n",
      "7/7 [==============================] - 0s 12ms/step - loss: 0.0042 - val_loss: 8.1197e-04\n",
      "Epoch 31/200\n",
      "7/7 [==============================] - 0s 15ms/step - loss: 0.0042 - val_loss: 8.1358e-04\n",
      "Epoch 32/200\n",
      "7/7 [==============================] - 0s 15ms/step - loss: 0.0041 - val_loss: 8.3599e-04\n",
      "Epoch 33/200\n",
      "7/7 [==============================] - 0s 15ms/step - loss: 0.0040 - val_loss: 7.9837e-04\n",
      "Epoch 34/200\n",
      "7/7 [==============================] - 0s 14ms/step - loss: 0.0041 - val_loss: 8.0455e-04\n",
      "Epoch 35/200\n",
      "7/7 [==============================] - 0s 16ms/step - loss: 0.0040 - val_loss: 7.8716e-04\n",
      "Epoch 36/200\n",
      "7/7 [==============================] - 0s 13ms/step - loss: 0.0039 - val_loss: 7.9179e-04\n",
      "Epoch 37/200\n",
      "7/7 [==============================] - 0s 15ms/step - loss: 0.0038 - val_loss: 7.9350e-04\n",
      "Epoch 38/200\n",
      "7/7 [==============================] - 0s 14ms/step - loss: 0.0038 - val_loss: 7.6143e-04\n",
      "Epoch 39/200\n",
      "7/7 [==============================] - 0s 14ms/step - loss: 0.0037 - val_loss: 7.6890e-04\n",
      "Epoch 40/200\n",
      "7/7 [==============================] - 0s 13ms/step - loss: 0.0037 - val_loss: 7.5072e-04\n",
      "Epoch 41/200\n",
      "7/7 [==============================] - 0s 12ms/step - loss: 0.0037 - val_loss: 7.3489e-04\n",
      "Epoch 42/200\n",
      "7/7 [==============================] - 0s 15ms/step - loss: 0.0036 - val_loss: 7.2228e-04\n",
      "Epoch 43/200\n",
      "7/7 [==============================] - 0s 15ms/step - loss: 0.0036 - val_loss: 7.2245e-04\n",
      "Epoch 44/200\n",
      "7/7 [==============================] - 0s 14ms/step - loss: 0.0035 - val_loss: 7.3086e-04\n",
      "Epoch 45/200\n",
      "7/7 [==============================] - 0s 13ms/step - loss: 0.0034 - val_loss: 7.2880e-04\n",
      "Epoch 46/200\n",
      "7/7 [==============================] - 0s 14ms/step - loss: 0.0034 - val_loss: 7.1953e-04\n",
      "Epoch 47/200\n",
      "7/7 [==============================] - 0s 15ms/step - loss: 0.0034 - val_loss: 7.1495e-04\n",
      "Epoch 48/200\n",
      "7/7 [==============================] - 0s 16ms/step - loss: 0.0034 - val_loss: 7.5630e-04\n",
      "Epoch 49/200\n",
      "7/7 [==============================] - 0s 15ms/step - loss: 0.0034 - val_loss: 7.2222e-04\n",
      "Epoch 50/200\n",
      "7/7 [==============================] - 0s 14ms/step - loss: 0.0036 - val_loss: 7.3272e-04\n",
      "Epoch 51/200\n",
      "7/7 [==============================] - 0s 13ms/step - loss: 0.0033 - val_loss: 6.7684e-04\n",
      "Epoch 52/200\n",
      "7/7 [==============================] - 0s 17ms/step - loss: 0.0033 - val_loss: 7.6536e-04\n",
      "Epoch 53/200\n",
      "7/7 [==============================] - 0s 16ms/step - loss: 0.0033 - val_loss: 6.8079e-04\n",
      "Epoch 54/200\n",
      "7/7 [==============================] - 0s 14ms/step - loss: 0.0032 - val_loss: 6.7488e-04\n",
      "Epoch 55/200\n",
      "7/7 [==============================] - 0s 15ms/step - loss: 0.0032 - val_loss: 6.7088e-04\n",
      "Epoch 56/200\n",
      "7/7 [==============================] - 0s 14ms/step - loss: 0.0032 - val_loss: 7.1236e-04\n",
      "Epoch 57/200\n",
      "7/7 [==============================] - 0s 14ms/step - loss: 0.0032 - val_loss: 6.5382e-04\n",
      "Epoch 58/200\n",
      "7/7 [==============================] - 0s 12ms/step - loss: 0.0032 - val_loss: 7.3868e-04\n",
      "Epoch 59/200\n",
      "7/7 [==============================] - 0s 12ms/step - loss: 0.0032 - val_loss: 6.7459e-04\n",
      "Epoch 60/200\n",
      "7/7 [==============================] - 0s 13ms/step - loss: 0.0032 - val_loss: 7.2052e-04\n",
      "Epoch 61/200\n",
      "7/7 [==============================] - 0s 12ms/step - loss: 0.0032 - val_loss: 6.6933e-04\n",
      "Epoch 62/200\n",
      "7/7 [==============================] - 0s 15ms/step - loss: 0.0031 - val_loss: 6.3803e-04\n",
      "Epoch 63/200\n",
      "7/7 [==============================] - 0s 18ms/step - loss: 0.0032 - val_loss: 7.4568e-04\n",
      "Epoch 64/200\n",
      "7/7 [==============================] - 0s 14ms/step - loss: 0.0033 - val_loss: 6.4294e-04\n",
      "Epoch 65/200\n",
      "7/7 [==============================] - 0s 13ms/step - loss: 0.0031 - val_loss: 7.0148e-04\n",
      "Epoch 66/200\n",
      "7/7 [==============================] - 0s 15ms/step - loss: 0.0031 - val_loss: 6.6576e-04\n",
      "Epoch 67/200\n",
      "7/7 [==============================] - 0s 15ms/step - loss: 0.0031 - val_loss: 7.1518e-04\n",
      "Epoch 68/200\n",
      "7/7 [==============================] - 0s 13ms/step - loss: 0.0030 - val_loss: 6.2750e-04\n",
      "Epoch 69/200\n",
      "7/7 [==============================] - 0s 13ms/step - loss: 0.0031 - val_loss: 6.1166e-04\n",
      "Epoch 70/200\n",
      "7/7 [==============================] - 0s 14ms/step - loss: 0.0031 - val_loss: 6.6452e-04\n",
      "Epoch 71/200\n",
      "7/7 [==============================] - 0s 14ms/step - loss: 0.0030 - val_loss: 6.0422e-04\n",
      "Epoch 72/200\n",
      "7/7 [==============================] - 0s 12ms/step - loss: 0.0030 - val_loss: 6.1773e-04\n",
      "Epoch 73/200\n",
      "7/7 [==============================] - 0s 17ms/step - loss: 0.0031 - val_loss: 5.9185e-04\n",
      "Epoch 74/200\n",
      "7/7 [==============================] - 0s 13ms/step - loss: 0.0031 - val_loss: 7.0236e-04\n",
      "Epoch 75/200\n",
      "7/7 [==============================] - 0s 12ms/step - loss: 0.0030 - val_loss: 6.8549e-04\n",
      "Epoch 76/200\n",
      "7/7 [==============================] - 0s 14ms/step - loss: 0.0030 - val_loss: 5.9898e-04\n",
      "Epoch 77/200\n",
      "7/7 [==============================] - 0s 12ms/step - loss: 0.0031 - val_loss: 7.6451e-04\n",
      "Epoch 78/200\n",
      "7/7 [==============================] - 0s 14ms/step - loss: 0.0032 - val_loss: 5.9410e-04\n",
      "Epoch 79/200\n",
      "7/7 [==============================] - 0s 14ms/step - loss: 0.0034 - val_loss: 7.4462e-04\n",
      "Epoch 80/200\n",
      "7/7 [==============================] - 0s 15ms/step - loss: 0.0032 - val_loss: 6.8205e-04\n",
      "Epoch 81/200\n",
      "7/7 [==============================] - 0s 13ms/step - loss: 0.0030 - val_loss: 6.2741e-04\n",
      "Epoch 82/200\n",
      "7/7 [==============================] - 0s 13ms/step - loss: 0.0029 - val_loss: 6.4656e-04\n",
      "Epoch 83/200\n",
      "7/7 [==============================] - 0s 12ms/step - loss: 0.0029 - val_loss: 6.4340e-04\n",
      "Epoch 84/200\n",
      "7/7 [==============================] - 0s 14ms/step - loss: 0.0029 - val_loss: 6.2839e-04\n",
      "Epoch 85/200\n",
      "7/7 [==============================] - 0s 14ms/step - loss: 0.0028 - val_loss: 6.0238e-04\n",
      "Epoch 86/200\n",
      "7/7 [==============================] - 0s 13ms/step - loss: 0.0029 - val_loss: 6.2252e-04\n",
      "Epoch 87/200\n",
      "7/7 [==============================] - 0s 15ms/step - loss: 0.0028 - val_loss: 6.1139e-04\n",
      "Epoch 88/200\n",
      "7/7 [==============================] - 0s 13ms/step - loss: 0.0028 - val_loss: 7.5049e-04\n",
      "Epoch 89/200\n",
      "7/7 [==============================] - 0s 16ms/step - loss: 0.0029 - val_loss: 6.8915e-04\n",
      "Epoch 90/200\n",
      "7/7 [==============================] - 0s 15ms/step - loss: 0.0028 - val_loss: 7.1132e-04\n",
      "Epoch 91/200\n",
      "7/7 [==============================] - 0s 16ms/step - loss: 0.0028 - val_loss: 6.6087e-04\n",
      "Epoch 92/200\n",
      "7/7 [==============================] - 0s 16ms/step - loss: 0.0028 - val_loss: 5.7872e-04\n",
      "Epoch 93/200\n",
      "7/7 [==============================] - 0s 23ms/step - loss: 0.0028 - val_loss: 7.2739e-04\n",
      "Epoch 94/200\n",
      "7/7 [==============================] - 0s 17ms/step - loss: 0.0028 - val_loss: 7.0095e-04\n",
      "Epoch 95/200\n",
      "7/7 [==============================] - 0s 25ms/step - loss: 0.0028 - val_loss: 8.1575e-04\n",
      "Epoch 96/200\n",
      "7/7 [==============================] - 0s 22ms/step - loss: 0.0027 - val_loss: 7.7736e-04\n",
      "Epoch 97/200\n",
      "7/7 [==============================] - 0s 33ms/step - loss: 0.0027 - val_loss: 6.5116e-04\n",
      "Epoch 98/200\n",
      "7/7 [==============================] - 0s 22ms/step - loss: 0.0027 - val_loss: 6.4516e-04\n",
      "Epoch 99/200\n",
      "7/7 [==============================] - 0s 19ms/step - loss: 0.0027 - val_loss: 6.7443e-04\n",
      "Epoch 100/200\n",
      "7/7 [==============================] - 0s 19ms/step - loss: 0.0027 - val_loss: 6.3919e-04\n",
      "Epoch 101/200\n",
      "7/7 [==============================] - 0s 18ms/step - loss: 0.0027 - val_loss: 6.4730e-04\n",
      "Epoch 102/200\n",
      "7/7 [==============================] - 0s 20ms/step - loss: 0.0027 - val_loss: 8.0466e-04\n",
      "Epoch 103/200\n",
      "7/7 [==============================] - 0s 21ms/step - loss: 0.0028 - val_loss: 6.3985e-04\n",
      "Epoch 104/200\n",
      "7/7 [==============================] - 0s 22ms/step - loss: 0.0027 - val_loss: 7.2169e-04\n",
      "Epoch 105/200\n",
      "7/7 [==============================] - 0s 26ms/step - loss: 0.0027 - val_loss: 7.6201e-04\n",
      "Epoch 106/200\n",
      "7/7 [==============================] - 0s 19ms/step - loss: 0.0026 - val_loss: 6.9454e-04\n",
      "Epoch 107/200\n",
      "7/7 [==============================] - 0s 21ms/step - loss: 0.0026 - val_loss: 7.4707e-04\n",
      "Epoch 108/200\n",
      "7/7 [==============================] - 0s 18ms/step - loss: 0.0026 - val_loss: 8.3030e-04\n",
      "Epoch 109/200\n",
      "7/7 [==============================] - 0s 26ms/step - loss: 0.0026 - val_loss: 7.5346e-04\n",
      "Epoch 110/200\n",
      "7/7 [==============================] - 0s 20ms/step - loss: 0.0026 - val_loss: 7.4511e-04\n",
      "Epoch 111/200\n",
      "7/7 [==============================] - 0s 26ms/step - loss: 0.0026 - val_loss: 6.6690e-04\n",
      "Epoch 112/200\n",
      "7/7 [==============================] - 0s 23ms/step - loss: 0.0029 - val_loss: 6.8537e-04\n",
      "Epoch 113/200\n",
      "7/7 [==============================] - 0s 21ms/step - loss: 0.0027 - val_loss: 7.9436e-04\n",
      "Epoch 114/200\n",
      "7/7 [==============================] - 0s 17ms/step - loss: 0.0026 - val_loss: 6.8938e-04\n",
      "Epoch 115/200\n",
      "7/7 [==============================] - 0s 12ms/step - loss: 0.0027 - val_loss: 7.0973e-04\n",
      "Epoch 116/200\n",
      "7/7 [==============================] - 0s 14ms/step - loss: 0.0025 - val_loss: 7.3210e-04\n",
      "Epoch 117/200\n",
      "7/7 [==============================] - 0s 18ms/step - loss: 0.0026 - val_loss: 6.8495e-04\n",
      "Epoch 118/200\n",
      "7/7 [==============================] - 0s 13ms/step - loss: 0.0025 - val_loss: 5.8798e-04\n",
      "Epoch 119/200\n",
      "7/7 [==============================] - 0s 13ms/step - loss: 0.0026 - val_loss: 6.5165e-04\n",
      "Epoch 120/200\n",
      "7/7 [==============================] - 0s 17ms/step - loss: 0.0025 - val_loss: 6.8377e-04\n",
      "Epoch 121/200\n",
      "7/7 [==============================] - 0s 14ms/step - loss: 0.0025 - val_loss: 6.3693e-04\n",
      "Epoch 122/200\n",
      "7/7 [==============================] - 0s 14ms/step - loss: 0.0025 - val_loss: 6.2378e-04\n",
      "Epoch 123/200\n",
      "7/7 [==============================] - 0s 18ms/step - loss: 0.0025 - val_loss: 7.6487e-04\n",
      "Epoch 124/200\n",
      "7/7 [==============================] - 0s 17ms/step - loss: 0.0025 - val_loss: 7.1945e-04\n",
      "Epoch 125/200\n",
      "7/7 [==============================] - 0s 16ms/step - loss: 0.0026 - val_loss: 7.5833e-04\n",
      "Epoch 126/200\n",
      "7/7 [==============================] - 0s 14ms/step - loss: 0.0025 - val_loss: 7.6877e-04\n",
      "Epoch 127/200\n",
      "7/7 [==============================] - 0s 14ms/step - loss: 0.0025 - val_loss: 6.6863e-04\n",
      "Epoch 128/200\n",
      "7/7 [==============================] - 0s 16ms/step - loss: 0.0025 - val_loss: 6.5861e-04\n",
      "Epoch 129/200\n",
      "7/7 [==============================] - 0s 13ms/step - loss: 0.0024 - val_loss: 6.2679e-04\n",
      "Epoch 130/200\n",
      "7/7 [==============================] - 0s 18ms/step - loss: 0.0024 - val_loss: 6.3063e-04\n",
      "Epoch 131/200\n",
      "7/7 [==============================] - 0s 14ms/step - loss: 0.0024 - val_loss: 6.3150e-04\n",
      "Epoch 132/200\n",
      "7/7 [==============================] - 0s 15ms/step - loss: 0.0025 - val_loss: 8.6594e-04\n",
      "Epoch 133/200\n",
      "7/7 [==============================] - 0s 16ms/step - loss: 0.0025 - val_loss: 6.0698e-04\n",
      "Epoch 134/200\n",
      "7/7 [==============================] - 0s 14ms/step - loss: 0.0024 - val_loss: 6.8356e-04\n",
      "Epoch 135/200\n",
      "7/7 [==============================] - 0s 15ms/step - loss: 0.0024 - val_loss: 6.1953e-04\n",
      "Epoch 136/200\n",
      "7/7 [==============================] - 0s 16ms/step - loss: 0.0024 - val_loss: 6.9691e-04\n",
      "Epoch 137/200\n",
      "7/7 [==============================] - 0s 14ms/step - loss: 0.0025 - val_loss: 6.1875e-04\n",
      "Epoch 138/200\n",
      "7/7 [==============================] - 0s 14ms/step - loss: 0.0025 - val_loss: 6.7411e-04\n",
      "Epoch 139/200\n",
      "7/7 [==============================] - 0s 16ms/step - loss: 0.0023 - val_loss: 7.0308e-04\n",
      "Epoch 140/200\n",
      "7/7 [==============================] - 0s 17ms/step - loss: 0.0024 - val_loss: 6.9390e-04\n",
      "Epoch 141/200\n",
      "7/7 [==============================] - 0s 19ms/step - loss: 0.0023 - val_loss: 6.1546e-04\n",
      "Epoch 142/200\n",
      "7/7 [==============================] - 0s 19ms/step - loss: 0.0023 - val_loss: 6.5029e-04\n",
      "Epoch 143/200\n",
      "7/7 [==============================] - 0s 16ms/step - loss: 0.0023 - val_loss: 7.4229e-04\n",
      "Epoch 144/200\n",
      "7/7 [==============================] - 0s 16ms/step - loss: 0.0024 - val_loss: 8.3949e-04\n",
      "Epoch 145/200\n",
      "7/7 [==============================] - 0s 15ms/step - loss: 0.0024 - val_loss: 6.1944e-04\n",
      "Epoch 146/200\n",
      "7/7 [==============================] - 0s 15ms/step - loss: 0.0025 - val_loss: 7.7119e-04\n",
      "Epoch 147/200\n",
      "7/7 [==============================] - 0s 16ms/step - loss: 0.0023 - val_loss: 7.7261e-04\n",
      "Epoch 148/200\n",
      "7/7 [==============================] - 0s 19ms/step - loss: 0.0024 - val_loss: 5.9526e-04\n",
      "Epoch 149/200\n",
      "7/7 [==============================] - 0s 14ms/step - loss: 0.0023 - val_loss: 7.2241e-04\n",
      "Epoch 150/200\n",
      "7/7 [==============================] - 0s 15ms/step - loss: 0.0022 - val_loss: 6.7937e-04\n",
      "Epoch 151/200\n",
      "7/7 [==============================] - 0s 14ms/step - loss: 0.0022 - val_loss: 6.6690e-04\n",
      "Epoch 152/200\n",
      "7/7 [==============================] - 0s 14ms/step - loss: 0.0023 - val_loss: 6.9045e-04\n",
      "Epoch 153/200\n",
      "7/7 [==============================] - 0s 17ms/step - loss: 0.0022 - val_loss: 7.7736e-04\n",
      "Epoch 154/200\n",
      "7/7 [==============================] - 0s 19ms/step - loss: 0.0023 - val_loss: 6.0228e-04\n",
      "Epoch 155/200\n",
      "7/7 [==============================] - 0s 18ms/step - loss: 0.0024 - val_loss: 8.9940e-04\n",
      "Epoch 156/200\n",
      "7/7 [==============================] - 0s 14ms/step - loss: 0.0023 - val_loss: 6.6391e-04\n",
      "Epoch 157/200\n",
      "7/7 [==============================] - 0s 13ms/step - loss: 0.0022 - val_loss: 8.5643e-04\n",
      "Epoch 158/200\n",
      "7/7 [==============================] - 0s 17ms/step - loss: 0.0023 - val_loss: 5.8767e-04\n",
      "Epoch 159/200\n",
      "7/7 [==============================] - 0s 15ms/step - loss: 0.0022 - val_loss: 7.3753e-04\n",
      "Epoch 160/200\n",
      "7/7 [==============================] - 0s 15ms/step - loss: 0.0026 - val_loss: 5.6930e-04\n",
      "Epoch 161/200\n",
      "7/7 [==============================] - 0s 17ms/step - loss: 0.0023 - val_loss: 6.2633e-04\n",
      "Epoch 162/200\n",
      "7/7 [==============================] - 0s 16ms/step - loss: 0.0022 - val_loss: 6.3601e-04\n",
      "Epoch 163/200\n",
      "7/7 [==============================] - 0s 14ms/step - loss: 0.0022 - val_loss: 7.1219e-04\n",
      "Epoch 164/200\n",
      "7/7 [==============================] - 0s 16ms/step - loss: 0.0021 - val_loss: 6.5248e-04\n",
      "Epoch 165/200\n",
      "7/7 [==============================] - 0s 17ms/step - loss: 0.0022 - val_loss: 7.2131e-04\n",
      "Epoch 166/200\n",
      "7/7 [==============================] - 0s 15ms/step - loss: 0.0022 - val_loss: 6.4505e-04\n",
      "Epoch 167/200\n",
      "7/7 [==============================] - 0s 13ms/step - loss: 0.0021 - val_loss: 6.7641e-04\n",
      "Epoch 168/200\n",
      "7/7 [==============================] - 0s 17ms/step - loss: 0.0021 - val_loss: 6.0266e-04\n",
      "Epoch 169/200\n",
      "7/7 [==============================] - 0s 16ms/step - loss: 0.0021 - val_loss: 6.9344e-04\n",
      "Epoch 170/200\n",
      "7/7 [==============================] - 0s 16ms/step - loss: 0.0021 - val_loss: 7.6055e-04\n",
      "Epoch 171/200\n",
      "7/7 [==============================] - 0s 16ms/step - loss: 0.0021 - val_loss: 5.9497e-04\n",
      "Epoch 172/200\n",
      "7/7 [==============================] - 0s 15ms/step - loss: 0.0021 - val_loss: 8.3896e-04\n",
      "Epoch 173/200\n",
      "7/7 [==============================] - 0s 15ms/step - loss: 0.0022 - val_loss: 5.8732e-04\n",
      "Epoch 174/200\n",
      "7/7 [==============================] - 0s 19ms/step - loss: 0.0021 - val_loss: 6.7074e-04\n",
      "Epoch 175/200\n",
      "7/7 [==============================] - 0s 17ms/step - loss: 0.0021 - val_loss: 6.8020e-04\n",
      "Epoch 176/200\n",
      "7/7 [==============================] - 0s 15ms/step - loss: 0.0020 - val_loss: 7.5200e-04\n",
      "Epoch 177/200\n",
      "7/7 [==============================] - 0s 14ms/step - loss: 0.0021 - val_loss: 7.0139e-04\n",
      "Epoch 178/200\n",
      "7/7 [==============================] - 0s 17ms/step - loss: 0.0020 - val_loss: 7.0625e-04\n",
      "Epoch 179/200\n",
      "7/7 [==============================] - 0s 15ms/step - loss: 0.0020 - val_loss: 5.4528e-04\n",
      "Epoch 180/200\n",
      "7/7 [==============================] - 0s 13ms/step - loss: 0.0021 - val_loss: 6.3680e-04\n",
      "Epoch 181/200\n",
      "7/7 [==============================] - 0s 14ms/step - loss: 0.0020 - val_loss: 6.7642e-04\n",
      "Epoch 182/200\n",
      "7/7 [==============================] - 0s 15ms/step - loss: 0.0020 - val_loss: 6.1745e-04\n",
      "Epoch 183/200\n",
      "7/7 [==============================] - 0s 16ms/step - loss: 0.0020 - val_loss: 7.0212e-04\n",
      "Epoch 184/200\n",
      "7/7 [==============================] - 0s 19ms/step - loss: 0.0020 - val_loss: 6.6462e-04\n",
      "Epoch 185/200\n",
      "7/7 [==============================] - 0s 18ms/step - loss: 0.0020 - val_loss: 7.4559e-04\n",
      "Epoch 186/200\n",
      "7/7 [==============================] - 0s 16ms/step - loss: 0.0020 - val_loss: 7.3419e-04\n",
      "Epoch 187/200\n",
      "7/7 [==============================] - 0s 16ms/step - loss: 0.0019 - val_loss: 6.4533e-04\n",
      "Epoch 188/200\n",
      "7/7 [==============================] - 0s 16ms/step - loss: 0.0020 - val_loss: 7.1353e-04\n",
      "Epoch 189/200\n",
      "7/7 [==============================] - 0s 18ms/step - loss: 0.0019 - val_loss: 5.8528e-04\n",
      "Epoch 190/200\n",
      "7/7 [==============================] - 0s 19ms/step - loss: 0.0020 - val_loss: 8.8137e-04\n",
      "Epoch 191/200\n",
      "7/7 [==============================] - 0s 17ms/step - loss: 0.0020 - val_loss: 5.1943e-04\n",
      "Epoch 192/200\n",
      "7/7 [==============================] - 0s 13ms/step - loss: 0.0021 - val_loss: 8.1325e-04\n",
      "Epoch 193/200\n",
      "7/7 [==============================] - 0s 13ms/step - loss: 0.0019 - val_loss: 4.9942e-04\n",
      "Epoch 194/200\n",
      "7/7 [==============================] - 0s 14ms/step - loss: 0.0021 - val_loss: 7.5123e-04\n",
      "Epoch 195/200\n",
      "7/7 [==============================] - 0s 12ms/step - loss: 0.0019 - val_loss: 5.6940e-04\n",
      "Epoch 196/200\n",
      "7/7 [==============================] - 0s 16ms/step - loss: 0.0019 - val_loss: 7.4755e-04\n",
      "Epoch 197/200\n",
      "7/7 [==============================] - 0s 12ms/step - loss: 0.0019 - val_loss: 6.3865e-04\n",
      "Epoch 198/200\n",
      "7/7 [==============================] - 0s 14ms/step - loss: 0.0019 - val_loss: 6.2640e-04\n",
      "Epoch 199/200\n",
      "7/7 [==============================] - 0s 16ms/step - loss: 0.0019 - val_loss: 6.7810e-04\n",
      "Epoch 200/200\n",
      "7/7 [==============================] - 0s 16ms/step - loss: 0.0019 - val_loss: 5.0973e-04\n"
     ]
    }
   ],
   "source": [
    "history = model.fit(X_train,y_train,validation_data=(X_test,y_test),epochs=200,batch_size=32,verbose=1)"
   ]
  },
  {
   "cell_type": "code",
   "execution_count": 19,
   "metadata": {
    "colab": {
     "base_uri": "https://localhost:8080/"
    },
    "id": "VadtSNq4aGow",
    "outputId": "1ca7b257-7b5b-4b7e-f5e4-ef7f9c8f1d93"
   },
   "outputs": [
    {
     "name": "stdout",
     "output_type": "stream",
     "text": [
      "7/7 [==============================] - 0s 3ms/step\n",
      "5/5 [==============================] - 0s 4ms/step\n"
     ]
    },
    {
     "data": {
      "text/plain": [
       "((203, 1), (130, 1))"
      ]
     },
     "execution_count": 19,
     "metadata": {},
     "output_type": "execute_result"
    }
   ],
   "source": [
    "### Lets Do the prediction and check performance metrics\n",
    "\n",
    "train_predict=model.predict(X_train)\n",
    "test_predict=model.predict(X_test)\n",
    "train_predict.shape, test_predict.shape"
   ]
  },
  {
   "cell_type": "markdown",
   "metadata": {
    "id": "ZlBiuWxPa87y"
   },
   "source": [
    "<h3><b>Model Evaluation</b></h3>"
   ]
  },
  {
   "cell_type": "code",
   "execution_count": 20,
   "metadata": {
    "id": "5HXd6wQma5mA"
   },
   "outputs": [],
   "source": [
    "# Transform back to original form\n",
    "\n",
    "train_predict = scaler.inverse_transform(train_predict)\n",
    "test_predict = scaler.inverse_transform(test_predict)\n",
    "original_ytrain = scaler.inverse_transform(y_train.reshape(-1,1)) \n",
    "original_ytest = scaler.inverse_transform(y_test.reshape(-1,1)) "
   ]
  },
  {
   "cell_type": "code",
   "execution_count": 21,
   "metadata": {
    "colab": {
     "base_uri": "https://localhost:8080/"
    },
    "id": "U95Ct4kDbDST",
    "outputId": "f38f4ae7-d434-447b-e2ce-a959e55f2a75"
   },
   "outputs": [
    {
     "name": "stdout",
     "output_type": "stream",
     "text": [
      "Train data RMSE:  1543.574744488152\n",
      "Train data MSE:  2382622.991821664\n",
      "Train data MAE:  1186.6158501447046\n",
      "-------------------------------------------------\n",
      "Test data RMSE:  790.992024912933\n",
      "Test data MSE:  625668.3834758619\n",
      "Test data MAE:  571.9705829432693\n"
     ]
    }
   ],
   "source": [
    "# Evaluation metrices RMSE and MAE\n",
    "\n",
    "print(\"Train data RMSE: \", math.sqrt(mean_squared_error(original_ytrain,train_predict)))\n",
    "print(\"Train data MSE: \", mean_squared_error(original_ytrain,train_predict))\n",
    "print(\"Train data MAE: \", mean_absolute_error(original_ytrain,train_predict))\n",
    "print(\"-------------------------------------------------\")\n",
    "print(\"Test data RMSE: \", math.sqrt(mean_squared_error(original_ytest,test_predict)))\n",
    "print(\"Test data MSE: \", mean_squared_error(original_ytest,test_predict))\n",
    "print(\"Test data MAE: \", mean_absolute_error(original_ytest,test_predict))"
   ]
  },
  {
   "cell_type": "markdown",
   "metadata": {
    "id": "7rK7XD1ibVRp"
   },
   "source": [
    "<h3>Variance Regression Score</h3>"
   ]
  },
  {
   "cell_type": "code",
   "execution_count": 22,
   "metadata": {
    "colab": {
     "base_uri": "https://localhost:8080/"
    },
    "id": "0-xauXRBbWxJ",
    "outputId": "1d0a7174-85df-42cd-fd77-d0516500313d"
   },
   "outputs": [
    {
     "name": "stdout",
     "output_type": "stream",
     "text": [
      "Train data explained variance regression score: 0.9690977948639783\n",
      "Test data explained variance regression score: 0.8802000688890438\n"
     ]
    }
   ],
   "source": [
    "print(\"Train data explained variance regression score:\", explained_variance_score(original_ytrain, train_predict))\n",
    "print(\"Test data explained variance regression score:\", explained_variance_score(original_ytest, test_predict))"
   ]
  },
  {
   "cell_type": "markdown",
   "metadata": {
    "id": "0gNrDxoSbmzg"
   },
   "source": [
    "<h3>R square score for regression</h3>"
   ]
  },
  {
   "cell_type": "code",
   "execution_count": 23,
   "metadata": {
    "colab": {
     "base_uri": "https://localhost:8080/"
    },
    "id": "uXAg8hfsbqVh",
    "outputId": "55354926-278f-4fce-94ec-87da08b5c4bf"
   },
   "outputs": [
    {
     "name": "stdout",
     "output_type": "stream",
     "text": [
      "Train data R2 score: 0.9673815769570681\n",
      "Test data R2 score: 0.8548658608388141\n"
     ]
    }
   ],
   "source": [
    "print(\"Train data R2 score:\", r2_score(original_ytrain, train_predict))\n",
    "print(\"Test data R2 score:\", r2_score(original_ytest, test_predict))"
   ]
  },
  {
   "cell_type": "markdown",
   "metadata": {
    "id": "grcS76XOcbWl"
   },
   "source": [
    "<h3><b>Comparision of original stock close price and predicted close price</b></h3>"
   ]
  },
  {
   "cell_type": "code",
   "execution_count": 24,
   "metadata": {
    "colab": {
     "base_uri": "https://localhost:8080/",
     "height": 577
    },
    "id": "A2t-yCrmcaap",
    "outputId": "8dce0205-499e-4445-a129-f39c77cb145b"
   },
   "outputs": [
    {
     "name": "stdout",
     "output_type": "stream",
     "text": [
      "Train predicted data:  (365, 1)\n",
      "Test predicted data:  (365, 1)\n"
     ]
    },
    {
     "data": {
      "text/html": [
       "<html>\n",
       "<head><meta charset=\"utf-8\" /></head>\n",
       "<body>\n",
       "    <div>            <script src=\"https://cdnjs.cloudflare.com/ajax/libs/mathjax/2.7.5/MathJax.js?config=TeX-AMS-MML_SVG\"></script><script type=\"text/javascript\">if (window.MathJax) {MathJax.Hub.Config({SVG: {font: \"STIX-Web\"}});}</script>                <script type=\"text/javascript\">window.PlotlyConfig = {MathJaxConfig: 'local'};</script>\n",
       "        <script src=\"https://cdn.plot.ly/plotly-2.8.3.min.js\"></script>                <div id=\"26deefaf-6eec-47aa-b82c-5c3ba4c6b834\" class=\"plotly-graph-div\" style=\"height:525px; width:100%;\"></div>            <script type=\"text/javascript\">                                    window.PLOTLYENV=window.PLOTLYENV || {};                                    if (document.getElementById(\"26deefaf-6eec-47aa-b82c-5c3ba4c6b834\")) {                    Plotly.newPlot(                        \"26deefaf-6eec-47aa-b82c-5c3ba4c6b834\",                        [{\"hovertemplate\":\"variable=original_close<br>Date=%{x}<br>Stock price=%{y}<extra></extra>\",\"legendgroup\":\"original_close\",\"line\":{\"color\":\"#636efa\",\"dash\":\"solid\"},\"marker\":{\"symbol\":\"circle\"},\"mode\":\"lines\",\"name\":\"Original close price\",\"showlegend\":true,\"x\":[\"2021-12-17\",\"2021-12-18\",\"2021-12-19\",\"2021-12-20\",\"2021-12-21\",\"2021-12-22\",\"2021-12-23\",\"2021-12-24\",\"2021-12-25\",\"2021-12-26\",\"2021-12-27\",\"2021-12-28\",\"2021-12-29\",\"2021-12-30\",\"2021-12-31\",\"2022-01-01\",\"2022-01-02\",\"2022-01-03\",\"2022-01-04\",\"2022-01-05\",\"2022-01-06\",\"2022-01-07\",\"2022-01-08\",\"2022-01-09\",\"2022-01-10\",\"2022-01-11\",\"2022-01-12\",\"2022-01-13\",\"2022-01-14\",\"2022-01-15\",\"2022-01-16\",\"2022-01-17\",\"2022-01-18\",\"2022-01-19\",\"2022-01-20\",\"2022-01-21\",\"2022-01-22\",\"2022-01-23\",\"2022-01-24\",\"2022-01-25\",\"2022-01-26\",\"2022-01-27\",\"2022-01-28\",\"2022-01-29\",\"2022-01-30\",\"2022-01-31\",\"2022-02-01\",\"2022-02-02\",\"2022-02-03\",\"2022-02-04\",\"2022-02-05\",\"2022-02-06\",\"2022-02-07\",\"2022-02-08\",\"2022-02-09\",\"2022-02-10\",\"2022-02-11\",\"2022-02-12\",\"2022-02-13\",\"2022-02-14\",\"2022-02-15\",\"2022-02-16\",\"2022-02-17\",\"2022-02-18\",\"2022-02-19\",\"2022-02-20\",\"2022-02-21\",\"2022-02-22\",\"2022-02-23\",\"2022-02-24\",\"2022-02-25\",\"2022-02-26\",\"2022-02-27\",\"2022-02-28\",\"2022-03-01\",\"2022-03-02\",\"2022-03-03\",\"2022-03-04\",\"2022-03-05\",\"2022-03-06\",\"2022-03-07\",\"2022-03-08\",\"2022-03-09\",\"2022-03-10\",\"2022-03-11\",\"2022-03-12\",\"2022-03-13\",\"2022-03-14\",\"2022-03-15\",\"2022-03-16\",\"2022-03-17\",\"2022-03-18\",\"2022-03-19\",\"2022-03-20\",\"2022-03-21\",\"2022-03-22\",\"2022-03-23\",\"2022-03-24\",\"2022-03-25\",\"2022-03-26\",\"2022-03-27\",\"2022-03-28\",\"2022-03-29\",\"2022-03-30\",\"2022-03-31\",\"2022-04-01\",\"2022-04-02\",\"2022-04-03\",\"2022-04-04\",\"2022-04-05\",\"2022-04-06\",\"2022-04-07\",\"2022-04-08\",\"2022-04-09\",\"2022-04-10\",\"2022-04-11\",\"2022-04-12\",\"2022-04-13\",\"2022-04-14\",\"2022-04-15\",\"2022-04-16\",\"2022-04-17\",\"2022-04-18\",\"2022-04-19\",\"2022-04-20\",\"2022-04-21\",\"2022-04-22\",\"2022-04-23\",\"2022-04-24\",\"2022-04-25\",\"2022-04-26\",\"2022-04-27\",\"2022-04-28\",\"2022-04-29\",\"2022-04-30\",\"2022-05-01\",\"2022-05-02\",\"2022-05-03\",\"2022-05-04\",\"2022-05-05\",\"2022-05-06\",\"2022-05-07\",\"2022-05-08\",\"2022-05-09\",\"2022-05-10\",\"2022-05-11\",\"2022-05-12\",\"2022-05-13\",\"2022-05-14\",\"2022-05-15\",\"2022-05-16\",\"2022-05-17\",\"2022-05-18\",\"2022-05-19\",\"2022-05-20\",\"2022-05-21\",\"2022-05-22\",\"2022-05-23\",\"2022-05-24\",\"2022-05-25\",\"2022-05-26\",\"2022-05-27\",\"2022-05-28\",\"2022-05-29\",\"2022-05-30\",\"2022-05-31\",\"2022-06-01\",\"2022-06-02\",\"2022-06-03\",\"2022-06-04\",\"2022-06-05\",\"2022-06-06\",\"2022-06-07\",\"2022-06-08\",\"2022-06-09\",\"2022-06-10\",\"2022-06-11\",\"2022-06-12\",\"2022-06-13\",\"2022-06-14\",\"2022-06-15\",\"2022-06-16\",\"2022-06-17\",\"2022-06-18\",\"2022-06-19\",\"2022-06-20\",\"2022-06-21\",\"2022-06-22\",\"2022-06-23\",\"2022-06-24\",\"2022-06-25\",\"2022-06-26\",\"2022-06-27\",\"2022-06-28\",\"2022-06-29\",\"2022-06-30\",\"2022-07-01\",\"2022-07-02\",\"2022-07-03\",\"2022-07-04\",\"2022-07-05\",\"2022-07-06\",\"2022-07-07\",\"2022-07-08\",\"2022-07-09\",\"2022-07-10\",\"2022-07-11\",\"2022-07-12\",\"2022-07-13\",\"2022-07-14\",\"2022-07-15\",\"2022-07-16\",\"2022-07-17\",\"2022-07-18\",\"2022-07-19\",\"2022-07-20\",\"2022-07-21\",\"2022-07-22\",\"2022-07-23\",\"2022-07-24\",\"2022-07-25\",\"2022-07-26\",\"2022-07-27\",\"2022-07-28\",\"2022-07-29\",\"2022-07-30\",\"2022-07-31\",\"2022-08-01\",\"2022-08-02\",\"2022-08-03\",\"2022-08-04\",\"2022-08-05\",\"2022-08-06\",\"2022-08-07\",\"2022-08-08\",\"2022-08-09\",\"2022-08-10\",\"2022-08-11\",\"2022-08-12\",\"2022-08-13\",\"2022-08-14\",\"2022-08-15\",\"2022-08-16\",\"2022-08-17\",\"2022-08-18\",\"2022-08-19\",\"2022-08-20\",\"2022-08-21\",\"2022-08-22\",\"2022-08-23\",\"2022-08-24\",\"2022-08-25\",\"2022-08-26\",\"2022-08-27\",\"2022-08-28\",\"2022-08-29\",\"2022-08-30\",\"2022-08-31\",\"2022-09-01\",\"2022-09-02\",\"2022-09-03\",\"2022-09-04\",\"2022-09-05\",\"2022-09-06\",\"2022-09-07\",\"2022-09-08\",\"2022-09-09\",\"2022-09-10\",\"2022-09-11\",\"2022-09-12\",\"2022-09-13\",\"2022-09-14\",\"2022-09-15\",\"2022-09-16\",\"2022-09-17\",\"2022-09-18\",\"2022-09-19\",\"2022-09-20\",\"2022-09-21\",\"2022-09-22\",\"2022-09-23\",\"2022-09-24\",\"2022-09-25\",\"2022-09-26\",\"2022-09-27\",\"2022-09-28\",\"2022-09-29\",\"2022-09-30\",\"2022-10-01\",\"2022-10-02\",\"2022-10-03\",\"2022-10-04\",\"2022-10-05\",\"2022-10-06\",\"2022-10-07\",\"2022-10-08\",\"2022-10-09\",\"2022-10-10\",\"2022-10-11\",\"2022-10-12\",\"2022-10-13\",\"2022-10-14\",\"2022-10-15\",\"2022-10-16\",\"2022-10-17\",\"2022-10-18\",\"2022-10-19\",\"2022-10-20\",\"2022-10-21\",\"2022-10-22\",\"2022-10-23\",\"2022-10-24\",\"2022-10-25\",\"2022-10-26\",\"2022-10-27\",\"2022-10-28\",\"2022-10-29\",\"2022-10-30\",\"2022-10-31\",\"2022-11-01\",\"2022-11-02\",\"2022-11-03\",\"2022-11-04\",\"2022-11-05\",\"2022-11-06\",\"2022-11-07\",\"2022-11-08\",\"2022-11-09\",\"2022-11-10\",\"2022-11-11\",\"2022-11-12\",\"2022-11-13\",\"2022-11-14\",\"2022-11-15\",\"2022-11-16\",\"2022-11-17\",\"2022-11-18\",\"2022-11-19\",\"2022-11-20\",\"2022-11-21\",\"2022-11-22\",\"2022-11-23\",\"2022-11-24\",\"2022-11-25\",\"2022-11-26\",\"2022-11-27\",\"2022-11-28\",\"2022-11-29\",\"2022-11-30\",\"2022-12-01\",\"2022-12-02\",\"2022-12-03\",\"2022-12-04\",\"2022-12-05\",\"2022-12-06\",\"2022-12-07\",\"2022-12-08\",\"2022-12-09\",\"2022-12-10\",\"2022-12-11\",\"2022-12-12\",\"2022-12-13\",\"2022-12-14\",\"2022-12-15\",\"2022-12-16\"],\"xaxis\":\"x\",\"y\":[46202.144531,46848.777344,46707.015625,46880.277344,48936.613281,48628.511719,50784.539063,50822.195313,50429.859375,50809.515625,50640.417969,47588.855469,46444.710938,47178.125,46306.445313,47686.8125,47345.21875,46458.117188,45897.574219,43569.003906,43160.929688,41557.902344,41733.941406,41911.601563,41821.261719,42735.855469,43949.101563,42591.570313,43099.699219,43177.398438,43113.878906,42250.550781,42375.632813,41744.328125,40680.417969,36457.316406,35030.25,36276.804688,36654.328125,36954.003906,36852.121094,37138.234375,37784.332031,38138.179688,37917.601563,38483.125,38743.273438,36952.984375,37154.601563,41500.875,41441.164063,42412.433594,43840.285156,44118.445313,44338.796875,43565.113281,42407.9375,42244.46875,42197.515625,42586.917969,44575.203125,43961.859375,40538.011719,40030.976563,40122.15625,38431.378906,37075.28125,38286.027344,37296.570313,38332.609375,39214.21875,39105.148438,37709.785156,43193.234375,44354.636719,43924.117188,42451.789063,39137.605469,39400.585938,38419.984375,38062.039063,38737.269531,41982.925781,39437.460938,38794.972656,38904.011719,37849.664063,39666.753906,39338.785156,41143.929688,40951.378906,41801.15625,42190.652344,41247.824219,41077.996094,42358.808594,42892.957031,43960.933594,44348.730469,44500.828125,46820.492188,47128.003906,47465.730469,47062.664063,45538.675781,46281.644531,45868.949219,46453.566406,46622.675781,45555.992188,43206.738281,43503.847656,42287.664063,42782.136719,42207.671875,39521.902344,40127.183594,41166.730469,39935.515625,40553.464844,40424.484375,39716.953125,40826.214844,41502.75,41374.378906,40527.363281,39740.320313,39486.730469,39469.292969,40458.308594,38117.460938,39241.121094,39773.828125,38609.824219,37714.875,38469.09375,38529.328125,37750.453125,39698.371094,36575.140625,36040.921875,35501.953125,34059.265625,30296.953125,31022.90625,28936.355469,29047.751953,29283.103516,30101.265625,31305.113281,29862.917969,30425.857422,28720.271484,30314.333984,29200.740234,29432.226563,30323.722656,29098.910156,29655.585938,29562.361328,29267.224609,28627.574219,28814.900391,29445.957031,31726.390625,31792.310547,29799.080078,30467.488281,29704.390625,29832.914063,29906.662109,31370.671875,31155.478516,30214.355469,30111.998047,29083.804688,28360.810547,26762.648438,22487.388672,22206.792969,22572.839844,20381.650391,20471.482422,19017.642578,20553.271484,20599.537109,20710.597656,19987.029297,21085.876953,21231.65625,21502.337891,21027.294922,20735.478516,20280.634766,20104.023438,19784.726563,19269.367188,19242.255859,19297.076172,20231.261719,20190.115234,20548.246094,21637.587891,21731.117188,21592.207031,20860.449219,19970.556641,19323.914063,20212.074219,20569.919922,20836.328125,21190.316406,20779.34375,22485.689453,23389.433594,23231.732422,23164.628906,22714.978516,22465.478516,22609.164063,21361.701172,21239.753906,22930.548828,23843.886719,23804.632813,23656.207031,23336.896484,23314.199219,22978.117188,22846.507813,22630.957031,23289.314453,22961.279297,23175.890625,23809.486328,23164.318359,23947.642578,23957.529297,24402.818359,24424.068359,24319.333984,24136.972656,23883.291016,23335.998047,23212.738281,20877.552734,21166.060547,21534.121094,21398.908203,21528.087891,21395.019531,21600.904297,20260.019531,20041.738281,19616.814453,20297.994141,19796.808594,20049.763672,20127.140625,19969.771484,19832.087891,19986.712891,19812.371094,18837.667969,19290.324219,19329.833984,21381.152344,21680.539063,21769.255859,22370.449219,20296.707031,20241.089844,19701.210938,19772.583984,20127.576172,19419.505859,19544.128906,18890.789063,18547.400391,19413.550781,19297.638672,18937.011719,18802.097656,19222.671875,19110.546875,19426.720703,19573.050781,19431.789063,19312.095703,19044.107422,19623.580078,20336.84375,20160.716797,19955.443359,19546.849609,19416.568359,19446.425781,19141.484375,19051.417969,19157.445313,19382.904297,19185.65625,19067.634766,19268.09375,19550.757813,19334.416016,19139.535156,19053.740234,19172.46875,19208.189453,19567.007813,19345.572266,20095.857422,20770.441406,20285.835938,20595.351563,20818.476563,20635.603516,20495.773438,20485.273438,20159.503906,20209.988281,21147.230469,21282.691406,20926.486328,20602.816406,18541.271484,15880.780273,17586.771484,17034.292969,16799.185547,16353.365234,16618.199219,16884.613281,16669.439453,16687.517578,16697.777344,16711.546875,16291.832031,15787.28418,16189.769531,16610.707031,16604.464844,16521.841797,16464.28125,16444.626953,16217.322266,16444.982422,17168.566406,16967.132813,17088.660156,16908.236328,17130.486328,16974.826172,17089.503906,16848.126953,17233.474609,17133.152344,17128.724609,17104.193359,17206.4375,17781.318359,17815.650391,17364.865234,16887.666016],\"yaxis\":\"y\",\"type\":\"scattergl\"},{\"hovertemplate\":\"variable=train_predicted_close<br>Date=%{x}<br>Stock price=%{y}<extra></extra>\",\"legendgroup\":\"train_predicted_close\",\"line\":{\"color\":\"#EF553B\",\"dash\":\"solid\"},\"marker\":{\"symbol\":\"circle\"},\"mode\":\"lines\",\"name\":\"Train predicted close price\",\"showlegend\":true,\"x\":[\"2021-12-17\",\"2021-12-18\",\"2021-12-19\",\"2021-12-20\",\"2021-12-21\",\"2021-12-22\",\"2021-12-23\",\"2021-12-24\",\"2021-12-25\",\"2021-12-26\",\"2021-12-27\",\"2021-12-28\",\"2021-12-29\",\"2021-12-30\",\"2021-12-31\",\"2022-01-01\",\"2022-01-02\",\"2022-01-03\",\"2022-01-04\",\"2022-01-05\",\"2022-01-06\",\"2022-01-07\",\"2022-01-08\",\"2022-01-09\",\"2022-01-10\",\"2022-01-11\",\"2022-01-12\",\"2022-01-13\",\"2022-01-14\",\"2022-01-15\",\"2022-01-16\",\"2022-01-17\",\"2022-01-18\",\"2022-01-19\",\"2022-01-20\",\"2022-01-21\",\"2022-01-22\",\"2022-01-23\",\"2022-01-24\",\"2022-01-25\",\"2022-01-26\",\"2022-01-27\",\"2022-01-28\",\"2022-01-29\",\"2022-01-30\",\"2022-01-31\",\"2022-02-01\",\"2022-02-02\",\"2022-02-03\",\"2022-02-04\",\"2022-02-05\",\"2022-02-06\",\"2022-02-07\",\"2022-02-08\",\"2022-02-09\",\"2022-02-10\",\"2022-02-11\",\"2022-02-12\",\"2022-02-13\",\"2022-02-14\",\"2022-02-15\",\"2022-02-16\",\"2022-02-17\",\"2022-02-18\",\"2022-02-19\",\"2022-02-20\",\"2022-02-21\",\"2022-02-22\",\"2022-02-23\",\"2022-02-24\",\"2022-02-25\",\"2022-02-26\",\"2022-02-27\",\"2022-02-28\",\"2022-03-01\",\"2022-03-02\",\"2022-03-03\",\"2022-03-04\",\"2022-03-05\",\"2022-03-06\",\"2022-03-07\",\"2022-03-08\",\"2022-03-09\",\"2022-03-10\",\"2022-03-11\",\"2022-03-12\",\"2022-03-13\",\"2022-03-14\",\"2022-03-15\",\"2022-03-16\",\"2022-03-17\",\"2022-03-18\",\"2022-03-19\",\"2022-03-20\",\"2022-03-21\",\"2022-03-22\",\"2022-03-23\",\"2022-03-24\",\"2022-03-25\",\"2022-03-26\",\"2022-03-27\",\"2022-03-28\",\"2022-03-29\",\"2022-03-30\",\"2022-03-31\",\"2022-04-01\",\"2022-04-02\",\"2022-04-03\",\"2022-04-04\",\"2022-04-05\",\"2022-04-06\",\"2022-04-07\",\"2022-04-08\",\"2022-04-09\",\"2022-04-10\",\"2022-04-11\",\"2022-04-12\",\"2022-04-13\",\"2022-04-14\",\"2022-04-15\",\"2022-04-16\",\"2022-04-17\",\"2022-04-18\",\"2022-04-19\",\"2022-04-20\",\"2022-04-21\",\"2022-04-22\",\"2022-04-23\",\"2022-04-24\",\"2022-04-25\",\"2022-04-26\",\"2022-04-27\",\"2022-04-28\",\"2022-04-29\",\"2022-04-30\",\"2022-05-01\",\"2022-05-02\",\"2022-05-03\",\"2022-05-04\",\"2022-05-05\",\"2022-05-06\",\"2022-05-07\",\"2022-05-08\",\"2022-05-09\",\"2022-05-10\",\"2022-05-11\",\"2022-05-12\",\"2022-05-13\",\"2022-05-14\",\"2022-05-15\",\"2022-05-16\",\"2022-05-17\",\"2022-05-18\",\"2022-05-19\",\"2022-05-20\",\"2022-05-21\",\"2022-05-22\",\"2022-05-23\",\"2022-05-24\",\"2022-05-25\",\"2022-05-26\",\"2022-05-27\",\"2022-05-28\",\"2022-05-29\",\"2022-05-30\",\"2022-05-31\",\"2022-06-01\",\"2022-06-02\",\"2022-06-03\",\"2022-06-04\",\"2022-06-05\",\"2022-06-06\",\"2022-06-07\",\"2022-06-08\",\"2022-06-09\",\"2022-06-10\",\"2022-06-11\",\"2022-06-12\",\"2022-06-13\",\"2022-06-14\",\"2022-06-15\",\"2022-06-16\",\"2022-06-17\",\"2022-06-18\",\"2022-06-19\",\"2022-06-20\",\"2022-06-21\",\"2022-06-22\",\"2022-06-23\",\"2022-06-24\",\"2022-06-25\",\"2022-06-26\",\"2022-06-27\",\"2022-06-28\",\"2022-06-29\",\"2022-06-30\",\"2022-07-01\",\"2022-07-02\",\"2022-07-03\",\"2022-07-04\",\"2022-07-05\",\"2022-07-06\",\"2022-07-07\",\"2022-07-08\",\"2022-07-09\",\"2022-07-10\",\"2022-07-11\",\"2022-07-12\",\"2022-07-13\",\"2022-07-14\",\"2022-07-15\",\"2022-07-16\",\"2022-07-17\",\"2022-07-18\",\"2022-07-19\",\"2022-07-20\",\"2022-07-21\",\"2022-07-22\",\"2022-07-23\",\"2022-07-24\",\"2022-07-25\",\"2022-07-26\",\"2022-07-27\",\"2022-07-28\",\"2022-07-29\",\"2022-07-30\",\"2022-07-31\",\"2022-08-01\",\"2022-08-02\",\"2022-08-03\",\"2022-08-04\",\"2022-08-05\",\"2022-08-06\",\"2022-08-07\",\"2022-08-08\",\"2022-08-09\",\"2022-08-10\",\"2022-08-11\",\"2022-08-12\",\"2022-08-13\",\"2022-08-14\",\"2022-08-15\",\"2022-08-16\",\"2022-08-17\",\"2022-08-18\",\"2022-08-19\",\"2022-08-20\",\"2022-08-21\",\"2022-08-22\",\"2022-08-23\",\"2022-08-24\",\"2022-08-25\",\"2022-08-26\",\"2022-08-27\",\"2022-08-28\",\"2022-08-29\",\"2022-08-30\",\"2022-08-31\",\"2022-09-01\",\"2022-09-02\",\"2022-09-03\",\"2022-09-04\",\"2022-09-05\",\"2022-09-06\",\"2022-09-07\",\"2022-09-08\",\"2022-09-09\",\"2022-09-10\",\"2022-09-11\",\"2022-09-12\",\"2022-09-13\",\"2022-09-14\",\"2022-09-15\",\"2022-09-16\",\"2022-09-17\",\"2022-09-18\",\"2022-09-19\",\"2022-09-20\",\"2022-09-21\",\"2022-09-22\",\"2022-09-23\",\"2022-09-24\",\"2022-09-25\",\"2022-09-26\",\"2022-09-27\",\"2022-09-28\",\"2022-09-29\",\"2022-09-30\",\"2022-10-01\",\"2022-10-02\",\"2022-10-03\",\"2022-10-04\",\"2022-10-05\",\"2022-10-06\",\"2022-10-07\",\"2022-10-08\",\"2022-10-09\",\"2022-10-10\",\"2022-10-11\",\"2022-10-12\",\"2022-10-13\",\"2022-10-14\",\"2022-10-15\",\"2022-10-16\",\"2022-10-17\",\"2022-10-18\",\"2022-10-19\",\"2022-10-20\",\"2022-10-21\",\"2022-10-22\",\"2022-10-23\",\"2022-10-24\",\"2022-10-25\",\"2022-10-26\",\"2022-10-27\",\"2022-10-28\",\"2022-10-29\",\"2022-10-30\",\"2022-10-31\",\"2022-11-01\",\"2022-11-02\",\"2022-11-03\",\"2022-11-04\",\"2022-11-05\",\"2022-11-06\",\"2022-11-07\",\"2022-11-08\",\"2022-11-09\",\"2022-11-10\",\"2022-11-11\",\"2022-11-12\",\"2022-11-13\",\"2022-11-14\",\"2022-11-15\",\"2022-11-16\",\"2022-11-17\",\"2022-11-18\",\"2022-11-19\",\"2022-11-20\",\"2022-11-21\",\"2022-11-22\",\"2022-11-23\",\"2022-11-24\",\"2022-11-25\",\"2022-11-26\",\"2022-11-27\",\"2022-11-28\",\"2022-11-29\",\"2022-11-30\",\"2022-12-01\",\"2022-12-02\",\"2022-12-03\",\"2022-12-04\",\"2022-12-05\",\"2022-12-06\",\"2022-12-07\",\"2022-12-08\",\"2022-12-09\",\"2022-12-10\",\"2022-12-11\",\"2022-12-12\",\"2022-12-13\",\"2022-12-14\",\"2022-12-15\",\"2022-12-16\"],\"xaxis\":\"x\",\"y\":[null,null,null,null,null,null,null,null,null,null,null,null,null,null,null,45512.22265625,45749.25,45675.7265625,45003.69921875,44366.65625,42867.62890625,41915.84765625,40754.9296875,40357.859375,40292.703125,40393.984375,40969.12109375,41916.79296875,41717.13671875,41829.30078125,42096.02734375,42260.6171875,41952.51171875,41884.765625,41573.546875,40829.03125,38347.48046875,36164.30078125,35600.00390625,35483.5078125,35663.97265625,35777.2734375,36068.37890625,36538.65234375,37039.64453125,37331.29296875,37776.38671875,38167.4375,37607.2421875,37359.78125,39185.09375,40227.74609375,41013.4375,42031.0,42697.16796875,43169.78125,43184.94140625,42704.99609375,42389.8984375,42200.70703125,42215.6796875,43106.234375,43225.58984375,41586.921875,40355.859375,39896.33203125,38798.1171875,37469.7578125,37348.32421875,36822.70703125,37145.77734375,37830.546875,38140.671875,37721.1875,40014.3203125,41952.359375,42605.08984375,42238.640625,40678.6328125,40019.28515625,39296.9453125,38644.3046875,38439.26953125,39887.53125,39526.76953125,38851.23046875,38540.43359375,37950.76171875,38484.75,38743.23828125,39796.171875,40145.1328125,40748.53125,41246.6171875,41086.890625,40952.53125,41471.0234375,41999.13671875,42713.37109375,43238.703125,43558.16796875,44798.70703125,45565.87109375,46106.8515625,46233.6484375,45599.69140625,45657.140625,45505.828125,45619.703125,45709.25,45144.80859375,43629.92578125,42956.5859375,42036.8046875,41748.00390625,41295.10546875,39709.63671875,39085.8125,39469.625,39263.421875,39380.5625,39374.55078125,39147.17578125,39586.41796875,40304.19140625,40628.39453125,40289.015625,39807.81640625,39454.0625,39302.953125,39713.2578125,38780.15234375,38731.73828125,38987.78515625,38665.1171875,37968.66796875,37944.5703125,38024.85546875,37723.5703125,38480.41796875,37466.390625,36611.37890625,35835.4296875,34805.65234375,32437.83203125,31398.94921875,29735.3359375,28805.77734375,28464.849609375,28625.630859375,29268.611328125,29068.177734375,29277.884765625,28726.685546875,29179.87890625,28940.548828125,28939.361328125,29320.43359375,29080.962890625,29114.4921875,29115.9921875,28973.900390625,28618.97265625,28490.791015625,28638.05859375,29670.783203125,30311.703125,29950.931640625,30033.892578125,29771.984375,29650.5703125,29584.59375,30143.544921875,30398.501953125,30170.943359375,29986.51171875,29465.8203125,28827.45703125,27739.087890625,25306.97265625,23761.359375,22915.970703125,21442.533203125,20640.58984375,19580.302734375,19585.080078125,19633.482421875,19801.978515625,19722.498046875,20128.966796875,20484.990234375,20852.3046875,20962.04296875,20955.453125,20775.05859375,20600.130859375,20388.8203125,20047.5625,19811.61328125,19650.90234375,19875.712890625,19997.44921875,20211.421875,20715.435546875,21086.28515625,21302.1328125,21218.658203125,20874.060546875,20430.177734375,20428.779296875,20517.642578125,20652.78125,20851.41015625,20835.0078125,21413.03125,22076.447265625,22460.73828125,22711.833984375,null,null,null,null,null,null,null,null,null,null,null,null,null,null,null,null,null,null,null,null,null,null,null,null,null,null,null,null,null,null,null,null,null,null,null,null,null,null,null,null,null,null,null,null,null,null,null,null,null,null,null,null,null,null,null,null,null,null,null,null,null,null,null,null,null,null,null,null,null,null,null,null,null,null,null,null,null,null,null,null,null,null,null,null,null,null,null,null,null,null,null,null,null,null,null,null,null,null,null,null,null,null,null,null,null,null,null,null,null,null,null,null,null,null,null,null,null,null,null,null,null,null,null,null,null,null,null,null,null,null,null,null,null,null,null,null,null,null,null,null,null,null,null,null,null,null,null],\"yaxis\":\"y\",\"type\":\"scattergl\"},{\"hovertemplate\":\"variable=test_predicted_close<br>Date=%{x}<br>Stock price=%{y}<extra></extra>\",\"legendgroup\":\"test_predicted_close\",\"line\":{\"color\":\"#00cc96\",\"dash\":\"solid\"},\"marker\":{\"symbol\":\"circle\"},\"mode\":\"lines\",\"name\":\"Test predicted close price\",\"showlegend\":true,\"x\":[\"2021-12-17\",\"2021-12-18\",\"2021-12-19\",\"2021-12-20\",\"2021-12-21\",\"2021-12-22\",\"2021-12-23\",\"2021-12-24\",\"2021-12-25\",\"2021-12-26\",\"2021-12-27\",\"2021-12-28\",\"2021-12-29\",\"2021-12-30\",\"2021-12-31\",\"2022-01-01\",\"2022-01-02\",\"2022-01-03\",\"2022-01-04\",\"2022-01-05\",\"2022-01-06\",\"2022-01-07\",\"2022-01-08\",\"2022-01-09\",\"2022-01-10\",\"2022-01-11\",\"2022-01-12\",\"2022-01-13\",\"2022-01-14\",\"2022-01-15\",\"2022-01-16\",\"2022-01-17\",\"2022-01-18\",\"2022-01-19\",\"2022-01-20\",\"2022-01-21\",\"2022-01-22\",\"2022-01-23\",\"2022-01-24\",\"2022-01-25\",\"2022-01-26\",\"2022-01-27\",\"2022-01-28\",\"2022-01-29\",\"2022-01-30\",\"2022-01-31\",\"2022-02-01\",\"2022-02-02\",\"2022-02-03\",\"2022-02-04\",\"2022-02-05\",\"2022-02-06\",\"2022-02-07\",\"2022-02-08\",\"2022-02-09\",\"2022-02-10\",\"2022-02-11\",\"2022-02-12\",\"2022-02-13\",\"2022-02-14\",\"2022-02-15\",\"2022-02-16\",\"2022-02-17\",\"2022-02-18\",\"2022-02-19\",\"2022-02-20\",\"2022-02-21\",\"2022-02-22\",\"2022-02-23\",\"2022-02-24\",\"2022-02-25\",\"2022-02-26\",\"2022-02-27\",\"2022-02-28\",\"2022-03-01\",\"2022-03-02\",\"2022-03-03\",\"2022-03-04\",\"2022-03-05\",\"2022-03-06\",\"2022-03-07\",\"2022-03-08\",\"2022-03-09\",\"2022-03-10\",\"2022-03-11\",\"2022-03-12\",\"2022-03-13\",\"2022-03-14\",\"2022-03-15\",\"2022-03-16\",\"2022-03-17\",\"2022-03-18\",\"2022-03-19\",\"2022-03-20\",\"2022-03-21\",\"2022-03-22\",\"2022-03-23\",\"2022-03-24\",\"2022-03-25\",\"2022-03-26\",\"2022-03-27\",\"2022-03-28\",\"2022-03-29\",\"2022-03-30\",\"2022-03-31\",\"2022-04-01\",\"2022-04-02\",\"2022-04-03\",\"2022-04-04\",\"2022-04-05\",\"2022-04-06\",\"2022-04-07\",\"2022-04-08\",\"2022-04-09\",\"2022-04-10\",\"2022-04-11\",\"2022-04-12\",\"2022-04-13\",\"2022-04-14\",\"2022-04-15\",\"2022-04-16\",\"2022-04-17\",\"2022-04-18\",\"2022-04-19\",\"2022-04-20\",\"2022-04-21\",\"2022-04-22\",\"2022-04-23\",\"2022-04-24\",\"2022-04-25\",\"2022-04-26\",\"2022-04-27\",\"2022-04-28\",\"2022-04-29\",\"2022-04-30\",\"2022-05-01\",\"2022-05-02\",\"2022-05-03\",\"2022-05-04\",\"2022-05-05\",\"2022-05-06\",\"2022-05-07\",\"2022-05-08\",\"2022-05-09\",\"2022-05-10\",\"2022-05-11\",\"2022-05-12\",\"2022-05-13\",\"2022-05-14\",\"2022-05-15\",\"2022-05-16\",\"2022-05-17\",\"2022-05-18\",\"2022-05-19\",\"2022-05-20\",\"2022-05-21\",\"2022-05-22\",\"2022-05-23\",\"2022-05-24\",\"2022-05-25\",\"2022-05-26\",\"2022-05-27\",\"2022-05-28\",\"2022-05-29\",\"2022-05-30\",\"2022-05-31\",\"2022-06-01\",\"2022-06-02\",\"2022-06-03\",\"2022-06-04\",\"2022-06-05\",\"2022-06-06\",\"2022-06-07\",\"2022-06-08\",\"2022-06-09\",\"2022-06-10\",\"2022-06-11\",\"2022-06-12\",\"2022-06-13\",\"2022-06-14\",\"2022-06-15\",\"2022-06-16\",\"2022-06-17\",\"2022-06-18\",\"2022-06-19\",\"2022-06-20\",\"2022-06-21\",\"2022-06-22\",\"2022-06-23\",\"2022-06-24\",\"2022-06-25\",\"2022-06-26\",\"2022-06-27\",\"2022-06-28\",\"2022-06-29\",\"2022-06-30\",\"2022-07-01\",\"2022-07-02\",\"2022-07-03\",\"2022-07-04\",\"2022-07-05\",\"2022-07-06\",\"2022-07-07\",\"2022-07-08\",\"2022-07-09\",\"2022-07-10\",\"2022-07-11\",\"2022-07-12\",\"2022-07-13\",\"2022-07-14\",\"2022-07-15\",\"2022-07-16\",\"2022-07-17\",\"2022-07-18\",\"2022-07-19\",\"2022-07-20\",\"2022-07-21\",\"2022-07-22\",\"2022-07-23\",\"2022-07-24\",\"2022-07-25\",\"2022-07-26\",\"2022-07-27\",\"2022-07-28\",\"2022-07-29\",\"2022-07-30\",\"2022-07-31\",\"2022-08-01\",\"2022-08-02\",\"2022-08-03\",\"2022-08-04\",\"2022-08-05\",\"2022-08-06\",\"2022-08-07\",\"2022-08-08\",\"2022-08-09\",\"2022-08-10\",\"2022-08-11\",\"2022-08-12\",\"2022-08-13\",\"2022-08-14\",\"2022-08-15\",\"2022-08-16\",\"2022-08-17\",\"2022-08-18\",\"2022-08-19\",\"2022-08-20\",\"2022-08-21\",\"2022-08-22\",\"2022-08-23\",\"2022-08-24\",\"2022-08-25\",\"2022-08-26\",\"2022-08-27\",\"2022-08-28\",\"2022-08-29\",\"2022-08-30\",\"2022-08-31\",\"2022-09-01\",\"2022-09-02\",\"2022-09-03\",\"2022-09-04\",\"2022-09-05\",\"2022-09-06\",\"2022-09-07\",\"2022-09-08\",\"2022-09-09\",\"2022-09-10\",\"2022-09-11\",\"2022-09-12\",\"2022-09-13\",\"2022-09-14\",\"2022-09-15\",\"2022-09-16\",\"2022-09-17\",\"2022-09-18\",\"2022-09-19\",\"2022-09-20\",\"2022-09-21\",\"2022-09-22\",\"2022-09-23\",\"2022-09-24\",\"2022-09-25\",\"2022-09-26\",\"2022-09-27\",\"2022-09-28\",\"2022-09-29\",\"2022-09-30\",\"2022-10-01\",\"2022-10-02\",\"2022-10-03\",\"2022-10-04\",\"2022-10-05\",\"2022-10-06\",\"2022-10-07\",\"2022-10-08\",\"2022-10-09\",\"2022-10-10\",\"2022-10-11\",\"2022-10-12\",\"2022-10-13\",\"2022-10-14\",\"2022-10-15\",\"2022-10-16\",\"2022-10-17\",\"2022-10-18\",\"2022-10-19\",\"2022-10-20\",\"2022-10-21\",\"2022-10-22\",\"2022-10-23\",\"2022-10-24\",\"2022-10-25\",\"2022-10-26\",\"2022-10-27\",\"2022-10-28\",\"2022-10-29\",\"2022-10-30\",\"2022-10-31\",\"2022-11-01\",\"2022-11-02\",\"2022-11-03\",\"2022-11-04\",\"2022-11-05\",\"2022-11-06\",\"2022-11-07\",\"2022-11-08\",\"2022-11-09\",\"2022-11-10\",\"2022-11-11\",\"2022-11-12\",\"2022-11-13\",\"2022-11-14\",\"2022-11-15\",\"2022-11-16\",\"2022-11-17\",\"2022-11-18\",\"2022-11-19\",\"2022-11-20\",\"2022-11-21\",\"2022-11-22\",\"2022-11-23\",\"2022-11-24\",\"2022-11-25\",\"2022-11-26\",\"2022-11-27\",\"2022-11-28\",\"2022-11-29\",\"2022-11-30\",\"2022-12-01\",\"2022-12-02\",\"2022-12-03\",\"2022-12-04\",\"2022-12-05\",\"2022-12-06\",\"2022-12-07\",\"2022-12-08\",\"2022-12-09\",\"2022-12-10\",\"2022-12-11\",\"2022-12-12\",\"2022-12-13\",\"2022-12-14\",\"2022-12-15\",\"2022-12-16\"],\"xaxis\":\"x\",\"y\":[null,null,null,null,null,null,null,null,null,null,null,null,null,null,null,null,null,null,null,null,null,null,null,null,null,null,null,null,null,null,null,null,null,null,null,null,null,null,null,null,null,null,null,null,null,null,null,null,null,null,null,null,null,null,null,null,null,null,null,null,null,null,null,null,null,null,null,null,null,null,null,null,null,null,null,null,null,null,null,null,null,null,null,null,null,null,null,null,null,null,null,null,null,null,null,null,null,null,null,null,null,null,null,null,null,null,null,null,null,null,null,null,null,null,null,null,null,null,null,null,null,null,null,null,null,null,null,null,null,null,null,null,null,null,null,null,null,null,null,null,null,null,null,null,null,null,null,null,null,null,null,null,null,null,null,null,null,null,null,null,null,null,null,null,null,null,null,null,null,null,null,null,null,null,null,null,null,null,null,null,null,null,null,null,null,null,null,null,null,null,null,null,null,null,null,null,null,null,null,null,null,null,null,null,null,null,null,null,null,null,null,null,null,null,null,null,null,null,null,null,null,null,null,null,null,null,null,null,null,null,null,null,null,null,22931.357421875,23173.16015625,23076.53125,23290.193359375,23439.041015625,23713.95703125,23900.173828125,23991.2109375,23987.12890625,23895.748046875,23629.79296875,23409.171875,22401.875,21884.369140625,21642.306640625,21424.109375,21338.736328125,21232.4140625,21261.787109375,20817.8359375,20499.91015625,20157.43359375,20192.26171875,20039.83203125,20059.744140625,20101.541015625,20094.068359375,20022.41015625,20037.890625,19999.451171875,19651.4140625,19603.875,19576.271484375,20259.126953125,20767.611328125,21143.638671875,21603.513671875,21217.814453125,20973.67578125,20615.287109375,20396.115234375,20353.564453125,20067.9296875,19931.92578125,19606.12109375,19264.83984375,19338.4140625,19330.056640625,19236.95703125,19161.498046875,19265.939453125,19315.95703125,19442.3203125,19575.005859375,19614.53515625,19611.43359375,19528.41796875,19664.61328125,19981.50390625,20115.51171875,20140.96875,20034.740234375,19922.806640625,19848.240234375,19687.216796875,19553.3203125,19494.96875,19530.421875,19485.83203125,19421.177734375,19445.41796875,19549.0859375,19551.09375,19505.556640625,19453.197265625,19458.7890625,19468.361328125,19593.638671875,19598.806640625,19854.705078125,20235.220703125,20323.138671875,20501.46484375,20686.076171875,20741.455078125,20735.203125,20727.701171875,20603.7421875,20532.6953125,20789.56640625,20983.099609375,20990.19140625,20891.3671875,20121.9453125,18732.498046875,18434.3515625,17988.931640625,17632.6640625,17264.16796875,17131.55859375,17143.5,17094.31640625,17092.150390625,17117.65625,17172.822265625,17100.470703125,16915.54296875,16939.767578125,17068.69921875,17121.0546875,17154.17578125,17159.728515625,17158.458984375,17081.302734375,17108.837890625,17356.9921875,17448.048828125,17557.3046875,17573.67578125,17659.26953125,17656.84765625,17685.455078125,17625.11328125,17713.390625,17730.66015625,17740.5,17736.08984375,17762.984375,17957.873046875,18090.458984375,null],\"yaxis\":\"y\",\"type\":\"scattergl\"}],                        {\"template\":{\"data\":{\"bar\":[{\"error_x\":{\"color\":\"#2a3f5f\"},\"error_y\":{\"color\":\"#2a3f5f\"},\"marker\":{\"line\":{\"color\":\"#E5ECF6\",\"width\":0.5},\"pattern\":{\"fillmode\":\"overlay\",\"size\":10,\"solidity\":0.2}},\"type\":\"bar\"}],\"barpolar\":[{\"marker\":{\"line\":{\"color\":\"#E5ECF6\",\"width\":0.5},\"pattern\":{\"fillmode\":\"overlay\",\"size\":10,\"solidity\":0.2}},\"type\":\"barpolar\"}],\"carpet\":[{\"aaxis\":{\"endlinecolor\":\"#2a3f5f\",\"gridcolor\":\"white\",\"linecolor\":\"white\",\"minorgridcolor\":\"white\",\"startlinecolor\":\"#2a3f5f\"},\"baxis\":{\"endlinecolor\":\"#2a3f5f\",\"gridcolor\":\"white\",\"linecolor\":\"white\",\"minorgridcolor\":\"white\",\"startlinecolor\":\"#2a3f5f\"},\"type\":\"carpet\"}],\"choropleth\":[{\"colorbar\":{\"outlinewidth\":0,\"ticks\":\"\"},\"type\":\"choropleth\"}],\"contour\":[{\"colorbar\":{\"outlinewidth\":0,\"ticks\":\"\"},\"colorscale\":[[0.0,\"#0d0887\"],[0.1111111111111111,\"#46039f\"],[0.2222222222222222,\"#7201a8\"],[0.3333333333333333,\"#9c179e\"],[0.4444444444444444,\"#bd3786\"],[0.5555555555555556,\"#d8576b\"],[0.6666666666666666,\"#ed7953\"],[0.7777777777777778,\"#fb9f3a\"],[0.8888888888888888,\"#fdca26\"],[1.0,\"#f0f921\"]],\"type\":\"contour\"}],\"contourcarpet\":[{\"colorbar\":{\"outlinewidth\":0,\"ticks\":\"\"},\"type\":\"contourcarpet\"}],\"heatmap\":[{\"colorbar\":{\"outlinewidth\":0,\"ticks\":\"\"},\"colorscale\":[[0.0,\"#0d0887\"],[0.1111111111111111,\"#46039f\"],[0.2222222222222222,\"#7201a8\"],[0.3333333333333333,\"#9c179e\"],[0.4444444444444444,\"#bd3786\"],[0.5555555555555556,\"#d8576b\"],[0.6666666666666666,\"#ed7953\"],[0.7777777777777778,\"#fb9f3a\"],[0.8888888888888888,\"#fdca26\"],[1.0,\"#f0f921\"]],\"type\":\"heatmap\"}],\"heatmapgl\":[{\"colorbar\":{\"outlinewidth\":0,\"ticks\":\"\"},\"colorscale\":[[0.0,\"#0d0887\"],[0.1111111111111111,\"#46039f\"],[0.2222222222222222,\"#7201a8\"],[0.3333333333333333,\"#9c179e\"],[0.4444444444444444,\"#bd3786\"],[0.5555555555555556,\"#d8576b\"],[0.6666666666666666,\"#ed7953\"],[0.7777777777777778,\"#fb9f3a\"],[0.8888888888888888,\"#fdca26\"],[1.0,\"#f0f921\"]],\"type\":\"heatmapgl\"}],\"histogram\":[{\"marker\":{\"pattern\":{\"fillmode\":\"overlay\",\"size\":10,\"solidity\":0.2}},\"type\":\"histogram\"}],\"histogram2d\":[{\"colorbar\":{\"outlinewidth\":0,\"ticks\":\"\"},\"colorscale\":[[0.0,\"#0d0887\"],[0.1111111111111111,\"#46039f\"],[0.2222222222222222,\"#7201a8\"],[0.3333333333333333,\"#9c179e\"],[0.4444444444444444,\"#bd3786\"],[0.5555555555555556,\"#d8576b\"],[0.6666666666666666,\"#ed7953\"],[0.7777777777777778,\"#fb9f3a\"],[0.8888888888888888,\"#fdca26\"],[1.0,\"#f0f921\"]],\"type\":\"histogram2d\"}],\"histogram2dcontour\":[{\"colorbar\":{\"outlinewidth\":0,\"ticks\":\"\"},\"colorscale\":[[0.0,\"#0d0887\"],[0.1111111111111111,\"#46039f\"],[0.2222222222222222,\"#7201a8\"],[0.3333333333333333,\"#9c179e\"],[0.4444444444444444,\"#bd3786\"],[0.5555555555555556,\"#d8576b\"],[0.6666666666666666,\"#ed7953\"],[0.7777777777777778,\"#fb9f3a\"],[0.8888888888888888,\"#fdca26\"],[1.0,\"#f0f921\"]],\"type\":\"histogram2dcontour\"}],\"mesh3d\":[{\"colorbar\":{\"outlinewidth\":0,\"ticks\":\"\"},\"type\":\"mesh3d\"}],\"parcoords\":[{\"line\":{\"colorbar\":{\"outlinewidth\":0,\"ticks\":\"\"}},\"type\":\"parcoords\"}],\"pie\":[{\"automargin\":true,\"type\":\"pie\"}],\"scatter\":[{\"marker\":{\"colorbar\":{\"outlinewidth\":0,\"ticks\":\"\"}},\"type\":\"scatter\"}],\"scatter3d\":[{\"line\":{\"colorbar\":{\"outlinewidth\":0,\"ticks\":\"\"}},\"marker\":{\"colorbar\":{\"outlinewidth\":0,\"ticks\":\"\"}},\"type\":\"scatter3d\"}],\"scattercarpet\":[{\"marker\":{\"colorbar\":{\"outlinewidth\":0,\"ticks\":\"\"}},\"type\":\"scattercarpet\"}],\"scattergeo\":[{\"marker\":{\"colorbar\":{\"outlinewidth\":0,\"ticks\":\"\"}},\"type\":\"scattergeo\"}],\"scattergl\":[{\"marker\":{\"colorbar\":{\"outlinewidth\":0,\"ticks\":\"\"}},\"type\":\"scattergl\"}],\"scattermapbox\":[{\"marker\":{\"colorbar\":{\"outlinewidth\":0,\"ticks\":\"\"}},\"type\":\"scattermapbox\"}],\"scatterpolar\":[{\"marker\":{\"colorbar\":{\"outlinewidth\":0,\"ticks\":\"\"}},\"type\":\"scatterpolar\"}],\"scatterpolargl\":[{\"marker\":{\"colorbar\":{\"outlinewidth\":0,\"ticks\":\"\"}},\"type\":\"scatterpolargl\"}],\"scatterternary\":[{\"marker\":{\"colorbar\":{\"outlinewidth\":0,\"ticks\":\"\"}},\"type\":\"scatterternary\"}],\"surface\":[{\"colorbar\":{\"outlinewidth\":0,\"ticks\":\"\"},\"colorscale\":[[0.0,\"#0d0887\"],[0.1111111111111111,\"#46039f\"],[0.2222222222222222,\"#7201a8\"],[0.3333333333333333,\"#9c179e\"],[0.4444444444444444,\"#bd3786\"],[0.5555555555555556,\"#d8576b\"],[0.6666666666666666,\"#ed7953\"],[0.7777777777777778,\"#fb9f3a\"],[0.8888888888888888,\"#fdca26\"],[1.0,\"#f0f921\"]],\"type\":\"surface\"}],\"table\":[{\"cells\":{\"fill\":{\"color\":\"#EBF0F8\"},\"line\":{\"color\":\"white\"}},\"header\":{\"fill\":{\"color\":\"#C8D4E3\"},\"line\":{\"color\":\"white\"}},\"type\":\"table\"}]},\"layout\":{\"annotationdefaults\":{\"arrowcolor\":\"#2a3f5f\",\"arrowhead\":0,\"arrowwidth\":1},\"autotypenumbers\":\"strict\",\"coloraxis\":{\"colorbar\":{\"outlinewidth\":0,\"ticks\":\"\"}},\"colorscale\":{\"diverging\":[[0,\"#8e0152\"],[0.1,\"#c51b7d\"],[0.2,\"#de77ae\"],[0.3,\"#f1b6da\"],[0.4,\"#fde0ef\"],[0.5,\"#f7f7f7\"],[0.6,\"#e6f5d0\"],[0.7,\"#b8e186\"],[0.8,\"#7fbc41\"],[0.9,\"#4d9221\"],[1,\"#276419\"]],\"sequential\":[[0.0,\"#0d0887\"],[0.1111111111111111,\"#46039f\"],[0.2222222222222222,\"#7201a8\"],[0.3333333333333333,\"#9c179e\"],[0.4444444444444444,\"#bd3786\"],[0.5555555555555556,\"#d8576b\"],[0.6666666666666666,\"#ed7953\"],[0.7777777777777778,\"#fb9f3a\"],[0.8888888888888888,\"#fdca26\"],[1.0,\"#f0f921\"]],\"sequentialminus\":[[0.0,\"#0d0887\"],[0.1111111111111111,\"#46039f\"],[0.2222222222222222,\"#7201a8\"],[0.3333333333333333,\"#9c179e\"],[0.4444444444444444,\"#bd3786\"],[0.5555555555555556,\"#d8576b\"],[0.6666666666666666,\"#ed7953\"],[0.7777777777777778,\"#fb9f3a\"],[0.8888888888888888,\"#fdca26\"],[1.0,\"#f0f921\"]]},\"colorway\":[\"#636efa\",\"#EF553B\",\"#00cc96\",\"#ab63fa\",\"#FFA15A\",\"#19d3f3\",\"#FF6692\",\"#B6E880\",\"#FF97FF\",\"#FECB52\"],\"font\":{\"color\":\"#2a3f5f\"},\"geo\":{\"bgcolor\":\"white\",\"lakecolor\":\"white\",\"landcolor\":\"#E5ECF6\",\"showlakes\":true,\"showland\":true,\"subunitcolor\":\"white\"},\"hoverlabel\":{\"align\":\"left\"},\"hovermode\":\"closest\",\"mapbox\":{\"style\":\"light\"},\"paper_bgcolor\":\"white\",\"plot_bgcolor\":\"#E5ECF6\",\"polar\":{\"angularaxis\":{\"gridcolor\":\"white\",\"linecolor\":\"white\",\"ticks\":\"\"},\"bgcolor\":\"#E5ECF6\",\"radialaxis\":{\"gridcolor\":\"white\",\"linecolor\":\"white\",\"ticks\":\"\"}},\"scene\":{\"xaxis\":{\"backgroundcolor\":\"#E5ECF6\",\"gridcolor\":\"white\",\"gridwidth\":2,\"linecolor\":\"white\",\"showbackground\":true,\"ticks\":\"\",\"zerolinecolor\":\"white\"},\"yaxis\":{\"backgroundcolor\":\"#E5ECF6\",\"gridcolor\":\"white\",\"gridwidth\":2,\"linecolor\":\"white\",\"showbackground\":true,\"ticks\":\"\",\"zerolinecolor\":\"white\"},\"zaxis\":{\"backgroundcolor\":\"#E5ECF6\",\"gridcolor\":\"white\",\"gridwidth\":2,\"linecolor\":\"white\",\"showbackground\":true,\"ticks\":\"\",\"zerolinecolor\":\"white\"}},\"shapedefaults\":{\"line\":{\"color\":\"#2a3f5f\"}},\"ternary\":{\"aaxis\":{\"gridcolor\":\"white\",\"linecolor\":\"white\",\"ticks\":\"\"},\"baxis\":{\"gridcolor\":\"white\",\"linecolor\":\"white\",\"ticks\":\"\"},\"bgcolor\":\"#E5ECF6\",\"caxis\":{\"gridcolor\":\"white\",\"linecolor\":\"white\",\"ticks\":\"\"}},\"title\":{\"x\":0.05},\"xaxis\":{\"automargin\":true,\"gridcolor\":\"white\",\"linecolor\":\"white\",\"ticks\":\"\",\"title\":{\"standoff\":15},\"zerolinecolor\":\"white\",\"zerolinewidth\":2},\"yaxis\":{\"automargin\":true,\"gridcolor\":\"white\",\"linecolor\":\"white\",\"ticks\":\"\",\"title\":{\"standoff\":15},\"zerolinecolor\":\"white\",\"zerolinewidth\":2}}},\"xaxis\":{\"anchor\":\"y\",\"domain\":[0.0,1.0],\"title\":{\"text\":\"Date\"},\"showgrid\":false},\"yaxis\":{\"anchor\":\"x\",\"domain\":[0.0,1.0],\"title\":{\"text\":\"Stock price\"},\"showgrid\":false},\"legend\":{\"title\":{\"text\":\"Close Price\"},\"tracegroupgap\":0},\"margin\":{\"t\":60},\"title\":{\"text\":\"Comparision between original close price vs predicted close price\"},\"font\":{\"size\":15,\"color\":\"black\"},\"plot_bgcolor\":\"white\"},                        {\"responsive\": true}                    ).then(function(){\n",
       "                            \n",
       "var gd = document.getElementById('26deefaf-6eec-47aa-b82c-5c3ba4c6b834');\n",
       "var x = new MutationObserver(function (mutations, observer) {{\n",
       "        var display = window.getComputedStyle(gd).display;\n",
       "        if (!display || display === 'none') {{\n",
       "            console.log([gd, 'removed!']);\n",
       "            Plotly.purge(gd);\n",
       "            observer.disconnect();\n",
       "        }}\n",
       "}});\n",
       "\n",
       "// Listen for the removal of the full notebook cells\n",
       "var notebookContainer = gd.closest('#notebook-container');\n",
       "if (notebookContainer) {{\n",
       "    x.observe(notebookContainer, {childList: true});\n",
       "}}\n",
       "\n",
       "// Listen for the clearing of the current output cell\n",
       "var outputEl = gd.closest('.output');\n",
       "if (outputEl) {{\n",
       "    x.observe(outputEl, {childList: true});\n",
       "}}\n",
       "\n",
       "                        })                };                            </script>        </div>\n",
       "</body>\n",
       "</html>"
      ]
     },
     "metadata": {},
     "output_type": "display_data"
    }
   ],
   "source": [
    "# shift train predictions for plotting\n",
    "\n",
    "look_back=time_step\n",
    "trainPredictPlot = np.empty_like(closedf)\n",
    "trainPredictPlot[:, :] = np.nan\n",
    "trainPredictPlot[look_back:len(train_predict)+look_back, :] = train_predict\n",
    "print(\"Train predicted data: \", trainPredictPlot.shape)\n",
    "\n",
    "# shift test predictions for plotting\n",
    "\n",
    "testPredictPlot = np.empty_like(closedf)\n",
    "testPredictPlot[:, :] = np.nan\n",
    "testPredictPlot[len(train_predict)+(look_back*2)+1:len(closedf)-1, :] = test_predict\n",
    "print(\"Test predicted data: \", testPredictPlot.shape)\n",
    "\n",
    "names = cycle(['Original close price','Train predicted close price','Test predicted close price'])\n",
    "\n",
    "\n",
    "plotdf = pd.DataFrame({'date': close_stock['Date'],\n",
    "                       'original_close': close_stock['Close'],\n",
    "                      'train_predicted_close': trainPredictPlot.reshape(1,-1)[0].tolist(),\n",
    "                      'test_predicted_close': testPredictPlot.reshape(1,-1)[0].tolist()})\n",
    "\n",
    "fig = px.line(plotdf,x=plotdf['date'], y=[plotdf['original_close'],plotdf['train_predicted_close'],\n",
    "                                          plotdf['test_predicted_close']],\n",
    "              labels={'value':'Stock price','date': 'Date'})\n",
    "fig.update_layout(title_text='Comparision between original close price vs predicted close price',\n",
    "                  plot_bgcolor='white', font_size=15, font_color='black', legend_title_text='Close Price')\n",
    "fig.for_each_trace(lambda t:  t.update(name = next(names)))\n",
    "\n",
    "fig.update_xaxes(showgrid=False)\n",
    "fig.update_yaxes(showgrid=False)\n",
    "fig.show()"
   ]
  },
  {
   "cell_type": "markdown",
   "metadata": {
    "id": "nqd3Q-Y-cuD_"
   },
   "source": [
    "<h3><b> Predicting next 30 days <b></h3>"
   ]
  },
  {
   "cell_type": "code",
   "execution_count": 25,
   "metadata": {
    "colab": {
     "base_uri": "https://localhost:8080/",
     "height": 612
    },
    "id": "OJusn3BYfSe0",
    "outputId": "546f6c37-5a97-4f26-bb0e-c7ba5d5cdd6e"
   },
   "outputs": [
    {
     "name": "stdout",
     "output_type": "stream",
     "text": [
      "Output of predicted next days:  30\n",
      "[ 1  2  3  4  5  6  7  8  9 10 11 12 13 14 15]\n",
      "[16 17 18 19 20 21 22 23 24 25 26 27 28 29 30 31 32 33 34 35 36 37 38 39\n",
      " 40 41 42 43 44 45]\n"
     ]
    },
    {
     "data": {
      "text/html": [
       "<html>\n",
       "<head><meta charset=\"utf-8\" /></head>\n",
       "<body>\n",
       "    <div>            <script src=\"https://cdnjs.cloudflare.com/ajax/libs/mathjax/2.7.5/MathJax.js?config=TeX-AMS-MML_SVG\"></script><script type=\"text/javascript\">if (window.MathJax) {MathJax.Hub.Config({SVG: {font: \"STIX-Web\"}});}</script>                <script type=\"text/javascript\">window.PlotlyConfig = {MathJaxConfig: 'local'};</script>\n",
       "        <script src=\"https://cdn.plot.ly/plotly-2.8.3.min.js\"></script>                <div id=\"058f1d09-79e9-4697-962d-6eabf5b4d6e1\" class=\"plotly-graph-div\" style=\"height:525px; width:100%;\"></div>            <script type=\"text/javascript\">                                    window.PLOTLYENV=window.PLOTLYENV || {};                                    if (document.getElementById(\"058f1d09-79e9-4697-962d-6eabf5b4d6e1\")) {                    Plotly.newPlot(                        \"058f1d09-79e9-4697-962d-6eabf5b4d6e1\",                        [{\"hovertemplate\":\"variable=last_original_days_value<br>Timestamp=%{x}<br>Stock price=%{y}<extra></extra>\",\"legendgroup\":\"last_original_days_value\",\"line\":{\"color\":\"#636efa\",\"dash\":\"solid\"},\"marker\":{\"symbol\":\"circle\"},\"mode\":\"lines\",\"name\":\"Last 15 days close price\",\"orientation\":\"v\",\"showlegend\":true,\"x\":[0,1,2,3,4,5,6,7,8,9,10,11,12,13,14,15,16,17,18,19,20,21,22,23,24,25,26,27,28,29,30,31,32,33,34,35,36,37,38,39,40,41,42,43,44,45],\"xaxis\":\"x\",\"y\":[17088.660156,16908.236328,17130.486328,16974.826172,17089.503906,16848.126953,17233.474609,17133.152344,17128.724609,17104.193359,17206.4375,17781.318359,17815.650390999996,17364.865234,16887.666016,null,17866.244848700102,18066.893196881738,18241.87755533488,18416.51422125645,18587.393615181525,18756.150831717994,18917.622950008645,19077.65261414807,19230.83571116257,19377.24611266358,19515.776527570837,19647.16410581614,19777.035880359643,19900.270695212785,20010.258998880265,20104.331233163648,20198.601328512294,20286.799334019157,20368.940911509984,20445.30640766563,20516.202272209863,20581.94644020533,20642.833876036915,20699.212794297044,20751.37868143146,20799.626501825045,20844.21676384605,20885.419372958157,20923.569492232342,20958.939115375728],\"yaxis\":\"y\",\"type\":\"scatter\"},{\"hovertemplate\":\"variable=next_predicted_days_value<br>Timestamp=%{x}<br>Stock price=%{y}<extra></extra>\",\"legendgroup\":\"next_predicted_days_value\",\"line\":{\"color\":\"#EF553B\",\"dash\":\"solid\"},\"marker\":{\"symbol\":\"circle\"},\"mode\":\"lines\",\"name\":\"Predicted next 30 days close price\",\"orientation\":\"v\",\"showlegend\":true,\"x\":[0,1,2,3,4,5,6,7,8,9,10,11,12,13,14,15,16,17,18,19,20,21,22,23,24,25,26,27,28,29,30,31,32,33,34,35,36,37,38,39,40,41,42,43,44,45],\"xaxis\":\"x\",\"y\":[17088.660156,16908.236328,17130.486328,16974.826172,17089.503906,16848.126953,17233.474609,17133.152344,17128.724609,17104.193359,17206.4375,17781.318359,17815.650390999996,17364.865234,16887.666016,null,17866.244848700102,18066.893196881738,18241.87755533488,18416.51422125645,18587.393615181525,18756.150831717994,18917.622950008645,19077.65261414807,19230.83571116257,19377.24611266358,19515.776527570837,19647.16410581614,19777.035880359643,19900.270695212785,20010.258998880265,20104.331233163648,20198.601328512294,20286.799334019157,20368.940911509984,20445.30640766563,20516.202272209863,20581.94644020533,20642.833876036915,20699.212794297044,20751.37868143146,20799.626501825045,20844.21676384605,20885.419372958157,20923.569492232342,20958.939115375728],\"yaxis\":\"y\",\"type\":\"scatter\"}],                        {\"template\":{\"data\":{\"bar\":[{\"error_x\":{\"color\":\"#2a3f5f\"},\"error_y\":{\"color\":\"#2a3f5f\"},\"marker\":{\"line\":{\"color\":\"#E5ECF6\",\"width\":0.5},\"pattern\":{\"fillmode\":\"overlay\",\"size\":10,\"solidity\":0.2}},\"type\":\"bar\"}],\"barpolar\":[{\"marker\":{\"line\":{\"color\":\"#E5ECF6\",\"width\":0.5},\"pattern\":{\"fillmode\":\"overlay\",\"size\":10,\"solidity\":0.2}},\"type\":\"barpolar\"}],\"carpet\":[{\"aaxis\":{\"endlinecolor\":\"#2a3f5f\",\"gridcolor\":\"white\",\"linecolor\":\"white\",\"minorgridcolor\":\"white\",\"startlinecolor\":\"#2a3f5f\"},\"baxis\":{\"endlinecolor\":\"#2a3f5f\",\"gridcolor\":\"white\",\"linecolor\":\"white\",\"minorgridcolor\":\"white\",\"startlinecolor\":\"#2a3f5f\"},\"type\":\"carpet\"}],\"choropleth\":[{\"colorbar\":{\"outlinewidth\":0,\"ticks\":\"\"},\"type\":\"choropleth\"}],\"contour\":[{\"colorbar\":{\"outlinewidth\":0,\"ticks\":\"\"},\"colorscale\":[[0.0,\"#0d0887\"],[0.1111111111111111,\"#46039f\"],[0.2222222222222222,\"#7201a8\"],[0.3333333333333333,\"#9c179e\"],[0.4444444444444444,\"#bd3786\"],[0.5555555555555556,\"#d8576b\"],[0.6666666666666666,\"#ed7953\"],[0.7777777777777778,\"#fb9f3a\"],[0.8888888888888888,\"#fdca26\"],[1.0,\"#f0f921\"]],\"type\":\"contour\"}],\"contourcarpet\":[{\"colorbar\":{\"outlinewidth\":0,\"ticks\":\"\"},\"type\":\"contourcarpet\"}],\"heatmap\":[{\"colorbar\":{\"outlinewidth\":0,\"ticks\":\"\"},\"colorscale\":[[0.0,\"#0d0887\"],[0.1111111111111111,\"#46039f\"],[0.2222222222222222,\"#7201a8\"],[0.3333333333333333,\"#9c179e\"],[0.4444444444444444,\"#bd3786\"],[0.5555555555555556,\"#d8576b\"],[0.6666666666666666,\"#ed7953\"],[0.7777777777777778,\"#fb9f3a\"],[0.8888888888888888,\"#fdca26\"],[1.0,\"#f0f921\"]],\"type\":\"heatmap\"}],\"heatmapgl\":[{\"colorbar\":{\"outlinewidth\":0,\"ticks\":\"\"},\"colorscale\":[[0.0,\"#0d0887\"],[0.1111111111111111,\"#46039f\"],[0.2222222222222222,\"#7201a8\"],[0.3333333333333333,\"#9c179e\"],[0.4444444444444444,\"#bd3786\"],[0.5555555555555556,\"#d8576b\"],[0.6666666666666666,\"#ed7953\"],[0.7777777777777778,\"#fb9f3a\"],[0.8888888888888888,\"#fdca26\"],[1.0,\"#f0f921\"]],\"type\":\"heatmapgl\"}],\"histogram\":[{\"marker\":{\"pattern\":{\"fillmode\":\"overlay\",\"size\":10,\"solidity\":0.2}},\"type\":\"histogram\"}],\"histogram2d\":[{\"colorbar\":{\"outlinewidth\":0,\"ticks\":\"\"},\"colorscale\":[[0.0,\"#0d0887\"],[0.1111111111111111,\"#46039f\"],[0.2222222222222222,\"#7201a8\"],[0.3333333333333333,\"#9c179e\"],[0.4444444444444444,\"#bd3786\"],[0.5555555555555556,\"#d8576b\"],[0.6666666666666666,\"#ed7953\"],[0.7777777777777778,\"#fb9f3a\"],[0.8888888888888888,\"#fdca26\"],[1.0,\"#f0f921\"]],\"type\":\"histogram2d\"}],\"histogram2dcontour\":[{\"colorbar\":{\"outlinewidth\":0,\"ticks\":\"\"},\"colorscale\":[[0.0,\"#0d0887\"],[0.1111111111111111,\"#46039f\"],[0.2222222222222222,\"#7201a8\"],[0.3333333333333333,\"#9c179e\"],[0.4444444444444444,\"#bd3786\"],[0.5555555555555556,\"#d8576b\"],[0.6666666666666666,\"#ed7953\"],[0.7777777777777778,\"#fb9f3a\"],[0.8888888888888888,\"#fdca26\"],[1.0,\"#f0f921\"]],\"type\":\"histogram2dcontour\"}],\"mesh3d\":[{\"colorbar\":{\"outlinewidth\":0,\"ticks\":\"\"},\"type\":\"mesh3d\"}],\"parcoords\":[{\"line\":{\"colorbar\":{\"outlinewidth\":0,\"ticks\":\"\"}},\"type\":\"parcoords\"}],\"pie\":[{\"automargin\":true,\"type\":\"pie\"}],\"scatter\":[{\"marker\":{\"colorbar\":{\"outlinewidth\":0,\"ticks\":\"\"}},\"type\":\"scatter\"}],\"scatter3d\":[{\"line\":{\"colorbar\":{\"outlinewidth\":0,\"ticks\":\"\"}},\"marker\":{\"colorbar\":{\"outlinewidth\":0,\"ticks\":\"\"}},\"type\":\"scatter3d\"}],\"scattercarpet\":[{\"marker\":{\"colorbar\":{\"outlinewidth\":0,\"ticks\":\"\"}},\"type\":\"scattercarpet\"}],\"scattergeo\":[{\"marker\":{\"colorbar\":{\"outlinewidth\":0,\"ticks\":\"\"}},\"type\":\"scattergeo\"}],\"scattergl\":[{\"marker\":{\"colorbar\":{\"outlinewidth\":0,\"ticks\":\"\"}},\"type\":\"scattergl\"}],\"scattermapbox\":[{\"marker\":{\"colorbar\":{\"outlinewidth\":0,\"ticks\":\"\"}},\"type\":\"scattermapbox\"}],\"scatterpolar\":[{\"marker\":{\"colorbar\":{\"outlinewidth\":0,\"ticks\":\"\"}},\"type\":\"scatterpolar\"}],\"scatterpolargl\":[{\"marker\":{\"colorbar\":{\"outlinewidth\":0,\"ticks\":\"\"}},\"type\":\"scatterpolargl\"}],\"scatterternary\":[{\"marker\":{\"colorbar\":{\"outlinewidth\":0,\"ticks\":\"\"}},\"type\":\"scatterternary\"}],\"surface\":[{\"colorbar\":{\"outlinewidth\":0,\"ticks\":\"\"},\"colorscale\":[[0.0,\"#0d0887\"],[0.1111111111111111,\"#46039f\"],[0.2222222222222222,\"#7201a8\"],[0.3333333333333333,\"#9c179e\"],[0.4444444444444444,\"#bd3786\"],[0.5555555555555556,\"#d8576b\"],[0.6666666666666666,\"#ed7953\"],[0.7777777777777778,\"#fb9f3a\"],[0.8888888888888888,\"#fdca26\"],[1.0,\"#f0f921\"]],\"type\":\"surface\"}],\"table\":[{\"cells\":{\"fill\":{\"color\":\"#EBF0F8\"},\"line\":{\"color\":\"white\"}},\"header\":{\"fill\":{\"color\":\"#C8D4E3\"},\"line\":{\"color\":\"white\"}},\"type\":\"table\"}]},\"layout\":{\"annotationdefaults\":{\"arrowcolor\":\"#2a3f5f\",\"arrowhead\":0,\"arrowwidth\":1},\"autotypenumbers\":\"strict\",\"coloraxis\":{\"colorbar\":{\"outlinewidth\":0,\"ticks\":\"\"}},\"colorscale\":{\"diverging\":[[0,\"#8e0152\"],[0.1,\"#c51b7d\"],[0.2,\"#de77ae\"],[0.3,\"#f1b6da\"],[0.4,\"#fde0ef\"],[0.5,\"#f7f7f7\"],[0.6,\"#e6f5d0\"],[0.7,\"#b8e186\"],[0.8,\"#7fbc41\"],[0.9,\"#4d9221\"],[1,\"#276419\"]],\"sequential\":[[0.0,\"#0d0887\"],[0.1111111111111111,\"#46039f\"],[0.2222222222222222,\"#7201a8\"],[0.3333333333333333,\"#9c179e\"],[0.4444444444444444,\"#bd3786\"],[0.5555555555555556,\"#d8576b\"],[0.6666666666666666,\"#ed7953\"],[0.7777777777777778,\"#fb9f3a\"],[0.8888888888888888,\"#fdca26\"],[1.0,\"#f0f921\"]],\"sequentialminus\":[[0.0,\"#0d0887\"],[0.1111111111111111,\"#46039f\"],[0.2222222222222222,\"#7201a8\"],[0.3333333333333333,\"#9c179e\"],[0.4444444444444444,\"#bd3786\"],[0.5555555555555556,\"#d8576b\"],[0.6666666666666666,\"#ed7953\"],[0.7777777777777778,\"#fb9f3a\"],[0.8888888888888888,\"#fdca26\"],[1.0,\"#f0f921\"]]},\"colorway\":[\"#636efa\",\"#EF553B\",\"#00cc96\",\"#ab63fa\",\"#FFA15A\",\"#19d3f3\",\"#FF6692\",\"#B6E880\",\"#FF97FF\",\"#FECB52\"],\"font\":{\"color\":\"#2a3f5f\"},\"geo\":{\"bgcolor\":\"white\",\"lakecolor\":\"white\",\"landcolor\":\"#E5ECF6\",\"showlakes\":true,\"showland\":true,\"subunitcolor\":\"white\"},\"hoverlabel\":{\"align\":\"left\"},\"hovermode\":\"closest\",\"mapbox\":{\"style\":\"light\"},\"paper_bgcolor\":\"white\",\"plot_bgcolor\":\"#E5ECF6\",\"polar\":{\"angularaxis\":{\"gridcolor\":\"white\",\"linecolor\":\"white\",\"ticks\":\"\"},\"bgcolor\":\"#E5ECF6\",\"radialaxis\":{\"gridcolor\":\"white\",\"linecolor\":\"white\",\"ticks\":\"\"}},\"scene\":{\"xaxis\":{\"backgroundcolor\":\"#E5ECF6\",\"gridcolor\":\"white\",\"gridwidth\":2,\"linecolor\":\"white\",\"showbackground\":true,\"ticks\":\"\",\"zerolinecolor\":\"white\"},\"yaxis\":{\"backgroundcolor\":\"#E5ECF6\",\"gridcolor\":\"white\",\"gridwidth\":2,\"linecolor\":\"white\",\"showbackground\":true,\"ticks\":\"\",\"zerolinecolor\":\"white\"},\"zaxis\":{\"backgroundcolor\":\"#E5ECF6\",\"gridcolor\":\"white\",\"gridwidth\":2,\"linecolor\":\"white\",\"showbackground\":true,\"ticks\":\"\",\"zerolinecolor\":\"white\"}},\"shapedefaults\":{\"line\":{\"color\":\"#2a3f5f\"}},\"ternary\":{\"aaxis\":{\"gridcolor\":\"white\",\"linecolor\":\"white\",\"ticks\":\"\"},\"baxis\":{\"gridcolor\":\"white\",\"linecolor\":\"white\",\"ticks\":\"\"},\"bgcolor\":\"#E5ECF6\",\"caxis\":{\"gridcolor\":\"white\",\"linecolor\":\"white\",\"ticks\":\"\"}},\"title\":{\"x\":0.05},\"xaxis\":{\"automargin\":true,\"gridcolor\":\"white\",\"linecolor\":\"white\",\"ticks\":\"\",\"title\":{\"standoff\":15},\"zerolinecolor\":\"white\",\"zerolinewidth\":2},\"yaxis\":{\"automargin\":true,\"gridcolor\":\"white\",\"linecolor\":\"white\",\"ticks\":\"\",\"title\":{\"standoff\":15},\"zerolinecolor\":\"white\",\"zerolinewidth\":2}}},\"xaxis\":{\"anchor\":\"y\",\"domain\":[0.0,1.0],\"title\":{\"text\":\"Timestamp\"},\"showgrid\":false},\"yaxis\":{\"anchor\":\"x\",\"domain\":[0.0,1.0],\"title\":{\"text\":\"Stock price\"},\"showgrid\":false},\"legend\":{\"title\":{\"text\":\"Close Price\"},\"tracegroupgap\":0},\"margin\":{\"t\":60},\"title\":{\"text\":\"Compare last 15 days vs next 30 days\"},\"font\":{\"size\":15,\"color\":\"black\"},\"plot_bgcolor\":\"white\"},                        {\"responsive\": true}                    ).then(function(){\n",
       "                            \n",
       "var gd = document.getElementById('058f1d09-79e9-4697-962d-6eabf5b4d6e1');\n",
       "var x = new MutationObserver(function (mutations, observer) {{\n",
       "        var display = window.getComputedStyle(gd).display;\n",
       "        if (!display || display === 'none') {{\n",
       "            console.log([gd, 'removed!']);\n",
       "            Plotly.purge(gd);\n",
       "            observer.disconnect();\n",
       "        }}\n",
       "}});\n",
       "\n",
       "// Listen for the removal of the full notebook cells\n",
       "var notebookContainer = gd.closest('#notebook-container');\n",
       "if (notebookContainer) {{\n",
       "    x.observe(notebookContainer, {childList: true});\n",
       "}}\n",
       "\n",
       "// Listen for the clearing of the current output cell\n",
       "var outputEl = gd.closest('.output');\n",
       "if (outputEl) {{\n",
       "    x.observe(outputEl, {childList: true});\n",
       "}}\n",
       "\n",
       "                        })                };                            </script>        </div>\n",
       "</body>\n",
       "</html>"
      ]
     },
     "metadata": {},
     "output_type": "display_data"
    }
   ],
   "source": [
    "x_input=test_data[len(test_data)-time_step:].reshape(1,-1)\n",
    "temp_input=list(x_input)\n",
    "temp_input=temp_input[0].tolist()\n",
    "\n",
    "from numpy import array\n",
    "\n",
    "lst_output=[]\n",
    "n_steps=time_step\n",
    "i=0\n",
    "pred_days = 30\n",
    "while(i<pred_days):\n",
    "    \n",
    "    if(len(temp_input)>time_step):\n",
    "        \n",
    "        x_input=np.array(temp_input[1:])\n",
    "        #print(\"{} day input {}\".format(i,x_input))\n",
    "        x_input = x_input.reshape(1,-1)\n",
    "        x_input = x_input.reshape((1, n_steps, 1))\n",
    "        \n",
    "        yhat = model.predict(x_input, verbose=0)\n",
    "        #print(\"{} day output {}\".format(i,yhat))\n",
    "        temp_input.extend(yhat[0].tolist())\n",
    "        temp_input=temp_input[1:]\n",
    "        #print(temp_input)\n",
    "       \n",
    "        lst_output.extend(yhat.tolist())\n",
    "        i=i+1\n",
    "        \n",
    "    else:\n",
    "        \n",
    "        x_input = x_input.reshape((1, n_steps,1))\n",
    "        yhat = model.predict(x_input, verbose=0)\n",
    "        temp_input.extend(yhat[0].tolist())\n",
    "        \n",
    "        lst_output.extend(yhat.tolist())\n",
    "        i=i+1\n",
    "               \n",
    "print(\"Output of predicted next days: \", len(lst_output))\n",
    "\n",
    "last_days=np.arange(1,time_step+1)\n",
    "day_pred=np.arange(time_step+1,time_step+pred_days+1)\n",
    "print(last_days)\n",
    "print(day_pred)\n",
    "\n",
    "temp_mat = np.empty((len(last_days)+pred_days+1,1))\n",
    "temp_mat[:] = np.nan\n",
    "temp_mat = temp_mat.reshape(1,-1).tolist()[0]\n",
    "\n",
    "last_original_days_value = temp_mat\n",
    "next_predicted_days_value = temp_mat\n",
    "\n",
    "last_original_days_value[0:time_step+1] = scaler.inverse_transform(closedf[len(closedf)-time_step:]).reshape(1,-1).tolist()[0]\n",
    "next_predicted_days_value[time_step+1:] = scaler.inverse_transform(np.array(lst_output).reshape(-1,1)).reshape(1,-1).tolist()[0]\n",
    "\n",
    "new_pred_plot = pd.DataFrame({\n",
    "    'last_original_days_value':last_original_days_value,\n",
    "    'next_predicted_days_value':next_predicted_days_value\n",
    "})\n",
    "\n",
    "names = cycle(['Last 15 days close price','Predicted next 30 days close price'])\n",
    "\n",
    "fig = px.line(new_pred_plot,x=new_pred_plot.index, y=[new_pred_plot['last_original_days_value'],\n",
    "                                                      new_pred_plot['next_predicted_days_value']],\n",
    "              labels={'value': 'Stock price','index': 'Timestamp'})\n",
    "fig.update_layout(title_text='Compare last 15 days vs next 30 days',\n",
    "                  plot_bgcolor='white', font_size=15, font_color='black',legend_title_text='Close Price')\n",
    "\n",
    "fig.for_each_trace(lambda t:  t.update(name = next(names)))\n",
    "fig.update_xaxes(showgrid=False)\n",
    "fig.update_yaxes(showgrid=False)\n",
    "fig.show()"
   ]
  },
  {
   "cell_type": "markdown",
   "metadata": {
    "id": "FqTpSqWffvG1"
   },
   "source": [
    "<h3><b>Plotting entire Closing Stock Price with next 30 days period of prediction</b></h3>"
   ]
  },
  {
   "cell_type": "code",
   "execution_count": 26,
   "metadata": {
    "colab": {
     "base_uri": "https://localhost:8080/",
     "height": 542
    },
    "id": "gr4Q2J44fuu8",
    "outputId": "968cd2e2-cf02-49fe-c63f-ae7fb2b82bcc"
   },
   "outputs": [
    {
     "data": {
      "text/html": [
       "<html>\n",
       "<head><meta charset=\"utf-8\" /></head>\n",
       "<body>\n",
       "    <div>            <script src=\"https://cdnjs.cloudflare.com/ajax/libs/mathjax/2.7.5/MathJax.js?config=TeX-AMS-MML_SVG\"></script><script type=\"text/javascript\">if (window.MathJax) {MathJax.Hub.Config({SVG: {font: \"STIX-Web\"}});}</script>                <script type=\"text/javascript\">window.PlotlyConfig = {MathJaxConfig: 'local'};</script>\n",
       "        <script src=\"https://cdn.plot.ly/plotly-2.8.3.min.js\"></script>                <div id=\"a9e86fad-f48f-4004-9864-2ba1d097117f\" class=\"plotly-graph-div\" style=\"height:525px; width:100%;\"></div>            <script type=\"text/javascript\">                                    window.PLOTLYENV=window.PLOTLYENV || {};                                    if (document.getElementById(\"a9e86fad-f48f-4004-9864-2ba1d097117f\")) {                    Plotly.newPlot(                        \"a9e86fad-f48f-4004-9864-2ba1d097117f\",                        [{\"hovertemplate\":\"variable=0<br>Timestamp=%{x}<br>Stock price=%{y}<extra></extra>\",\"legendgroup\":\"0\",\"line\":{\"color\":\"#636efa\",\"dash\":\"solid\"},\"marker\":{\"symbol\":\"circle\"},\"mode\":\"lines\",\"name\":\"Close price\",\"orientation\":\"v\",\"showlegend\":true,\"x\":[0,1,2,3,4,5,6,7,8,9,10,11,12,13,14,15,16,17,18,19,20,21,22,23,24,25,26,27,28,29,30,31,32,33,34,35,36,37,38,39,40,41,42,43,44,45,46,47,48,49,50,51,52,53,54,55,56,57,58,59,60,61,62,63,64,65,66,67,68,69,70,71,72,73,74,75,76,77,78,79,80,81,82,83,84,85,86,87,88,89,90,91,92,93,94,95,96,97,98,99,100,101,102,103,104,105,106,107,108,109,110,111,112,113,114,115,116,117,118,119,120,121,122,123,124,125,126,127,128,129,130,131,132,133,134,135,136,137,138,139,140,141,142,143,144,145,146,147,148,149,150,151,152,153,154,155,156,157,158,159,160,161,162,163,164,165,166,167,168,169,170,171,172,173,174,175,176,177,178,179,180,181,182,183,184,185,186,187,188,189,190,191,192,193,194,195,196,197,198,199,200,201,202,203,204,205,206,207,208,209,210,211,212,213,214,215,216,217,218,219,220,221,222,223,224,225,226,227,228,229,230,231,232,233,234,235,236,237,238,239,240,241,242,243,244,245,246,247,248,249,250,251,252,253,254,255,256,257,258,259,260,261,262,263,264,265,266,267,268,269,270,271,272,273,274,275,276,277,278,279,280,281,282,283,284,285,286,287,288,289,290,291,292,293,294,295,296,297,298,299,300,301,302,303,304,305,306,307,308,309,310,311,312,313,314,315,316,317,318,319,320,321,322,323,324,325,326,327,328,329,330,331,332,333,334,335,336,337,338,339,340,341,342,343,344,345,346,347,348,349,350,351,352,353,354,355,356,357,358,359,360,361,362,363,364,365,366,367,368,369,370,371,372,373,374,375,376,377,378,379,380,381,382,383,384,385,386,387,388,389,390,391,392,393,394],\"xaxis\":\"x\",\"y\":[46202.144531,46848.777344,46707.015625,46880.277344,48936.613281,48628.511719,50784.539063,50822.195313,50429.859375,50809.515625,50640.417969,47588.855469,46444.710938,47178.125,46306.445313,47686.8125,47345.21875,46458.117188,45897.574219,43569.003906,43160.929688000004,41557.902344,41733.941406,41911.601563,41821.261719,42735.855469,43949.101563,42591.570313,43099.699219,43177.398438,43113.878906,42250.550781,42375.632813,41744.328125,40680.417969,36457.316406,35030.25,36276.804688,36654.32812499999,36954.003906,36852.121093999995,37138.234375,37784.332031000005,38138.179688,37917.601563,38483.125,38743.273438,36952.984375,37154.601563,41500.875,41441.164063,42412.433594,43840.285156,44118.445313,44338.796875,43565.113281,42407.93750000001,42244.46875,42197.515625,42586.917969,44575.203125,43961.859375,40538.011719,40030.976563,40122.15625,38431.378906,37075.28125,38286.027344,37296.570313,38332.609375,39214.21875,39105.148438,37709.78515599999,43193.234375,44354.636719,43924.117188,42451.789063,39137.605468999995,39400.585938,38419.984375,38062.039063,38737.269531,41982.925781,39437.460938,38794.972656,38904.011719,37849.664063,39666.753906,39338.785156000005,41143.929688,40951.378906,41801.15625,42190.652344,41247.824219,41077.996094,42358.808594,42892.957031,43960.933594,44348.730469,44500.828125,46820.492188,47128.003906,47465.730469,47062.664063,45538.675781,46281.644531000005,45868.949218999995,46453.566406,46622.675781,45555.992188,43206.738281,43503.847656,42287.664063,42782.136719,42207.671875,39521.902344,40127.183594,41166.730468999995,39935.515625,40553.464844,40424.484375,39716.953125,40826.214844,41502.75,41374.378906,40527.363281,39740.320313,39486.730469,39469.292969,40458.308594,38117.460938,39241.12109400001,39773.828125,38609.824219,37714.87499999999,38469.09375,38529.328125,37750.453125,39698.371094,36575.140625,36040.921875,35501.953125,34059.265625,30296.953125,31022.90625,28936.355469,29047.751953,29283.103516,30101.265625,31305.113281,29862.917969,30425.857421999997,28720.271484,30314.333984,29200.740234,29432.226563,30323.722656,29098.910156,29655.585938,29562.361328,29267.224609,28627.574219000002,28814.900391,29445.957031,31726.390625,31792.310547,29799.080078,30467.488281000005,29704.390625000004,29832.914063,29906.662109,31370.671875,31155.478516,30214.355469,30111.998047,29083.804688,28360.810547,26762.648438,22487.388672,22206.792969,22572.839844,20381.650391,20471.482422,19017.642578,20553.271484,20599.537109,20710.597656,19987.029297,21085.876953,21231.65625,21502.337891,21027.294922,20735.478516,20280.634766,20104.023438,19784.726563000004,19269.367188,19242.255859,19297.076172,20231.261719,20190.115234,20548.246094,21637.587891000003,21731.117188,21592.207031,20860.449219,19970.556641,19323.914063,20212.074219,20569.919922,20836.328125,21190.316406,20779.34375,22485.689453,23389.433594,23231.732422,23164.628906,22714.978516,22465.478516,22609.164063,21361.701172,21239.753906,22930.548828,23843.886719,23804.632813,23656.207031,23336.896484,23314.199219,22978.117188,22846.507813,22630.957031,23289.314453,22961.279297,23175.890625,23809.486328,23164.318359,23947.642578,23957.529297,24402.818359,24424.068359,24319.333984,24136.972656,23883.291016,23335.998047,23212.738281,20877.552734,21166.060547,21534.121094,21398.908203,21528.087891,21395.019531,21600.904297,20260.019531,20041.738281,19616.814453,20297.994141,19796.808594,20049.763672,20127.140625,19969.771484,19832.087891,19986.712891,19812.371094,18837.667969,19290.324219,19329.833984,21381.152344,21680.539063,21769.255859,22370.449219,20296.707031,20241.089844,19701.210938,19772.583984,20127.576172,19419.505859,19544.128906,18890.789063,18547.400391,19413.550781,19297.638672,18937.011719,18802.097656,19222.671875,19110.546875,19426.720703,19573.050781,19431.789063,19312.095703,19044.107422,19623.580078,20336.84375,20160.716797,19955.443359,19546.849609,19416.568359,19446.425781,19141.484375,19051.417969,19157.445312999997,19382.904297,19185.65625,19067.634766,19268.09375,19550.757813,19334.416016,19139.535156,19053.740234,19172.468749999996,19208.189453,19567.007813,19345.572266,20095.857422,20770.441406,20285.835938,20595.351563,20818.476563,20635.603516,20495.773438,20485.273438,20159.503906,20209.988281,21147.230469,21282.691406,20926.486328000003,20602.816406,18541.271484,15880.780273,17586.771484,17034.292969,16799.185547,16353.365234,16618.199219,16884.613281,16669.439453,16687.517578,16697.777344,16711.546875,16291.832031,15787.284180000002,16189.769531,16610.707031,16604.464844,16521.841797,16464.28125,16444.626953,16217.322265999997,16444.982422,17168.566406,16967.132813,17088.660156,16908.236328,17130.486328,16974.826172,17089.503906,16848.126953,17233.474609,17133.152344,17128.724609,17104.193359,17206.4375,17781.318359,17815.650390999996,17364.865234,16887.666016,17866.244848700102,18066.893196881738,18241.87755533488,18416.51422125645,18587.393615181525,18756.150831717994,18917.622950008645,19077.65261414807,19230.83571116257,19377.24611266358,19515.776527570837,19647.16410581614,19777.035880359643,19900.270695212785,20010.258998880265,20104.331233163648,20198.601328512294,20286.799334019157,20368.940911509984,20445.30640766563,20516.202272209863,20581.94644020533,20642.833876036915,20699.212794297044,20751.37868143146,20799.626501825045,20844.21676384605,20885.419372958157,20923.569492232342,20958.939115375728],\"yaxis\":\"y\",\"type\":\"scatter\"}],                        {\"template\":{\"data\":{\"bar\":[{\"error_x\":{\"color\":\"#2a3f5f\"},\"error_y\":{\"color\":\"#2a3f5f\"},\"marker\":{\"line\":{\"color\":\"#E5ECF6\",\"width\":0.5},\"pattern\":{\"fillmode\":\"overlay\",\"size\":10,\"solidity\":0.2}},\"type\":\"bar\"}],\"barpolar\":[{\"marker\":{\"line\":{\"color\":\"#E5ECF6\",\"width\":0.5},\"pattern\":{\"fillmode\":\"overlay\",\"size\":10,\"solidity\":0.2}},\"type\":\"barpolar\"}],\"carpet\":[{\"aaxis\":{\"endlinecolor\":\"#2a3f5f\",\"gridcolor\":\"white\",\"linecolor\":\"white\",\"minorgridcolor\":\"white\",\"startlinecolor\":\"#2a3f5f\"},\"baxis\":{\"endlinecolor\":\"#2a3f5f\",\"gridcolor\":\"white\",\"linecolor\":\"white\",\"minorgridcolor\":\"white\",\"startlinecolor\":\"#2a3f5f\"},\"type\":\"carpet\"}],\"choropleth\":[{\"colorbar\":{\"outlinewidth\":0,\"ticks\":\"\"},\"type\":\"choropleth\"}],\"contour\":[{\"colorbar\":{\"outlinewidth\":0,\"ticks\":\"\"},\"colorscale\":[[0.0,\"#0d0887\"],[0.1111111111111111,\"#46039f\"],[0.2222222222222222,\"#7201a8\"],[0.3333333333333333,\"#9c179e\"],[0.4444444444444444,\"#bd3786\"],[0.5555555555555556,\"#d8576b\"],[0.6666666666666666,\"#ed7953\"],[0.7777777777777778,\"#fb9f3a\"],[0.8888888888888888,\"#fdca26\"],[1.0,\"#f0f921\"]],\"type\":\"contour\"}],\"contourcarpet\":[{\"colorbar\":{\"outlinewidth\":0,\"ticks\":\"\"},\"type\":\"contourcarpet\"}],\"heatmap\":[{\"colorbar\":{\"outlinewidth\":0,\"ticks\":\"\"},\"colorscale\":[[0.0,\"#0d0887\"],[0.1111111111111111,\"#46039f\"],[0.2222222222222222,\"#7201a8\"],[0.3333333333333333,\"#9c179e\"],[0.4444444444444444,\"#bd3786\"],[0.5555555555555556,\"#d8576b\"],[0.6666666666666666,\"#ed7953\"],[0.7777777777777778,\"#fb9f3a\"],[0.8888888888888888,\"#fdca26\"],[1.0,\"#f0f921\"]],\"type\":\"heatmap\"}],\"heatmapgl\":[{\"colorbar\":{\"outlinewidth\":0,\"ticks\":\"\"},\"colorscale\":[[0.0,\"#0d0887\"],[0.1111111111111111,\"#46039f\"],[0.2222222222222222,\"#7201a8\"],[0.3333333333333333,\"#9c179e\"],[0.4444444444444444,\"#bd3786\"],[0.5555555555555556,\"#d8576b\"],[0.6666666666666666,\"#ed7953\"],[0.7777777777777778,\"#fb9f3a\"],[0.8888888888888888,\"#fdca26\"],[1.0,\"#f0f921\"]],\"type\":\"heatmapgl\"}],\"histogram\":[{\"marker\":{\"pattern\":{\"fillmode\":\"overlay\",\"size\":10,\"solidity\":0.2}},\"type\":\"histogram\"}],\"histogram2d\":[{\"colorbar\":{\"outlinewidth\":0,\"ticks\":\"\"},\"colorscale\":[[0.0,\"#0d0887\"],[0.1111111111111111,\"#46039f\"],[0.2222222222222222,\"#7201a8\"],[0.3333333333333333,\"#9c179e\"],[0.4444444444444444,\"#bd3786\"],[0.5555555555555556,\"#d8576b\"],[0.6666666666666666,\"#ed7953\"],[0.7777777777777778,\"#fb9f3a\"],[0.8888888888888888,\"#fdca26\"],[1.0,\"#f0f921\"]],\"type\":\"histogram2d\"}],\"histogram2dcontour\":[{\"colorbar\":{\"outlinewidth\":0,\"ticks\":\"\"},\"colorscale\":[[0.0,\"#0d0887\"],[0.1111111111111111,\"#46039f\"],[0.2222222222222222,\"#7201a8\"],[0.3333333333333333,\"#9c179e\"],[0.4444444444444444,\"#bd3786\"],[0.5555555555555556,\"#d8576b\"],[0.6666666666666666,\"#ed7953\"],[0.7777777777777778,\"#fb9f3a\"],[0.8888888888888888,\"#fdca26\"],[1.0,\"#f0f921\"]],\"type\":\"histogram2dcontour\"}],\"mesh3d\":[{\"colorbar\":{\"outlinewidth\":0,\"ticks\":\"\"},\"type\":\"mesh3d\"}],\"parcoords\":[{\"line\":{\"colorbar\":{\"outlinewidth\":0,\"ticks\":\"\"}},\"type\":\"parcoords\"}],\"pie\":[{\"automargin\":true,\"type\":\"pie\"}],\"scatter\":[{\"marker\":{\"colorbar\":{\"outlinewidth\":0,\"ticks\":\"\"}},\"type\":\"scatter\"}],\"scatter3d\":[{\"line\":{\"colorbar\":{\"outlinewidth\":0,\"ticks\":\"\"}},\"marker\":{\"colorbar\":{\"outlinewidth\":0,\"ticks\":\"\"}},\"type\":\"scatter3d\"}],\"scattercarpet\":[{\"marker\":{\"colorbar\":{\"outlinewidth\":0,\"ticks\":\"\"}},\"type\":\"scattercarpet\"}],\"scattergeo\":[{\"marker\":{\"colorbar\":{\"outlinewidth\":0,\"ticks\":\"\"}},\"type\":\"scattergeo\"}],\"scattergl\":[{\"marker\":{\"colorbar\":{\"outlinewidth\":0,\"ticks\":\"\"}},\"type\":\"scattergl\"}],\"scattermapbox\":[{\"marker\":{\"colorbar\":{\"outlinewidth\":0,\"ticks\":\"\"}},\"type\":\"scattermapbox\"}],\"scatterpolar\":[{\"marker\":{\"colorbar\":{\"outlinewidth\":0,\"ticks\":\"\"}},\"type\":\"scatterpolar\"}],\"scatterpolargl\":[{\"marker\":{\"colorbar\":{\"outlinewidth\":0,\"ticks\":\"\"}},\"type\":\"scatterpolargl\"}],\"scatterternary\":[{\"marker\":{\"colorbar\":{\"outlinewidth\":0,\"ticks\":\"\"}},\"type\":\"scatterternary\"}],\"surface\":[{\"colorbar\":{\"outlinewidth\":0,\"ticks\":\"\"},\"colorscale\":[[0.0,\"#0d0887\"],[0.1111111111111111,\"#46039f\"],[0.2222222222222222,\"#7201a8\"],[0.3333333333333333,\"#9c179e\"],[0.4444444444444444,\"#bd3786\"],[0.5555555555555556,\"#d8576b\"],[0.6666666666666666,\"#ed7953\"],[0.7777777777777778,\"#fb9f3a\"],[0.8888888888888888,\"#fdca26\"],[1.0,\"#f0f921\"]],\"type\":\"surface\"}],\"table\":[{\"cells\":{\"fill\":{\"color\":\"#EBF0F8\"},\"line\":{\"color\":\"white\"}},\"header\":{\"fill\":{\"color\":\"#C8D4E3\"},\"line\":{\"color\":\"white\"}},\"type\":\"table\"}]},\"layout\":{\"annotationdefaults\":{\"arrowcolor\":\"#2a3f5f\",\"arrowhead\":0,\"arrowwidth\":1},\"autotypenumbers\":\"strict\",\"coloraxis\":{\"colorbar\":{\"outlinewidth\":0,\"ticks\":\"\"}},\"colorscale\":{\"diverging\":[[0,\"#8e0152\"],[0.1,\"#c51b7d\"],[0.2,\"#de77ae\"],[0.3,\"#f1b6da\"],[0.4,\"#fde0ef\"],[0.5,\"#f7f7f7\"],[0.6,\"#e6f5d0\"],[0.7,\"#b8e186\"],[0.8,\"#7fbc41\"],[0.9,\"#4d9221\"],[1,\"#276419\"]],\"sequential\":[[0.0,\"#0d0887\"],[0.1111111111111111,\"#46039f\"],[0.2222222222222222,\"#7201a8\"],[0.3333333333333333,\"#9c179e\"],[0.4444444444444444,\"#bd3786\"],[0.5555555555555556,\"#d8576b\"],[0.6666666666666666,\"#ed7953\"],[0.7777777777777778,\"#fb9f3a\"],[0.8888888888888888,\"#fdca26\"],[1.0,\"#f0f921\"]],\"sequentialminus\":[[0.0,\"#0d0887\"],[0.1111111111111111,\"#46039f\"],[0.2222222222222222,\"#7201a8\"],[0.3333333333333333,\"#9c179e\"],[0.4444444444444444,\"#bd3786\"],[0.5555555555555556,\"#d8576b\"],[0.6666666666666666,\"#ed7953\"],[0.7777777777777778,\"#fb9f3a\"],[0.8888888888888888,\"#fdca26\"],[1.0,\"#f0f921\"]]},\"colorway\":[\"#636efa\",\"#EF553B\",\"#00cc96\",\"#ab63fa\",\"#FFA15A\",\"#19d3f3\",\"#FF6692\",\"#B6E880\",\"#FF97FF\",\"#FECB52\"],\"font\":{\"color\":\"#2a3f5f\"},\"geo\":{\"bgcolor\":\"white\",\"lakecolor\":\"white\",\"landcolor\":\"#E5ECF6\",\"showlakes\":true,\"showland\":true,\"subunitcolor\":\"white\"},\"hoverlabel\":{\"align\":\"left\"},\"hovermode\":\"closest\",\"mapbox\":{\"style\":\"light\"},\"paper_bgcolor\":\"white\",\"plot_bgcolor\":\"#E5ECF6\",\"polar\":{\"angularaxis\":{\"gridcolor\":\"white\",\"linecolor\":\"white\",\"ticks\":\"\"},\"bgcolor\":\"#E5ECF6\",\"radialaxis\":{\"gridcolor\":\"white\",\"linecolor\":\"white\",\"ticks\":\"\"}},\"scene\":{\"xaxis\":{\"backgroundcolor\":\"#E5ECF6\",\"gridcolor\":\"white\",\"gridwidth\":2,\"linecolor\":\"white\",\"showbackground\":true,\"ticks\":\"\",\"zerolinecolor\":\"white\"},\"yaxis\":{\"backgroundcolor\":\"#E5ECF6\",\"gridcolor\":\"white\",\"gridwidth\":2,\"linecolor\":\"white\",\"showbackground\":true,\"ticks\":\"\",\"zerolinecolor\":\"white\"},\"zaxis\":{\"backgroundcolor\":\"#E5ECF6\",\"gridcolor\":\"white\",\"gridwidth\":2,\"linecolor\":\"white\",\"showbackground\":true,\"ticks\":\"\",\"zerolinecolor\":\"white\"}},\"shapedefaults\":{\"line\":{\"color\":\"#2a3f5f\"}},\"ternary\":{\"aaxis\":{\"gridcolor\":\"white\",\"linecolor\":\"white\",\"ticks\":\"\"},\"baxis\":{\"gridcolor\":\"white\",\"linecolor\":\"white\",\"ticks\":\"\"},\"bgcolor\":\"#E5ECF6\",\"caxis\":{\"gridcolor\":\"white\",\"linecolor\":\"white\",\"ticks\":\"\"}},\"title\":{\"x\":0.05},\"xaxis\":{\"automargin\":true,\"gridcolor\":\"white\",\"linecolor\":\"white\",\"ticks\":\"\",\"title\":{\"standoff\":15},\"zerolinecolor\":\"white\",\"zerolinewidth\":2},\"yaxis\":{\"automargin\":true,\"gridcolor\":\"white\",\"linecolor\":\"white\",\"ticks\":\"\",\"title\":{\"standoff\":15},\"zerolinecolor\":\"white\",\"zerolinewidth\":2}}},\"xaxis\":{\"anchor\":\"y\",\"domain\":[0.0,1.0],\"title\":{\"text\":\"Timestamp\"},\"showgrid\":false},\"yaxis\":{\"anchor\":\"x\",\"domain\":[0.0,1.0],\"title\":{\"text\":\"Stock price\"},\"showgrid\":false},\"legend\":{\"title\":{\"text\":\"Stock\"},\"tracegroupgap\":0},\"margin\":{\"t\":60},\"title\":{\"text\":\"Plotting whole closing stock price with prediction\"},\"font\":{\"size\":15,\"color\":\"black\"},\"plot_bgcolor\":\"white\"},                        {\"responsive\": true}                    ).then(function(){\n",
       "                            \n",
       "var gd = document.getElementById('a9e86fad-f48f-4004-9864-2ba1d097117f');\n",
       "var x = new MutationObserver(function (mutations, observer) {{\n",
       "        var display = window.getComputedStyle(gd).display;\n",
       "        if (!display || display === 'none') {{\n",
       "            console.log([gd, 'removed!']);\n",
       "            Plotly.purge(gd);\n",
       "            observer.disconnect();\n",
       "        }}\n",
       "}});\n",
       "\n",
       "// Listen for the removal of the full notebook cells\n",
       "var notebookContainer = gd.closest('#notebook-container');\n",
       "if (notebookContainer) {{\n",
       "    x.observe(notebookContainer, {childList: true});\n",
       "}}\n",
       "\n",
       "// Listen for the clearing of the current output cell\n",
       "var outputEl = gd.closest('.output');\n",
       "if (outputEl) {{\n",
       "    x.observe(outputEl, {childList: true});\n",
       "}}\n",
       "\n",
       "                        })                };                            </script>        </div>\n",
       "</body>\n",
       "</html>"
      ]
     },
     "metadata": {},
     "output_type": "display_data"
    }
   ],
   "source": [
    "lstmdf=closedf.tolist()\n",
    "lstmdf.extend((np.array(lst_output).reshape(-1,1)).tolist())\n",
    "lstmdf=scaler.inverse_transform(lstmdf).reshape(1,-1).tolist()[0]\n",
    "\n",
    "names = cycle(['Close price'])\n",
    "\n",
    "fig = px.line(lstmdf,labels={'value': 'Stock price','index': 'Timestamp'})\n",
    "fig.update_layout(title_text='Plotting whole closing stock price with prediction',\n",
    "                  plot_bgcolor='white', font_size=15, font_color='black',legend_title_text='Stock')\n",
    "\n",
    "fig.for_each_trace(lambda t:  t.update(name = next(names)))\n",
    "\n",
    "fig.update_xaxes(showgrid=False)\n",
    "fig.update_yaxes(showgrid=False)\n",
    "fig.show()"
   ]
  }
 ],
 "metadata": {
  "colab": {
   "provenance": []
  },
  "kernelspec": {
   "display_name": "Python 3 (ipykernel)",
   "language": "python",
   "name": "python3"
  },
  "language_info": {
   "codemirror_mode": {
    "name": "ipython",
    "version": 3
   },
   "file_extension": ".py",
   "mimetype": "text/x-python",
   "name": "python",
   "nbconvert_exporter": "python",
   "pygments_lexer": "ipython3",
   "version": "3.9.7"
  }
 },
 "nbformat": 4,
 "nbformat_minor": 1
}
